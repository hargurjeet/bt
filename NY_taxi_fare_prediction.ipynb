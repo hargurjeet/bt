{
  "nbformat": 4,
  "nbformat_minor": 0,
  "metadata": {
    "colab": {
      "name": "NY_taxi_fare_prediction.ipynb",
      "provenance": [],
      "toc_visible": true,
      "authorship_tag": "ABX9TyNVEKfvwr0pvR1pWCbZentw",
      "include_colab_link": true
    },
    "kernelspec": {
      "name": "python3",
      "display_name": "Python 3"
    },
    "language_info": {
      "name": "python"
    }
  },
  "cells": [
    {
      "cell_type": "markdown",
      "metadata": {
        "id": "view-in-github",
        "colab_type": "text"
      },
      "source": [
        "<a href=\"https://colab.research.google.com/github/hargurjeet/bt/blob/main/NY_taxi_fare_prediction.ipynb\" target=\"_parent\"><img src=\"https://colab.research.google.com/assets/colab-badge.svg\" alt=\"Open In Colab\"/></a>"
      ]
    },
    {
      "cell_type": "markdown",
      "source": [
        "# **NY City Taxi Fare Prediction**\n"
      ],
      "metadata": {
        "id": "qFDTWmArWfW8"
      }
    },
    {
      "cell_type": "markdown",
      "source": [
        "The purpose of this task is to give us a gauge of your skills and experience as a data scientist. \n",
        "\n",
        "The Following notebook is contains the details of building ML and the techniques used for the same."
      ],
      "metadata": {
        "id": "uV0kXX3f7g__"
      }
    },
    {
      "cell_type": "markdown",
      "source": [
        "# **Table Of Contents**<a name=\"top\"></a>\n",
        "\n",
        "\n",
        "---\n",
        "\n",
        "\n",
        "\n",
        "---\n",
        "\n",
        "\n",
        "  1. [About the Dataset](#1)\n",
        "  2. [Loading the dataset Preprocessing](#2)\n",
        "  3. [Explainatory Data Analysis](#3)\n",
        "  4. [Train a baseline model](#4)\n",
        "  5. [Feature Engineering](#5)\n",
        "  6. [Train and Evaluate models](#6)\n",
        "  7. [Summary](#7)\n",
        "  8. [Future Work](#8)\n",
        "  9. [Reference](#9)"
      ],
      "metadata": {
        "id": "g_Hu80pa7gYO"
      }
    },
    {
      "cell_type": "markdown",
      "source": [
        "# 1: AboutDataset <a name=\"1\"></a>\n",
        "\n",
        "\n",
        "---\n",
        "<a href=\"#top\" class=\"btn btn-primary btn-sm\" role=\"button\" aria-pressed=\"true\" style=\"color:white\" data-toggle=\"popover\">Go to TOC</a> "
      ],
      "metadata": {
        "id": "1GC1qrC87gS1"
      }
    },
    {
      "cell_type": "markdown",
      "source": [
        "New York is world famous for its bright yellow taxis. For this task you will build a model which can predict the fare of a new taxi ride. Attached is a data set which contains the following variables:\n",
        "\n",
        "- key - Unique string identifying each row in both the training and test sets. Comprised of pickup_datetime plus a unique integer, but this doesn't matter, it should just be used as a unique ID field. \n",
        "- pickup_datetime - timestamp value indicating when the taxi ride started.\n",
        "- pickup_longitude - float for longitude coordinate of where the taxi ride started.\n",
        "- pickup_latitude - float for latitude coordinate of where the taxi ride started.\n",
        "- dropoff_longitude - float for longitude coordinate of where the taxi ride ended.\n",
        "- dropoff_latitude - float for latitude coordinate of where the taxi ride ended.\n",
        "- passenger_count - integer indicating the number of passengers in the taxi ride.\n",
        "- fare_amount - float dollar amount of the cost of the taxi ride. \n"
      ],
      "metadata": {
        "id": "otesl90ZAbdH"
      }
    },
    {
      "cell_type": "markdown",
      "source": [
        "# 2: Loading the dataset Preprocessing <a name=\"2\"></a>\n",
        "\n",
        "\n",
        "---\n",
        "<a href=\"#top\" class=\"btn btn-primary btn-sm\" role=\"button\" aria-pressed=\"true\" style=\"color:white\" data-toggle=\"popover\">Go to TOC</a> "
      ],
      "metadata": {
        "id": "SFfhYExh9Qe8"
      }
    },
    {
      "cell_type": "markdown",
      "source": [
        "The dataset has been loaded on my github repo.\n",
        "\n",
        "I also import other standard imports to perfrom data pre processing, model building...etc"
      ],
      "metadata": {
        "id": "On0MHnI2AgW8"
      }
    },
    {
      "cell_type": "code",
      "execution_count": 21,
      "metadata": {
        "id": "alxz7xTRUnGk"
      },
      "outputs": [],
      "source": [
        "## Libraries to import data and preprocessing\n",
        "import pandas as pd\n",
        "import numpy as np\n",
        "\n",
        "## Libraries for model building\n",
        "from sklearn.model_selection import train_test_split\n",
        "from sklearn.metrics import mean_squared_error\n",
        "from sklearn.linear_model import LinearRegression\n",
        "from sklearn.ensemble import RandomForestRegressor\n",
        "from xgboost import XGBRegressor"
      ]
    },
    {
      "cell_type": "code",
      "source": [
        "# Required columns from the dataset.\n",
        "required_cols = ['fare_amount', 'pickup_datetime', 'pickup_longitude',\n",
        "       'pickup_latitude', 'dropoff_longitude', 'dropoff_latitude',\n",
        "       'passenger_count']\n",
        "\n",
        "# Datatupes are mapped so that pandas can parse them accordingly\n",
        "dtypes = {\n",
        "    'fare_amount' : 'float32', \n",
        "    'pickup_datetime': 'float32',\n",
        "    'pickup_longitude': 'float32',\n",
        "    'pickup_latitude': 'float32',\n",
        "    'dropoff_longitude': 'float32',\n",
        "    'dropoff_latitude': 'float32',\n",
        "    'passenger_count': 'uint8'\n",
        "}\n",
        "\n",
        "# Dataset imported from github\n",
        "file_path = 'https://raw.githubusercontent.com/hargurjeet/bt/main/ny_taxi_fare_data.csv'\n",
        "df = pd.read_csv(file_path, \n",
        "                 usecols = required_cols, \n",
        "                 parse_dates=['pickup_datetime'],\n",
        "                 dtype = dtypes)\n",
        "df.head()"
      ],
      "metadata": {
        "colab": {
          "base_uri": "https://localhost:8080/",
          "height": 206
        },
        "id": "L1vE6tNOVNuO",
        "outputId": "b53922e6-a164-4b19-f645-b2b0e5ae7940"
      },
      "execution_count": 22,
      "outputs": [
        {
          "output_type": "execute_result",
          "data": {
            "text/plain": [
              "   fare_amount           pickup_datetime  pickup_longitude  pickup_latitude  \\\n",
              "0          4.5 2009-06-15 17:26:21+00:00        -73.844315        40.721317   \n",
              "1         16.9 2010-01-05 16:52:16+00:00        -74.016045        40.711304   \n",
              "2          5.7 2011-08-18 00:35:00+00:00        -73.982735        40.761269   \n",
              "3          7.7 2012-04-21 04:30:42+00:00        -73.987129        40.733143   \n",
              "4          5.3 2010-03-09 07:51:00+00:00        -73.968094        40.768009   \n",
              "\n",
              "   dropoff_longitude  dropoff_latitude  passenger_count  \n",
              "0         -73.841614         40.712276                1  \n",
              "1         -73.979271         40.782005                1  \n",
              "2         -73.991241         40.750561                2  \n",
              "3         -73.991570         40.758091                1  \n",
              "4         -73.956657         40.783764                1  "
            ],
            "text/html": [
              "\n",
              "  <div id=\"df-89a37e72-47c6-40d5-bab2-5171388f7cda\">\n",
              "    <div class=\"colab-df-container\">\n",
              "      <div>\n",
              "<style scoped>\n",
              "    .dataframe tbody tr th:only-of-type {\n",
              "        vertical-align: middle;\n",
              "    }\n",
              "\n",
              "    .dataframe tbody tr th {\n",
              "        vertical-align: top;\n",
              "    }\n",
              "\n",
              "    .dataframe thead th {\n",
              "        text-align: right;\n",
              "    }\n",
              "</style>\n",
              "<table border=\"1\" class=\"dataframe\">\n",
              "  <thead>\n",
              "    <tr style=\"text-align: right;\">\n",
              "      <th></th>\n",
              "      <th>fare_amount</th>\n",
              "      <th>pickup_datetime</th>\n",
              "      <th>pickup_longitude</th>\n",
              "      <th>pickup_latitude</th>\n",
              "      <th>dropoff_longitude</th>\n",
              "      <th>dropoff_latitude</th>\n",
              "      <th>passenger_count</th>\n",
              "    </tr>\n",
              "  </thead>\n",
              "  <tbody>\n",
              "    <tr>\n",
              "      <th>0</th>\n",
              "      <td>4.5</td>\n",
              "      <td>2009-06-15 17:26:21+00:00</td>\n",
              "      <td>-73.844315</td>\n",
              "      <td>40.721317</td>\n",
              "      <td>-73.841614</td>\n",
              "      <td>40.712276</td>\n",
              "      <td>1</td>\n",
              "    </tr>\n",
              "    <tr>\n",
              "      <th>1</th>\n",
              "      <td>16.9</td>\n",
              "      <td>2010-01-05 16:52:16+00:00</td>\n",
              "      <td>-74.016045</td>\n",
              "      <td>40.711304</td>\n",
              "      <td>-73.979271</td>\n",
              "      <td>40.782005</td>\n",
              "      <td>1</td>\n",
              "    </tr>\n",
              "    <tr>\n",
              "      <th>2</th>\n",
              "      <td>5.7</td>\n",
              "      <td>2011-08-18 00:35:00+00:00</td>\n",
              "      <td>-73.982735</td>\n",
              "      <td>40.761269</td>\n",
              "      <td>-73.991241</td>\n",
              "      <td>40.750561</td>\n",
              "      <td>2</td>\n",
              "    </tr>\n",
              "    <tr>\n",
              "      <th>3</th>\n",
              "      <td>7.7</td>\n",
              "      <td>2012-04-21 04:30:42+00:00</td>\n",
              "      <td>-73.987129</td>\n",
              "      <td>40.733143</td>\n",
              "      <td>-73.991570</td>\n",
              "      <td>40.758091</td>\n",
              "      <td>1</td>\n",
              "    </tr>\n",
              "    <tr>\n",
              "      <th>4</th>\n",
              "      <td>5.3</td>\n",
              "      <td>2010-03-09 07:51:00+00:00</td>\n",
              "      <td>-73.968094</td>\n",
              "      <td>40.768009</td>\n",
              "      <td>-73.956657</td>\n",
              "      <td>40.783764</td>\n",
              "      <td>1</td>\n",
              "    </tr>\n",
              "  </tbody>\n",
              "</table>\n",
              "</div>\n",
              "      <button class=\"colab-df-convert\" onclick=\"convertToInteractive('df-89a37e72-47c6-40d5-bab2-5171388f7cda')\"\n",
              "              title=\"Convert this dataframe to an interactive table.\"\n",
              "              style=\"display:none;\">\n",
              "        \n",
              "  <svg xmlns=\"http://www.w3.org/2000/svg\" height=\"24px\"viewBox=\"0 0 24 24\"\n",
              "       width=\"24px\">\n",
              "    <path d=\"M0 0h24v24H0V0z\" fill=\"none\"/>\n",
              "    <path d=\"M18.56 5.44l.94 2.06.94-2.06 2.06-.94-2.06-.94-.94-2.06-.94 2.06-2.06.94zm-11 1L8.5 8.5l.94-2.06 2.06-.94-2.06-.94L8.5 2.5l-.94 2.06-2.06.94zm10 10l.94 2.06.94-2.06 2.06-.94-2.06-.94-.94-2.06-.94 2.06-2.06.94z\"/><path d=\"M17.41 7.96l-1.37-1.37c-.4-.4-.92-.59-1.43-.59-.52 0-1.04.2-1.43.59L10.3 9.45l-7.72 7.72c-.78.78-.78 2.05 0 2.83L4 21.41c.39.39.9.59 1.41.59.51 0 1.02-.2 1.41-.59l7.78-7.78 2.81-2.81c.8-.78.8-2.07 0-2.86zM5.41 20L4 18.59l7.72-7.72 1.47 1.35L5.41 20z\"/>\n",
              "  </svg>\n",
              "      </button>\n",
              "      \n",
              "  <style>\n",
              "    .colab-df-container {\n",
              "      display:flex;\n",
              "      flex-wrap:wrap;\n",
              "      gap: 12px;\n",
              "    }\n",
              "\n",
              "    .colab-df-convert {\n",
              "      background-color: #E8F0FE;\n",
              "      border: none;\n",
              "      border-radius: 50%;\n",
              "      cursor: pointer;\n",
              "      display: none;\n",
              "      fill: #1967D2;\n",
              "      height: 32px;\n",
              "      padding: 0 0 0 0;\n",
              "      width: 32px;\n",
              "    }\n",
              "\n",
              "    .colab-df-convert:hover {\n",
              "      background-color: #E2EBFA;\n",
              "      box-shadow: 0px 1px 2px rgba(60, 64, 67, 0.3), 0px 1px 3px 1px rgba(60, 64, 67, 0.15);\n",
              "      fill: #174EA6;\n",
              "    }\n",
              "\n",
              "    [theme=dark] .colab-df-convert {\n",
              "      background-color: #3B4455;\n",
              "      fill: #D2E3FC;\n",
              "    }\n",
              "\n",
              "    [theme=dark] .colab-df-convert:hover {\n",
              "      background-color: #434B5C;\n",
              "      box-shadow: 0px 1px 3px 1px rgba(0, 0, 0, 0.15);\n",
              "      filter: drop-shadow(0px 1px 2px rgba(0, 0, 0, 0.3));\n",
              "      fill: #FFFFFF;\n",
              "    }\n",
              "  </style>\n",
              "\n",
              "      <script>\n",
              "        const buttonEl =\n",
              "          document.querySelector('#df-89a37e72-47c6-40d5-bab2-5171388f7cda button.colab-df-convert');\n",
              "        buttonEl.style.display =\n",
              "          google.colab.kernel.accessAllowed ? 'block' : 'none';\n",
              "\n",
              "        async function convertToInteractive(key) {\n",
              "          const element = document.querySelector('#df-89a37e72-47c6-40d5-bab2-5171388f7cda');\n",
              "          const dataTable =\n",
              "            await google.colab.kernel.invokeFunction('convertToInteractive',\n",
              "                                                     [key], {});\n",
              "          if (!dataTable) return;\n",
              "\n",
              "          const docLinkHtml = 'Like what you see? Visit the ' +\n",
              "            '<a target=\"_blank\" href=https://colab.research.google.com/notebooks/data_table.ipynb>data table notebook</a>'\n",
              "            + ' to learn more about interactive tables.';\n",
              "          element.innerHTML = '';\n",
              "          dataTable['output_type'] = 'display_data';\n",
              "          await google.colab.output.renderOutput(dataTable, element);\n",
              "          const docLink = document.createElement('div');\n",
              "          docLink.innerHTML = docLinkHtml;\n",
              "          element.appendChild(docLink);\n",
              "        }\n",
              "      </script>\n",
              "    </div>\n",
              "  </div>\n",
              "  "
            ]
          },
          "metadata": {},
          "execution_count": 22
        }
      ]
    },
    {
      "cell_type": "code",
      "source": [
        "df.info()"
      ],
      "metadata": {
        "colab": {
          "base_uri": "https://localhost:8080/"
        },
        "id": "v1HLdW9rWW_c",
        "outputId": "3d249170-3110-414c-9689-b6c074913d6f"
      },
      "execution_count": 23,
      "outputs": [
        {
          "output_type": "stream",
          "name": "stdout",
          "text": [
            "<class 'pandas.core.frame.DataFrame'>\n",
            "RangeIndex: 50000 entries, 0 to 49999\n",
            "Data columns (total 7 columns):\n",
            " #   Column             Non-Null Count  Dtype              \n",
            "---  ------             --------------  -----              \n",
            " 0   fare_amount        50000 non-null  float32            \n",
            " 1   pickup_datetime    50000 non-null  datetime64[ns, UTC]\n",
            " 2   pickup_longitude   50000 non-null  float32            \n",
            " 3   pickup_latitude    50000 non-null  float32            \n",
            " 4   dropoff_longitude  50000 non-null  float32            \n",
            " 5   dropoff_latitude   50000 non-null  float32            \n",
            " 6   passenger_count    50000 non-null  uint8              \n",
            "dtypes: datetime64[ns, UTC](1), float32(5), uint8(1)\n",
            "memory usage: 1.4 MB\n"
          ]
        }
      ]
    },
    {
      "cell_type": "markdown",
      "source": [
        "key insights - \n",
        "- Dataset contatins no null values\n",
        "- The columns data types parsed by pandas looks fine\n",
        "- The dataset contains 50,000 records"
      ],
      "metadata": {
        "id": "GUGswPl1b-JI"
      }
    },
    {
      "cell_type": "code",
      "source": [
        "df.describe()"
      ],
      "metadata": {
        "colab": {
          "base_uri": "https://localhost:8080/",
          "height": 300
        },
        "id": "Gpe1IOnBb3Q0",
        "outputId": "c0cb451d-9f20-4186-ce41-9962acf1b975"
      },
      "execution_count": 24,
      "outputs": [
        {
          "output_type": "execute_result",
          "data": {
            "text/plain": [
              "        fare_amount  pickup_longitude  pickup_latitude  dropoff_longitude  \\\n",
              "count  50000.000000      50000.000000     50000.000000       50000.000000   \n",
              "mean      11.364215        -72.521416        39.931904         -72.517723   \n",
              "std        9.685438         10.392804         6.224685          10.406597   \n",
              "min       -5.000000        -75.423851       -74.006889         -84.654243   \n",
              "25%        6.000000        -73.992065        40.734879         -73.991150   \n",
              "50%        8.500000        -73.981842        40.752678         -73.980080   \n",
              "75%       12.500000        -73.967148        40.767361         -73.963585   \n",
              "max      200.000000         40.783470       401.083344          40.851028   \n",
              "\n",
              "       dropoff_latitude  passenger_count  \n",
              "count      50000.000000     50000.000000  \n",
              "mean          39.924244         1.667840  \n",
              "std            6.014816         1.289195  \n",
              "min          -74.006378         0.000000  \n",
              "25%           40.734371         1.000000  \n",
              "50%           40.753372         1.000000  \n",
              "75%           40.768166         2.000000  \n",
              "max           43.415192         6.000000  "
            ],
            "text/html": [
              "\n",
              "  <div id=\"df-31d91a0f-3d39-4e6c-b91d-6f6c653a888f\">\n",
              "    <div class=\"colab-df-container\">\n",
              "      <div>\n",
              "<style scoped>\n",
              "    .dataframe tbody tr th:only-of-type {\n",
              "        vertical-align: middle;\n",
              "    }\n",
              "\n",
              "    .dataframe tbody tr th {\n",
              "        vertical-align: top;\n",
              "    }\n",
              "\n",
              "    .dataframe thead th {\n",
              "        text-align: right;\n",
              "    }\n",
              "</style>\n",
              "<table border=\"1\" class=\"dataframe\">\n",
              "  <thead>\n",
              "    <tr style=\"text-align: right;\">\n",
              "      <th></th>\n",
              "      <th>fare_amount</th>\n",
              "      <th>pickup_longitude</th>\n",
              "      <th>pickup_latitude</th>\n",
              "      <th>dropoff_longitude</th>\n",
              "      <th>dropoff_latitude</th>\n",
              "      <th>passenger_count</th>\n",
              "    </tr>\n",
              "  </thead>\n",
              "  <tbody>\n",
              "    <tr>\n",
              "      <th>count</th>\n",
              "      <td>50000.000000</td>\n",
              "      <td>50000.000000</td>\n",
              "      <td>50000.000000</td>\n",
              "      <td>50000.000000</td>\n",
              "      <td>50000.000000</td>\n",
              "      <td>50000.000000</td>\n",
              "    </tr>\n",
              "    <tr>\n",
              "      <th>mean</th>\n",
              "      <td>11.364215</td>\n",
              "      <td>-72.521416</td>\n",
              "      <td>39.931904</td>\n",
              "      <td>-72.517723</td>\n",
              "      <td>39.924244</td>\n",
              "      <td>1.667840</td>\n",
              "    </tr>\n",
              "    <tr>\n",
              "      <th>std</th>\n",
              "      <td>9.685438</td>\n",
              "      <td>10.392804</td>\n",
              "      <td>6.224685</td>\n",
              "      <td>10.406597</td>\n",
              "      <td>6.014816</td>\n",
              "      <td>1.289195</td>\n",
              "    </tr>\n",
              "    <tr>\n",
              "      <th>min</th>\n",
              "      <td>-5.000000</td>\n",
              "      <td>-75.423851</td>\n",
              "      <td>-74.006889</td>\n",
              "      <td>-84.654243</td>\n",
              "      <td>-74.006378</td>\n",
              "      <td>0.000000</td>\n",
              "    </tr>\n",
              "    <tr>\n",
              "      <th>25%</th>\n",
              "      <td>6.000000</td>\n",
              "      <td>-73.992065</td>\n",
              "      <td>40.734879</td>\n",
              "      <td>-73.991150</td>\n",
              "      <td>40.734371</td>\n",
              "      <td>1.000000</td>\n",
              "    </tr>\n",
              "    <tr>\n",
              "      <th>50%</th>\n",
              "      <td>8.500000</td>\n",
              "      <td>-73.981842</td>\n",
              "      <td>40.752678</td>\n",
              "      <td>-73.980080</td>\n",
              "      <td>40.753372</td>\n",
              "      <td>1.000000</td>\n",
              "    </tr>\n",
              "    <tr>\n",
              "      <th>75%</th>\n",
              "      <td>12.500000</td>\n",
              "      <td>-73.967148</td>\n",
              "      <td>40.767361</td>\n",
              "      <td>-73.963585</td>\n",
              "      <td>40.768166</td>\n",
              "      <td>2.000000</td>\n",
              "    </tr>\n",
              "    <tr>\n",
              "      <th>max</th>\n",
              "      <td>200.000000</td>\n",
              "      <td>40.783470</td>\n",
              "      <td>401.083344</td>\n",
              "      <td>40.851028</td>\n",
              "      <td>43.415192</td>\n",
              "      <td>6.000000</td>\n",
              "    </tr>\n",
              "  </tbody>\n",
              "</table>\n",
              "</div>\n",
              "      <button class=\"colab-df-convert\" onclick=\"convertToInteractive('df-31d91a0f-3d39-4e6c-b91d-6f6c653a888f')\"\n",
              "              title=\"Convert this dataframe to an interactive table.\"\n",
              "              style=\"display:none;\">\n",
              "        \n",
              "  <svg xmlns=\"http://www.w3.org/2000/svg\" height=\"24px\"viewBox=\"0 0 24 24\"\n",
              "       width=\"24px\">\n",
              "    <path d=\"M0 0h24v24H0V0z\" fill=\"none\"/>\n",
              "    <path d=\"M18.56 5.44l.94 2.06.94-2.06 2.06-.94-2.06-.94-.94-2.06-.94 2.06-2.06.94zm-11 1L8.5 8.5l.94-2.06 2.06-.94-2.06-.94L8.5 2.5l-.94 2.06-2.06.94zm10 10l.94 2.06.94-2.06 2.06-.94-2.06-.94-.94-2.06-.94 2.06-2.06.94z\"/><path d=\"M17.41 7.96l-1.37-1.37c-.4-.4-.92-.59-1.43-.59-.52 0-1.04.2-1.43.59L10.3 9.45l-7.72 7.72c-.78.78-.78 2.05 0 2.83L4 21.41c.39.39.9.59 1.41.59.51 0 1.02-.2 1.41-.59l7.78-7.78 2.81-2.81c.8-.78.8-2.07 0-2.86zM5.41 20L4 18.59l7.72-7.72 1.47 1.35L5.41 20z\"/>\n",
              "  </svg>\n",
              "      </button>\n",
              "      \n",
              "  <style>\n",
              "    .colab-df-container {\n",
              "      display:flex;\n",
              "      flex-wrap:wrap;\n",
              "      gap: 12px;\n",
              "    }\n",
              "\n",
              "    .colab-df-convert {\n",
              "      background-color: #E8F0FE;\n",
              "      border: none;\n",
              "      border-radius: 50%;\n",
              "      cursor: pointer;\n",
              "      display: none;\n",
              "      fill: #1967D2;\n",
              "      height: 32px;\n",
              "      padding: 0 0 0 0;\n",
              "      width: 32px;\n",
              "    }\n",
              "\n",
              "    .colab-df-convert:hover {\n",
              "      background-color: #E2EBFA;\n",
              "      box-shadow: 0px 1px 2px rgba(60, 64, 67, 0.3), 0px 1px 3px 1px rgba(60, 64, 67, 0.15);\n",
              "      fill: #174EA6;\n",
              "    }\n",
              "\n",
              "    [theme=dark] .colab-df-convert {\n",
              "      background-color: #3B4455;\n",
              "      fill: #D2E3FC;\n",
              "    }\n",
              "\n",
              "    [theme=dark] .colab-df-convert:hover {\n",
              "      background-color: #434B5C;\n",
              "      box-shadow: 0px 1px 3px 1px rgba(0, 0, 0, 0.15);\n",
              "      filter: drop-shadow(0px 1px 2px rgba(0, 0, 0, 0.3));\n",
              "      fill: #FFFFFF;\n",
              "    }\n",
              "  </style>\n",
              "\n",
              "      <script>\n",
              "        const buttonEl =\n",
              "          document.querySelector('#df-31d91a0f-3d39-4e6c-b91d-6f6c653a888f button.colab-df-convert');\n",
              "        buttonEl.style.display =\n",
              "          google.colab.kernel.accessAllowed ? 'block' : 'none';\n",
              "\n",
              "        async function convertToInteractive(key) {\n",
              "          const element = document.querySelector('#df-31d91a0f-3d39-4e6c-b91d-6f6c653a888f');\n",
              "          const dataTable =\n",
              "            await google.colab.kernel.invokeFunction('convertToInteractive',\n",
              "                                                     [key], {});\n",
              "          if (!dataTable) return;\n",
              "\n",
              "          const docLinkHtml = 'Like what you see? Visit the ' +\n",
              "            '<a target=\"_blank\" href=https://colab.research.google.com/notebooks/data_table.ipynb>data table notebook</a>'\n",
              "            + ' to learn more about interactive tables.';\n",
              "          element.innerHTML = '';\n",
              "          dataTable['output_type'] = 'display_data';\n",
              "          await google.colab.output.renderOutput(dataTable, element);\n",
              "          const docLink = document.createElement('div');\n",
              "          docLink.innerHTML = docLinkHtml;\n",
              "          element.appendChild(docLink);\n",
              "        }\n",
              "      </script>\n",
              "    </div>\n",
              "  </div>\n",
              "  "
            ]
          },
          "metadata": {},
          "execution_count": 24
        }
      ]
    },
    {
      "cell_type": "code",
      "source": [
        "def min_max_date(df, date_col):\n",
        "  return df[date_col].max(), df[date_col].min()\n",
        "\n",
        "min_max_date(df, 'pickup_datetime')"
      ],
      "metadata": {
        "colab": {
          "base_uri": "https://localhost:8080/"
        },
        "id": "1DOVOa28cDZ4",
        "outputId": "31dc8582-8d09-4978-8663-ad6027a4679e"
      },
      "execution_count": 25,
      "outputs": [
        {
          "output_type": "execute_result",
          "data": {
            "text/plain": [
              "(Timestamp('2015-06-30 22:42:39+0000', tz='UTC'),\n",
              " Timestamp('2009-01-01 01:31:49+0000', tz='UTC'))"
            ]
          },
          "metadata": {},
          "execution_count": 25
        }
      ]
    },
    {
      "cell_type": "markdown",
      "source": [
        "Key Insights - \n",
        "- New york longitude and latitude is 40.73, -73.93 (source refer reference section)\n",
        "- The dataset has longitude data ranges from -75 to 40 and latitude data ranges from -74 to 43, This looks highly suspectable.\n",
        "- Considering the geographical limitations of city taxi, It would be a worth while excerise to consider records for latitude ranges from 40 - 42 and  ranges longtide from -72 to -75.\n",
        "-  A maximum amount of 5 passengers are allowed in NY city taxi (source refer  reference section), The dataset contains passanges information from 0 to 6, Hence outlier can be removed.\n",
        "-  Fare amount can not be -ve. Hence keeping only +ve values of fare amount"
      ],
      "metadata": {
        "id": "UoWknvlEB3aa"
      }
    },
    {
      "cell_type": "markdown",
      "source": [
        "# 3: Explainatory Data Analysis <a name=\"3\"></a>\n",
        "\n",
        "\n",
        "---\n",
        "<a href=\"#top\" class=\"btn btn-primary btn-sm\" role=\"button\" aria-pressed=\"true\" style=\"color:white\" data-toggle=\"popover\">Go to TOC</a> "
      ],
      "metadata": {
        "id": "mRwD8nxs9QPG"
      }
    },
    {
      "cell_type": "markdown",
      "source": [
        "I have performed EDA in a seprate notebook. To access that notebook click [here](https://colab.research.google.com/github/hargurjeet/bt/blob/main/EDA_and_Visualization_NY_city_taxi.ipynb#scrollTo=TBE7PD_EdX7o)"
      ],
      "metadata": {
        "id": "5pv3jdg2A18K"
      }
    },
    {
      "cell_type": "markdown",
      "source": [
        "# 4: Train a baseline model <a name=\"4\"></a>\n",
        "\n",
        "\n",
        "---\n",
        "<a href=\"#top\" class=\"btn btn-primary btn-sm\" role=\"button\" aria-pressed=\"true\" style=\"color:white\" data-toggle=\"popover\">Go to TOC</a> "
      ],
      "metadata": {
        "id": "vc_AfYPr9QA-"
      }
    },
    {
      "cell_type": "markdown",
      "source": [
        "We will set aside 20% of our data as validation set for evaluation of our model"
      ],
      "metadata": {
        "id": "a3YXdEEL54_H"
      }
    },
    {
      "cell_type": "code",
      "source": [
        "train_df, val_df = train_test_split(df, test_size=0.2, random_state=42)\n",
        "\n",
        "len(train_df), len(val_df)"
      ],
      "metadata": {
        "colab": {
          "base_uri": "https://localhost:8080/"
        },
        "id": "11N95lc15w_O",
        "outputId": "07be5ac0-2fc1-431c-c63d-b41ec3f7c682"
      },
      "execution_count": 26,
      "outputs": [
        {
          "output_type": "execute_result",
          "data": {
            "text/plain": [
              "(40000, 10000)"
            ]
          },
          "metadata": {},
          "execution_count": 26
        }
      ]
    },
    {
      "cell_type": "code",
      "source": [
        "input_cols = ['pickup_longitude', 'pickup_latitude','dropoff_longitude', 'dropoff_latitude', 'passenger_count']\n",
        "target_cols = 'fare_amount'\n",
        "\n",
        "train_inputs = train_df[input_cols]\n",
        "train_targets = train_df[target_cols]\n",
        "val_inputs = val_df[input_cols]\n",
        "val_targets = val_df[target_cols]"
      ],
      "metadata": {
        "id": "tp1WnFLt7eqm"
      },
      "execution_count": 27,
      "outputs": []
    },
    {
      "cell_type": "code",
      "source": [
        "class regressor():\n",
        "  def fit(self, inputs, targets):\n",
        "    self.mean = targets.mean()\n",
        "\n",
        "  def predicts(self, inputs):\n",
        "    return np.full(inputs.shape[0], self.mean)"
      ],
      "metadata": {
        "id": "bOop_6yt8Dtn"
      },
      "execution_count": 28,
      "outputs": []
    },
    {
      "cell_type": "code",
      "source": [
        "mean_model = regressor()\n",
        "mean_model.fit(train_inputs, train_targets)\n",
        "print(f'Average fare for the taxi id {mean_model.mean}')"
      ],
      "metadata": {
        "colab": {
          "base_uri": "https://localhost:8080/"
        },
        "id": "noXFfW7n-_pt",
        "outputId": "a79cca61-a52b-43b9-e706-d495d4e8eb4c"
      },
      "execution_count": 29,
      "outputs": [
        {
          "output_type": "stream",
          "name": "stdout",
          "text": [
            "Average fare for the taxi id 11.376873970031738\n"
          ]
        }
      ]
    },
    {
      "cell_type": "code",
      "source": [
        "mean_model.predicts(train_inputs)"
      ],
      "metadata": {
        "colab": {
          "base_uri": "https://localhost:8080/"
        },
        "id": "l_GHUqJ2_LnZ",
        "outputId": "05cd0ea8-a23a-4fac-a559-feec7474fbf9"
      },
      "execution_count": 30,
      "outputs": [
        {
          "output_type": "execute_result",
          "data": {
            "text/plain": [
              "array([11.37687397, 11.37687397, 11.37687397, ..., 11.37687397,\n",
              "       11.37687397, 11.37687397])"
            ]
          },
          "metadata": {},
          "execution_count": 30
        }
      ]
    },
    {
      "cell_type": "code",
      "source": [
        "train_targets"
      ],
      "metadata": {
        "colab": {
          "base_uri": "https://localhost:8080/"
        },
        "id": "LMMUBkp9AtmC",
        "outputId": "17b147dd-d90e-4e6e-d596-852180315244"
      },
      "execution_count": 31,
      "outputs": [
        {
          "output_type": "execute_result",
          "data": {
            "text/plain": [
              "39087    10.000000\n",
              "30893     4.000000\n",
              "45278     6.900000\n",
              "16398     7.700000\n",
              "13653     4.500000\n",
              "           ...    \n",
              "11284     6.500000\n",
              "44732     3.700000\n",
              "38158    12.100000\n",
              "860      12.100000\n",
              "15795    57.330002\n",
              "Name: fare_amount, Length: 40000, dtype: float32"
            ]
          },
          "metadata": {},
          "execution_count": 31
        }
      ]
    },
    {
      "cell_type": "code",
      "source": [
        "mean_model.predicts(val_inputs)"
      ],
      "metadata": {
        "colab": {
          "base_uri": "https://localhost:8080/"
        },
        "id": "OrCMnFVy_7_U",
        "outputId": "06cfa14a-f769-4422-9a00-e2c0854bd622"
      },
      "execution_count": 32,
      "outputs": [
        {
          "output_type": "execute_result",
          "data": {
            "text/plain": [
              "array([11.37687397, 11.37687397, 11.37687397, ..., 11.37687397,\n",
              "       11.37687397, 11.37687397])"
            ]
          },
          "metadata": {},
          "execution_count": 32
        }
      ]
    },
    {
      "cell_type": "code",
      "source": [
        "def rmse(targets, predicitions):\n",
        "  return mean_squared_error(targets, predicitions, squared = False)\n",
        "\n",
        "rmse(train_targets, mean_model.predicts(train_inputs))"
      ],
      "metadata": {
        "colab": {
          "base_uri": "https://localhost:8080/"
        },
        "id": "c_t-47nqAziE",
        "outputId": "1d17e793-b276-4246-d52d-4f63ba51c086"
      },
      "execution_count": 33,
      "outputs": [
        {
          "output_type": "execute_result",
          "data": {
            "text/plain": [
              "9.696218748570448"
            ]
          },
          "metadata": {},
          "execution_count": 33
        }
      ]
    },
    {
      "cell_type": "code",
      "source": [
        "## Trying linear regression\n",
        "linear_model = LinearRegression()\n",
        "linear_model.fit(train_inputs, train_targets)\n",
        "train_preds = linear_model.predict(train_inputs)\n",
        "train_preds"
      ],
      "metadata": {
        "colab": {
          "base_uri": "https://localhost:8080/"
        },
        "id": "L5cKCSETBy6N",
        "outputId": "5a47eca7-486b-4e71-95e4-789e17b98761"
      },
      "execution_count": 34,
      "outputs": [
        {
          "output_type": "execute_result",
          "data": {
            "text/plain": [
              "array([11.819403, 11.820234, 11.687607, ..., 11.41951 , 11.284868,\n",
              "       11.286995], dtype=float32)"
            ]
          },
          "metadata": {},
          "execution_count": 34
        }
      ]
    },
    {
      "cell_type": "code",
      "source": [
        "train_targets"
      ],
      "metadata": {
        "colab": {
          "base_uri": "https://localhost:8080/"
        },
        "id": "HR7MNV0iDfjh",
        "outputId": "5968c1f8-881c-4c9d-d4fe-0d3bd9bba83b"
      },
      "execution_count": 35,
      "outputs": [
        {
          "output_type": "execute_result",
          "data": {
            "text/plain": [
              "39087    10.000000\n",
              "30893     4.000000\n",
              "45278     6.900000\n",
              "16398     7.700000\n",
              "13653     4.500000\n",
              "           ...    \n",
              "11284     6.500000\n",
              "44732     3.700000\n",
              "38158    12.100000\n",
              "860      12.100000\n",
              "15795    57.330002\n",
              "Name: fare_amount, Length: 40000, dtype: float32"
            ]
          },
          "metadata": {},
          "execution_count": 35
        }
      ]
    },
    {
      "cell_type": "code",
      "source": [
        "rmse(train_targets, train_preds)"
      ],
      "metadata": {
        "colab": {
          "base_uri": "https://localhost:8080/"
        },
        "id": "IYhQQ0ltD4sL",
        "outputId": "4c21fe68-2ea5-4bef-84bb-896b3b128ce9"
      },
      "execution_count": 36,
      "outputs": [
        {
          "output_type": "execute_result",
          "data": {
            "text/plain": [
              "9.694377"
            ]
          },
          "metadata": {},
          "execution_count": 36
        }
      ]
    },
    {
      "cell_type": "code",
      "source": [
        "val_preds = linear_model.predict(val_inputs)\n",
        "rmse(val_targets, val_preds)"
      ],
      "metadata": {
        "colab": {
          "base_uri": "https://localhost:8080/"
        },
        "id": "gH2pwzFfEFR2",
        "outputId": "ad4e7bb0-1785-4aa3-b312-d3300e76a5ca"
      },
      "execution_count": 37,
      "outputs": [
        {
          "output_type": "execute_result",
          "data": {
            "text/plain": [
              "9.641011"
            ]
          },
          "metadata": {},
          "execution_count": 37
        }
      ]
    },
    {
      "cell_type": "markdown",
      "source": [
        "Conclusions - The average score is really bad. Any model we train should be better than this.\n",
        "- May the model not learning well from lat and long data\n",
        "- We are not using pickup date time, fare can be seasonal and can depend on time of the day"
      ],
      "metadata": {
        "id": "liupnoEiE0pc"
      }
    },
    {
      "cell_type": "markdown",
      "source": [
        "# 5: Feature Engineering <a name=\"5\"></a>\n",
        "\n",
        "\n",
        "---\n",
        "<a href=\"#top\" class=\"btn btn-primary btn-sm\" role=\"button\" aria-pressed=\"true\" style=\"color:white\" data-toggle=\"popover\">Go to TOC</a>"
      ],
      "metadata": {
        "id": "zVO3D0UL9P0a"
      }
    },
    {
      "cell_type": "markdown",
      "source": [
        "To work with other features we are required to pre process the remaining columns so that any analysis can be performed. Hence I think of the following approaches\n",
        "\n",
        "- Cleaning the outlier.\n",
        "- Split the datetime column to understand the trip data across Year and month.\n",
        "- Calculating the distance between the pick and drop locations.\n",
        "- Understanding the distance between drop location against the key destinaitons.\n",
        "- Key Destination\n",
        "  - Airports\n",
        "    - JFK airport\n",
        "    - LGA Airport\n",
        "    - EWR airport\n",
        "    - WTC"
      ],
      "metadata": {
        "id": "SZbg3ZBqct2y"
      }
    },
    {
      "cell_type": "code",
      "source": [
        "# Function to clean all the outliers\n",
        "print('Record Count Before Cleaning', train_df.shape, val_df.shape)\n",
        "def remove_outlier(df):\n",
        "  return df[(\n",
        "      # \"\"\" Controls long and lat ranges\n",
        "      #     Restrict passanger count between 1 to 5\n",
        "      #     set the fare price from base price \n",
        "      # \"\"\"\n",
        "\n",
        "      (df.pickup_longitude>= -75) & (df.pickup_longitude<=-72) & (df.pickup_latitude>= 40) & (df.pickup_latitude <=42) & \n",
        "      (df.dropoff_latitude>=40) & (df.dropoff_latitude<=42) & (df.dropoff_longitude>=-75) & (df.dropoff_longitude<=-72) &\n",
        "      (df.passenger_count >=1) & (df.passenger_count <=5) & (df.fare_amount>1.)\n",
        "\n",
        "  )]\n",
        "\n",
        "train_df = remove_outlier(train_df)\n",
        "val_df = remove_outlier(val_df)\n",
        "\n",
        "print('Record Count after Cleaning', train_df.shape, val_df.shape)"
      ],
      "metadata": {
        "colab": {
          "base_uri": "https://localhost:8080/"
        },
        "id": "rauratLkmAaG",
        "outputId": "05b5744b-8130-42ad-ce34-7d68fd6bf9fa"
      },
      "execution_count": 40,
      "outputs": [
        {
          "output_type": "stream",
          "name": "stdout",
          "text": [
            "Record Count Before Cleaning (40000, 7) (10000, 7)\n",
            "Record Count after Cleaning (38239, 7) (9570, 7)\n"
          ]
        }
      ]
    },
    {
      "cell_type": "code",
      "source": [
        "## Splitting data and time\n",
        "def part_of_dates(df, column):\n",
        "  \"\"\" Extrace Year, Month, day, weekday and hour from a date value \"\"\"\n",
        "  df[column+ '_year']= df[column].dt.year\n",
        "  df[column+ '_month']= df[column].dt.month\n",
        "  df[column+ '_day']= df[column].dt.day\n",
        "  df[column+ '_week']= df[column].dt.weekday\n",
        "  df[column+ '_hour']= df[column].dt.hour\n",
        "\n",
        "part_of_dates(train_df, 'pickup_datetime')\n",
        "part_of_dates(val_df, 'pickup_datetime')\n",
        "\n",
        "## using Haversin formula to calculate the distance between pickup and drop location\n",
        "def haversine_np(lon1, lat1, lon2, lat2):\n",
        "    \"\"\"\n",
        "    Calculate the great circle distance between two points\n",
        "    on the earth (specified in decimal degrees)\n",
        "\n",
        "    All args must be of equal length.    \n",
        "\n",
        "    \"\"\"\n",
        "    lon1, lat1, lon2, lat2 = map(np.radians, [lon1, lat1, lon2, lat2])\n",
        "\n",
        "    dlon = lon2 - lon1\n",
        "    dlat = lat2 - lat1\n",
        "\n",
        "    a = np.sin(dlat/2.0)**2 + np.cos(lat1) * np.cos(lat2) * np.sin(dlon/2.0)**2\n",
        "\n",
        "    c = 2 * np.arcsin(np.sqrt(a))\n",
        "    km = 6367 * c\n",
        "    return km\n",
        "\n",
        "def trip_distance(df):\n",
        "  df['trip_distance'] = haversine_np(df['pickup_longitude'],\n",
        "                                     df['pickup_latitude'],\n",
        "                                     df['dropoff_longitude'],\n",
        "                                     df['dropoff_latitude'])\n",
        "  \n",
        "trip_distance(train_df)\n",
        "trip_distance(val_df)"
      ],
      "metadata": {
        "id": "Yzl-k6ExFcTJ"
      },
      "execution_count": null,
      "outputs": []
    },
    {
      "cell_type": "code",
      "source": [
        "jfk_lonlat = -73.7781, 40.6413\n",
        "lga_lonlat = -73.8740, 40.7769\n",
        "ewr_lonlat = -74.1745, 40.6895\n",
        "wtc_lonlat = -74.0099, 40.7126\n",
        "\n",
        "def add_landmark_dropoff_distance(df, landmark_name, landmark_lonlat):\n",
        "    lon, lat = landmark_lonlat\n",
        "    df[landmark_name + '_drop_distance'] = haversine_np(lon, lat, df['dropoff_longitude'], df['dropoff_latitude'])\n",
        "\n",
        "landmarks = [('jfk', jfk_lonlat), ('lga', lga_lonlat), ('ewr', ewr_lonlat), ('wtc', wtc_lonlat)]\n",
        "for a_df in [train_df, val_df]:\n",
        "  for name, lonlat in landmarks: \n",
        "    add_landmark_dropoff_distance(a_df, name, lonlat)"
      ],
      "metadata": {
        "id": "uknK6AeGfQU0"
      },
      "execution_count": null,
      "outputs": []
    },
    {
      "cell_type": "code",
      "source": [
        "train_df.head()"
      ],
      "metadata": {
        "colab": {
          "base_uri": "https://localhost:8080/",
          "height": 356
        },
        "id": "qgN6TuwGMVku",
        "outputId": "329f7e55-8c60-47bb-c7dd-09eeda340bc0"
      },
      "execution_count": 43,
      "outputs": [
        {
          "output_type": "execute_result",
          "data": {
            "text/plain": [
              "       fare_amount           pickup_datetime  pickup_longitude  \\\n",
              "39087         10.0 2013-07-27 17:04:00+00:00        -73.974335   \n",
              "30893          4.0 2013-01-08 09:26:00+00:00        -73.973656   \n",
              "45278          6.9 2012-03-17 16:45:00+00:00        -73.975266   \n",
              "16398          7.7 2012-06-08 09:01:17+00:00        -73.983032   \n",
              "13653          4.5 2015-06-22 17:30:49+00:00        -73.986717   \n",
              "\n",
              "       pickup_latitude  dropoff_longitude  dropoff_latitude  passenger_count  \\\n",
              "39087        40.791428         -73.979034         40.766365                5   \n",
              "30893        40.751633         -73.969948         40.756702                5   \n",
              "45278        40.752281         -73.995094         40.737499                4   \n",
              "16398        40.766785         -73.971947         40.789288                1   \n",
              "13653        40.771648         -73.982140         40.770699                1   \n",
              "\n",
              "       pickup_datetime_year  pickup_datetime_month  pickup_datetime_day  \\\n",
              "39087                  2013                      7                   27   \n",
              "30893                  2013                      1                    8   \n",
              "45278                  2012                      3                   17   \n",
              "16398                  2012                      6                    8   \n",
              "13653                  2015                      6                   22   \n",
              "\n",
              "       pickup_datetime_week  pickup_datetime_hour  trip_distance  \\\n",
              "39087                     5                    17       2.813101   \n",
              "30893                     1                     9       0.643929   \n",
              "45278                     5                    16       2.341894   \n",
              "16398                     4                     9       2.669228   \n",
              "13653                     0                    17       0.399969   \n",
              "\n",
              "       jfk_drop_distance  lga_drop_distance  ewr_drop_distance  \\\n",
              "39087          21.901814           8.916608          18.544836   \n",
              "30893          20.632423           8.381031          18.776476   \n",
              "45278          21.180050          11.093554          16.025425   \n",
              "16398          23.174042           8.355556          20.342896   \n",
              "13653          22.409826           9.126138          18.542492   \n",
              "\n",
              "       wtc_drop_distance  \n",
              "39087           6.515262  \n",
              "30893           5.944635  \n",
              "45278           3.034995  \n",
              "16398           9.101416  \n",
              "13653           6.866284  "
            ],
            "text/html": [
              "\n",
              "  <div id=\"df-4ed60edf-20df-44df-91c8-a56b7334fd9c\">\n",
              "    <div class=\"colab-df-container\">\n",
              "      <div>\n",
              "<style scoped>\n",
              "    .dataframe tbody tr th:only-of-type {\n",
              "        vertical-align: middle;\n",
              "    }\n",
              "\n",
              "    .dataframe tbody tr th {\n",
              "        vertical-align: top;\n",
              "    }\n",
              "\n",
              "    .dataframe thead th {\n",
              "        text-align: right;\n",
              "    }\n",
              "</style>\n",
              "<table border=\"1\" class=\"dataframe\">\n",
              "  <thead>\n",
              "    <tr style=\"text-align: right;\">\n",
              "      <th></th>\n",
              "      <th>fare_amount</th>\n",
              "      <th>pickup_datetime</th>\n",
              "      <th>pickup_longitude</th>\n",
              "      <th>pickup_latitude</th>\n",
              "      <th>dropoff_longitude</th>\n",
              "      <th>dropoff_latitude</th>\n",
              "      <th>passenger_count</th>\n",
              "      <th>pickup_datetime_year</th>\n",
              "      <th>pickup_datetime_month</th>\n",
              "      <th>pickup_datetime_day</th>\n",
              "      <th>pickup_datetime_week</th>\n",
              "      <th>pickup_datetime_hour</th>\n",
              "      <th>trip_distance</th>\n",
              "      <th>jfk_drop_distance</th>\n",
              "      <th>lga_drop_distance</th>\n",
              "      <th>ewr_drop_distance</th>\n",
              "      <th>wtc_drop_distance</th>\n",
              "    </tr>\n",
              "  </thead>\n",
              "  <tbody>\n",
              "    <tr>\n",
              "      <th>39087</th>\n",
              "      <td>10.0</td>\n",
              "      <td>2013-07-27 17:04:00+00:00</td>\n",
              "      <td>-73.974335</td>\n",
              "      <td>40.791428</td>\n",
              "      <td>-73.979034</td>\n",
              "      <td>40.766365</td>\n",
              "      <td>5</td>\n",
              "      <td>2013</td>\n",
              "      <td>7</td>\n",
              "      <td>27</td>\n",
              "      <td>5</td>\n",
              "      <td>17</td>\n",
              "      <td>2.813101</td>\n",
              "      <td>21.901814</td>\n",
              "      <td>8.916608</td>\n",
              "      <td>18.544836</td>\n",
              "      <td>6.515262</td>\n",
              "    </tr>\n",
              "    <tr>\n",
              "      <th>30893</th>\n",
              "      <td>4.0</td>\n",
              "      <td>2013-01-08 09:26:00+00:00</td>\n",
              "      <td>-73.973656</td>\n",
              "      <td>40.751633</td>\n",
              "      <td>-73.969948</td>\n",
              "      <td>40.756702</td>\n",
              "      <td>5</td>\n",
              "      <td>2013</td>\n",
              "      <td>1</td>\n",
              "      <td>8</td>\n",
              "      <td>1</td>\n",
              "      <td>9</td>\n",
              "      <td>0.643929</td>\n",
              "      <td>20.632423</td>\n",
              "      <td>8.381031</td>\n",
              "      <td>18.776476</td>\n",
              "      <td>5.944635</td>\n",
              "    </tr>\n",
              "    <tr>\n",
              "      <th>45278</th>\n",
              "      <td>6.9</td>\n",
              "      <td>2012-03-17 16:45:00+00:00</td>\n",
              "      <td>-73.975266</td>\n",
              "      <td>40.752281</td>\n",
              "      <td>-73.995094</td>\n",
              "      <td>40.737499</td>\n",
              "      <td>4</td>\n",
              "      <td>2012</td>\n",
              "      <td>3</td>\n",
              "      <td>17</td>\n",
              "      <td>5</td>\n",
              "      <td>16</td>\n",
              "      <td>2.341894</td>\n",
              "      <td>21.180050</td>\n",
              "      <td>11.093554</td>\n",
              "      <td>16.025425</td>\n",
              "      <td>3.034995</td>\n",
              "    </tr>\n",
              "    <tr>\n",
              "      <th>16398</th>\n",
              "      <td>7.7</td>\n",
              "      <td>2012-06-08 09:01:17+00:00</td>\n",
              "      <td>-73.983032</td>\n",
              "      <td>40.766785</td>\n",
              "      <td>-73.971947</td>\n",
              "      <td>40.789288</td>\n",
              "      <td>1</td>\n",
              "      <td>2012</td>\n",
              "      <td>6</td>\n",
              "      <td>8</td>\n",
              "      <td>4</td>\n",
              "      <td>9</td>\n",
              "      <td>2.669228</td>\n",
              "      <td>23.174042</td>\n",
              "      <td>8.355556</td>\n",
              "      <td>20.342896</td>\n",
              "      <td>9.101416</td>\n",
              "    </tr>\n",
              "    <tr>\n",
              "      <th>13653</th>\n",
              "      <td>4.5</td>\n",
              "      <td>2015-06-22 17:30:49+00:00</td>\n",
              "      <td>-73.986717</td>\n",
              "      <td>40.771648</td>\n",
              "      <td>-73.982140</td>\n",
              "      <td>40.770699</td>\n",
              "      <td>1</td>\n",
              "      <td>2015</td>\n",
              "      <td>6</td>\n",
              "      <td>22</td>\n",
              "      <td>0</td>\n",
              "      <td>17</td>\n",
              "      <td>0.399969</td>\n",
              "      <td>22.409826</td>\n",
              "      <td>9.126138</td>\n",
              "      <td>18.542492</td>\n",
              "      <td>6.866284</td>\n",
              "    </tr>\n",
              "  </tbody>\n",
              "</table>\n",
              "</div>\n",
              "      <button class=\"colab-df-convert\" onclick=\"convertToInteractive('df-4ed60edf-20df-44df-91c8-a56b7334fd9c')\"\n",
              "              title=\"Convert this dataframe to an interactive table.\"\n",
              "              style=\"display:none;\">\n",
              "        \n",
              "  <svg xmlns=\"http://www.w3.org/2000/svg\" height=\"24px\"viewBox=\"0 0 24 24\"\n",
              "       width=\"24px\">\n",
              "    <path d=\"M0 0h24v24H0V0z\" fill=\"none\"/>\n",
              "    <path d=\"M18.56 5.44l.94 2.06.94-2.06 2.06-.94-2.06-.94-.94-2.06-.94 2.06-2.06.94zm-11 1L8.5 8.5l.94-2.06 2.06-.94-2.06-.94L8.5 2.5l-.94 2.06-2.06.94zm10 10l.94 2.06.94-2.06 2.06-.94-2.06-.94-.94-2.06-.94 2.06-2.06.94z\"/><path d=\"M17.41 7.96l-1.37-1.37c-.4-.4-.92-.59-1.43-.59-.52 0-1.04.2-1.43.59L10.3 9.45l-7.72 7.72c-.78.78-.78 2.05 0 2.83L4 21.41c.39.39.9.59 1.41.59.51 0 1.02-.2 1.41-.59l7.78-7.78 2.81-2.81c.8-.78.8-2.07 0-2.86zM5.41 20L4 18.59l7.72-7.72 1.47 1.35L5.41 20z\"/>\n",
              "  </svg>\n",
              "      </button>\n",
              "      \n",
              "  <style>\n",
              "    .colab-df-container {\n",
              "      display:flex;\n",
              "      flex-wrap:wrap;\n",
              "      gap: 12px;\n",
              "    }\n",
              "\n",
              "    .colab-df-convert {\n",
              "      background-color: #E8F0FE;\n",
              "      border: none;\n",
              "      border-radius: 50%;\n",
              "      cursor: pointer;\n",
              "      display: none;\n",
              "      fill: #1967D2;\n",
              "      height: 32px;\n",
              "      padding: 0 0 0 0;\n",
              "      width: 32px;\n",
              "    }\n",
              "\n",
              "    .colab-df-convert:hover {\n",
              "      background-color: #E2EBFA;\n",
              "      box-shadow: 0px 1px 2px rgba(60, 64, 67, 0.3), 0px 1px 3px 1px rgba(60, 64, 67, 0.15);\n",
              "      fill: #174EA6;\n",
              "    }\n",
              "\n",
              "    [theme=dark] .colab-df-convert {\n",
              "      background-color: #3B4455;\n",
              "      fill: #D2E3FC;\n",
              "    }\n",
              "\n",
              "    [theme=dark] .colab-df-convert:hover {\n",
              "      background-color: #434B5C;\n",
              "      box-shadow: 0px 1px 3px 1px rgba(0, 0, 0, 0.15);\n",
              "      filter: drop-shadow(0px 1px 2px rgba(0, 0, 0, 0.3));\n",
              "      fill: #FFFFFF;\n",
              "    }\n",
              "  </style>\n",
              "\n",
              "      <script>\n",
              "        const buttonEl =\n",
              "          document.querySelector('#df-4ed60edf-20df-44df-91c8-a56b7334fd9c button.colab-df-convert');\n",
              "        buttonEl.style.display =\n",
              "          google.colab.kernel.accessAllowed ? 'block' : 'none';\n",
              "\n",
              "        async function convertToInteractive(key) {\n",
              "          const element = document.querySelector('#df-4ed60edf-20df-44df-91c8-a56b7334fd9c');\n",
              "          const dataTable =\n",
              "            await google.colab.kernel.invokeFunction('convertToInteractive',\n",
              "                                                     [key], {});\n",
              "          if (!dataTable) return;\n",
              "\n",
              "          const docLinkHtml = 'Like what you see? Visit the ' +\n",
              "            '<a target=\"_blank\" href=https://colab.research.google.com/notebooks/data_table.ipynb>data table notebook</a>'\n",
              "            + ' to learn more about interactive tables.';\n",
              "          element.innerHTML = '';\n",
              "          dataTable['output_type'] = 'display_data';\n",
              "          await google.colab.output.renderOutput(dataTable, element);\n",
              "          const docLink = document.createElement('div');\n",
              "          docLink.innerHTML = docLinkHtml;\n",
              "          element.appendChild(docLink);\n",
              "        }\n",
              "      </script>\n",
              "    </div>\n",
              "  </div>\n",
              "  "
            ]
          },
          "metadata": {},
          "execution_count": 43
        }
      ]
    },
    {
      "cell_type": "code",
      "source": [
        "train_df.describe()"
      ],
      "metadata": {
        "colab": {
          "base_uri": "https://localhost:8080/",
          "height": 364
        },
        "id": "aTXRoIQJMefo",
        "outputId": "aea57624-d689-480b-8e8c-972d45a4be21"
      },
      "execution_count": 44,
      "outputs": [
        {
          "output_type": "execute_result",
          "data": {
            "text/plain": [
              "        fare_amount  pickup_longitude  pickup_latitude  dropoff_longitude  \\\n",
              "count  38239.000000      38239.000000     38239.000000       38239.000000   \n",
              "mean      11.359950        -73.986053        40.749599         -73.985573   \n",
              "std        9.670594          0.041621         0.031339           0.040956   \n",
              "min        2.500000        -74.711647        40.190563         -74.755478   \n",
              "25%        6.000000        -73.992332        40.736473         -73.991348   \n",
              "50%        8.500000        -73.982140        40.753460         -73.980476   \n",
              "75%       12.500000        -73.968399        40.767729         -73.965385   \n",
              "max      200.000000        -72.856972        41.650002         -72.854942   \n",
              "\n",
              "       dropoff_latitude  passenger_count  pickup_datetime_year  \\\n",
              "count      38239.000000     38239.000000          38239.000000   \n",
              "mean          40.750057         1.587045           2011.706791   \n",
              "std            0.033976         1.142863              1.864356   \n",
              "min           40.190563         1.000000           2009.000000   \n",
              "25%           40.735886         1.000000           2010.000000   \n",
              "50%           40.754223         1.000000           2012.000000   \n",
              "75%           40.768618         2.000000           2013.000000   \n",
              "max           41.543217         5.000000           2015.000000   \n",
              "\n",
              "       pickup_datetime_month  pickup_datetime_day  pickup_datetime_week  \\\n",
              "count           38239.000000         38239.000000          38239.000000   \n",
              "mean                6.280734            15.667695              3.033343   \n",
              "std                 3.460466             8.651006              1.954304   \n",
              "min                 1.000000             1.000000              0.000000   \n",
              "25%                 3.000000             8.000000              1.000000   \n",
              "50%                 6.000000            16.000000              3.000000   \n",
              "75%                 9.000000            23.000000              5.000000   \n",
              "max                12.000000            31.000000              6.000000   \n",
              "\n",
              "       pickup_datetime_hour  trip_distance  jfk_drop_distance  \\\n",
              "count          38239.000000   38239.000000       38239.000000   \n",
              "mean              13.469573       3.358001          20.916988   \n",
              "std                6.510145       3.916795           3.220436   \n",
              "min                0.000000       0.000000           0.387446   \n",
              "25%                9.000000       1.262576          20.530610   \n",
              "50%               14.000000       2.152860          21.183189   \n",
              "75%               19.000000       3.936313          21.907041   \n",
              "max               23.000000     103.969444         100.576500   \n",
              "\n",
              "       lga_drop_distance  ewr_drop_distance  wtc_drop_distance  \n",
              "count       38239.000000       38239.000000       38239.000000  \n",
              "mean            9.680647          18.523767           6.022210  \n",
              "std             3.181855           3.863319           4.106068  \n",
              "min             0.265018           0.277400           0.013638  \n",
              "25%             8.322190          16.512361           3.642102  \n",
              "50%             9.502868          17.980993           5.524119  \n",
              "75%            10.950631          19.813603           7.659528  \n",
              "max            94.867615         114.945412         103.064423  "
            ],
            "text/html": [
              "\n",
              "  <div id=\"df-f98b8e18-e89b-4842-95d3-c5b1de309897\">\n",
              "    <div class=\"colab-df-container\">\n",
              "      <div>\n",
              "<style scoped>\n",
              "    .dataframe tbody tr th:only-of-type {\n",
              "        vertical-align: middle;\n",
              "    }\n",
              "\n",
              "    .dataframe tbody tr th {\n",
              "        vertical-align: top;\n",
              "    }\n",
              "\n",
              "    .dataframe thead th {\n",
              "        text-align: right;\n",
              "    }\n",
              "</style>\n",
              "<table border=\"1\" class=\"dataframe\">\n",
              "  <thead>\n",
              "    <tr style=\"text-align: right;\">\n",
              "      <th></th>\n",
              "      <th>fare_amount</th>\n",
              "      <th>pickup_longitude</th>\n",
              "      <th>pickup_latitude</th>\n",
              "      <th>dropoff_longitude</th>\n",
              "      <th>dropoff_latitude</th>\n",
              "      <th>passenger_count</th>\n",
              "      <th>pickup_datetime_year</th>\n",
              "      <th>pickup_datetime_month</th>\n",
              "      <th>pickup_datetime_day</th>\n",
              "      <th>pickup_datetime_week</th>\n",
              "      <th>pickup_datetime_hour</th>\n",
              "      <th>trip_distance</th>\n",
              "      <th>jfk_drop_distance</th>\n",
              "      <th>lga_drop_distance</th>\n",
              "      <th>ewr_drop_distance</th>\n",
              "      <th>wtc_drop_distance</th>\n",
              "    </tr>\n",
              "  </thead>\n",
              "  <tbody>\n",
              "    <tr>\n",
              "      <th>count</th>\n",
              "      <td>38239.000000</td>\n",
              "      <td>38239.000000</td>\n",
              "      <td>38239.000000</td>\n",
              "      <td>38239.000000</td>\n",
              "      <td>38239.000000</td>\n",
              "      <td>38239.000000</td>\n",
              "      <td>38239.000000</td>\n",
              "      <td>38239.000000</td>\n",
              "      <td>38239.000000</td>\n",
              "      <td>38239.000000</td>\n",
              "      <td>38239.000000</td>\n",
              "      <td>38239.000000</td>\n",
              "      <td>38239.000000</td>\n",
              "      <td>38239.000000</td>\n",
              "      <td>38239.000000</td>\n",
              "      <td>38239.000000</td>\n",
              "    </tr>\n",
              "    <tr>\n",
              "      <th>mean</th>\n",
              "      <td>11.359950</td>\n",
              "      <td>-73.986053</td>\n",
              "      <td>40.749599</td>\n",
              "      <td>-73.985573</td>\n",
              "      <td>40.750057</td>\n",
              "      <td>1.587045</td>\n",
              "      <td>2011.706791</td>\n",
              "      <td>6.280734</td>\n",
              "      <td>15.667695</td>\n",
              "      <td>3.033343</td>\n",
              "      <td>13.469573</td>\n",
              "      <td>3.358001</td>\n",
              "      <td>20.916988</td>\n",
              "      <td>9.680647</td>\n",
              "      <td>18.523767</td>\n",
              "      <td>6.022210</td>\n",
              "    </tr>\n",
              "    <tr>\n",
              "      <th>std</th>\n",
              "      <td>9.670594</td>\n",
              "      <td>0.041621</td>\n",
              "      <td>0.031339</td>\n",
              "      <td>0.040956</td>\n",
              "      <td>0.033976</td>\n",
              "      <td>1.142863</td>\n",
              "      <td>1.864356</td>\n",
              "      <td>3.460466</td>\n",
              "      <td>8.651006</td>\n",
              "      <td>1.954304</td>\n",
              "      <td>6.510145</td>\n",
              "      <td>3.916795</td>\n",
              "      <td>3.220436</td>\n",
              "      <td>3.181855</td>\n",
              "      <td>3.863319</td>\n",
              "      <td>4.106068</td>\n",
              "    </tr>\n",
              "    <tr>\n",
              "      <th>min</th>\n",
              "      <td>2.500000</td>\n",
              "      <td>-74.711647</td>\n",
              "      <td>40.190563</td>\n",
              "      <td>-74.755478</td>\n",
              "      <td>40.190563</td>\n",
              "      <td>1.000000</td>\n",
              "      <td>2009.000000</td>\n",
              "      <td>1.000000</td>\n",
              "      <td>1.000000</td>\n",
              "      <td>0.000000</td>\n",
              "      <td>0.000000</td>\n",
              "      <td>0.000000</td>\n",
              "      <td>0.387446</td>\n",
              "      <td>0.265018</td>\n",
              "      <td>0.277400</td>\n",
              "      <td>0.013638</td>\n",
              "    </tr>\n",
              "    <tr>\n",
              "      <th>25%</th>\n",
              "      <td>6.000000</td>\n",
              "      <td>-73.992332</td>\n",
              "      <td>40.736473</td>\n",
              "      <td>-73.991348</td>\n",
              "      <td>40.735886</td>\n",
              "      <td>1.000000</td>\n",
              "      <td>2010.000000</td>\n",
              "      <td>3.000000</td>\n",
              "      <td>8.000000</td>\n",
              "      <td>1.000000</td>\n",
              "      <td>9.000000</td>\n",
              "      <td>1.262576</td>\n",
              "      <td>20.530610</td>\n",
              "      <td>8.322190</td>\n",
              "      <td>16.512361</td>\n",
              "      <td>3.642102</td>\n",
              "    </tr>\n",
              "    <tr>\n",
              "      <th>50%</th>\n",
              "      <td>8.500000</td>\n",
              "      <td>-73.982140</td>\n",
              "      <td>40.753460</td>\n",
              "      <td>-73.980476</td>\n",
              "      <td>40.754223</td>\n",
              "      <td>1.000000</td>\n",
              "      <td>2012.000000</td>\n",
              "      <td>6.000000</td>\n",
              "      <td>16.000000</td>\n",
              "      <td>3.000000</td>\n",
              "      <td>14.000000</td>\n",
              "      <td>2.152860</td>\n",
              "      <td>21.183189</td>\n",
              "      <td>9.502868</td>\n",
              "      <td>17.980993</td>\n",
              "      <td>5.524119</td>\n",
              "    </tr>\n",
              "    <tr>\n",
              "      <th>75%</th>\n",
              "      <td>12.500000</td>\n",
              "      <td>-73.968399</td>\n",
              "      <td>40.767729</td>\n",
              "      <td>-73.965385</td>\n",
              "      <td>40.768618</td>\n",
              "      <td>2.000000</td>\n",
              "      <td>2013.000000</td>\n",
              "      <td>9.000000</td>\n",
              "      <td>23.000000</td>\n",
              "      <td>5.000000</td>\n",
              "      <td>19.000000</td>\n",
              "      <td>3.936313</td>\n",
              "      <td>21.907041</td>\n",
              "      <td>10.950631</td>\n",
              "      <td>19.813603</td>\n",
              "      <td>7.659528</td>\n",
              "    </tr>\n",
              "    <tr>\n",
              "      <th>max</th>\n",
              "      <td>200.000000</td>\n",
              "      <td>-72.856972</td>\n",
              "      <td>41.650002</td>\n",
              "      <td>-72.854942</td>\n",
              "      <td>41.543217</td>\n",
              "      <td>5.000000</td>\n",
              "      <td>2015.000000</td>\n",
              "      <td>12.000000</td>\n",
              "      <td>31.000000</td>\n",
              "      <td>6.000000</td>\n",
              "      <td>23.000000</td>\n",
              "      <td>103.969444</td>\n",
              "      <td>100.576500</td>\n",
              "      <td>94.867615</td>\n",
              "      <td>114.945412</td>\n",
              "      <td>103.064423</td>\n",
              "    </tr>\n",
              "  </tbody>\n",
              "</table>\n",
              "</div>\n",
              "      <button class=\"colab-df-convert\" onclick=\"convertToInteractive('df-f98b8e18-e89b-4842-95d3-c5b1de309897')\"\n",
              "              title=\"Convert this dataframe to an interactive table.\"\n",
              "              style=\"display:none;\">\n",
              "        \n",
              "  <svg xmlns=\"http://www.w3.org/2000/svg\" height=\"24px\"viewBox=\"0 0 24 24\"\n",
              "       width=\"24px\">\n",
              "    <path d=\"M0 0h24v24H0V0z\" fill=\"none\"/>\n",
              "    <path d=\"M18.56 5.44l.94 2.06.94-2.06 2.06-.94-2.06-.94-.94-2.06-.94 2.06-2.06.94zm-11 1L8.5 8.5l.94-2.06 2.06-.94-2.06-.94L8.5 2.5l-.94 2.06-2.06.94zm10 10l.94 2.06.94-2.06 2.06-.94-2.06-.94-.94-2.06-.94 2.06-2.06.94z\"/><path d=\"M17.41 7.96l-1.37-1.37c-.4-.4-.92-.59-1.43-.59-.52 0-1.04.2-1.43.59L10.3 9.45l-7.72 7.72c-.78.78-.78 2.05 0 2.83L4 21.41c.39.39.9.59 1.41.59.51 0 1.02-.2 1.41-.59l7.78-7.78 2.81-2.81c.8-.78.8-2.07 0-2.86zM5.41 20L4 18.59l7.72-7.72 1.47 1.35L5.41 20z\"/>\n",
              "  </svg>\n",
              "      </button>\n",
              "      \n",
              "  <style>\n",
              "    .colab-df-container {\n",
              "      display:flex;\n",
              "      flex-wrap:wrap;\n",
              "      gap: 12px;\n",
              "    }\n",
              "\n",
              "    .colab-df-convert {\n",
              "      background-color: #E8F0FE;\n",
              "      border: none;\n",
              "      border-radius: 50%;\n",
              "      cursor: pointer;\n",
              "      display: none;\n",
              "      fill: #1967D2;\n",
              "      height: 32px;\n",
              "      padding: 0 0 0 0;\n",
              "      width: 32px;\n",
              "    }\n",
              "\n",
              "    .colab-df-convert:hover {\n",
              "      background-color: #E2EBFA;\n",
              "      box-shadow: 0px 1px 2px rgba(60, 64, 67, 0.3), 0px 1px 3px 1px rgba(60, 64, 67, 0.15);\n",
              "      fill: #174EA6;\n",
              "    }\n",
              "\n",
              "    [theme=dark] .colab-df-convert {\n",
              "      background-color: #3B4455;\n",
              "      fill: #D2E3FC;\n",
              "    }\n",
              "\n",
              "    [theme=dark] .colab-df-convert:hover {\n",
              "      background-color: #434B5C;\n",
              "      box-shadow: 0px 1px 3px 1px rgba(0, 0, 0, 0.15);\n",
              "      filter: drop-shadow(0px 1px 2px rgba(0, 0, 0, 0.3));\n",
              "      fill: #FFFFFF;\n",
              "    }\n",
              "  </style>\n",
              "\n",
              "      <script>\n",
              "        const buttonEl =\n",
              "          document.querySelector('#df-f98b8e18-e89b-4842-95d3-c5b1de309897 button.colab-df-convert');\n",
              "        buttonEl.style.display =\n",
              "          google.colab.kernel.accessAllowed ? 'block' : 'none';\n",
              "\n",
              "        async function convertToInteractive(key) {\n",
              "          const element = document.querySelector('#df-f98b8e18-e89b-4842-95d3-c5b1de309897');\n",
              "          const dataTable =\n",
              "            await google.colab.kernel.invokeFunction('convertToInteractive',\n",
              "                                                     [key], {});\n",
              "          if (!dataTable) return;\n",
              "\n",
              "          const docLinkHtml = 'Like what you see? Visit the ' +\n",
              "            '<a target=\"_blank\" href=https://colab.research.google.com/notebooks/data_table.ipynb>data table notebook</a>'\n",
              "            + ' to learn more about interactive tables.';\n",
              "          element.innerHTML = '';\n",
              "          dataTable['output_type'] = 'display_data';\n",
              "          await google.colab.output.renderOutput(dataTable, element);\n",
              "          const docLink = document.createElement('div');\n",
              "          docLink.innerHTML = docLinkHtml;\n",
              "          element.appendChild(docLink);\n",
              "        }\n",
              "      </script>\n",
              "    </div>\n",
              "  </div>\n",
              "  "
            ]
          },
          "metadata": {},
          "execution_count": 44
        }
      ]
    },
    {
      "cell_type": "markdown",
      "source": [
        "# 6: Train and Evaluate models <a name=\"6\"></a>\n",
        "\n",
        "\n",
        "---\n",
        "<a href=\"#top\" class=\"btn btn-primary btn-sm\" role=\"button\" aria-pressed=\"true\" style=\"color:white\" data-toggle=\"popover\">Go to TOC</a> "
      ],
      "metadata": {
        "id": "va7cBmNz9PiH"
      }
    },
    {
      "cell_type": "markdown",
      "source": [
        "I picked the following models to train my datasets on\n",
        "\n",
        "- Linear Regression\n",
        "- Random forests\n",
        "- XGBoost"
      ],
      "metadata": {
        "id": "k64KftgCrVG1"
      }
    },
    {
      "cell_type": "code",
      "source": [
        "input_cols =[ 'pickup_longitude', 'pickup_latitude',\n",
        "       'dropoff_longitude', 'dropoff_latitude', 'passenger_count',\n",
        "       'pickup_datetime_year', 'pickup_datetime_month', 'pickup_datetime_day',\n",
        "       'pickup_datetime_week', 'pickup_datetime_hour', 'trip_distance',\n",
        "       'jfk_drop_distance', 'lga_drop_distance', 'ewr_drop_distance', 'wtc_drop_distance']\n",
        "\n",
        "target_cols =['fare_amount']\n",
        "\n",
        "train_inputs = train_df[input_cols]\n",
        "train_targets = train_df[target_cols]\n",
        "\n",
        "val_inputs = val_df[input_cols]\n",
        "val_targets = val_df[target_cols]"
      ],
      "metadata": {
        "id": "OOglwZWXovcE"
      },
      "execution_count": 45,
      "outputs": []
    },
    {
      "cell_type": "code",
      "source": [
        "def evaluate(model):\n",
        "  train_preds = model.predict(train_inputs)\n",
        "  val_preds = model.predict(val_inputs)\n",
        "  train_rmse = mean_squared_error(train_targets, train_preds, squared=False)\n",
        "  val_rmse = mean_squared_error(val_targets, val_preds, squared=False)\n",
        "\n",
        "  return train_rmse, val_rmse, train_preds, val_preds"
      ],
      "metadata": {
        "id": "hfsGT0ttZmc1"
      },
      "execution_count": 46,
      "outputs": []
    },
    {
      "cell_type": "code",
      "source": [
        "## Linear regression\n",
        "model1 = LinearRegression()\n",
        "model1.fit(train_inputs, train_targets)\n",
        "evaluate(model1)"
      ],
      "metadata": {
        "colab": {
          "base_uri": "https://localhost:8080/"
        },
        "id": "Ds0tR5pGZmaE",
        "outputId": "ffd65ffa-b39e-4252-d2f9-46d5863b0eb9"
      },
      "execution_count": 47,
      "outputs": [
        {
          "output_type": "execute_result",
          "data": {
            "text/plain": [
              "(5.508512074204601, 6.042628372256151, array([[10.058396  ],\n",
              "        [ 7.02731931],\n",
              "        [ 8.73334104],\n",
              "        ...,\n",
              "        [ 8.06759072],\n",
              "        [13.76586331],\n",
              "        [49.94990048]]), array([[10.65041478],\n",
              "        [20.26064198],\n",
              "        [ 6.72033916],\n",
              "        ...,\n",
              "        [ 9.31658808],\n",
              "        [33.88253144],\n",
              "        [ 7.13537951]]))"
            ]
          },
          "metadata": {},
          "execution_count": 47
        }
      ]
    },
    {
      "cell_type": "code",
      "source": [
        "# Random Forest\n",
        "model2 = RandomForestRegressor(random_state=42, n_jobs=-1, max_depth=5, n_estimators=100)"
      ],
      "metadata": {
        "id": "N8U1ri6lZmU1"
      },
      "execution_count": 48,
      "outputs": []
    },
    {
      "cell_type": "code",
      "source": [
        "%%time\n",
        "model2.fit(train_inputs, train_targets)"
      ],
      "metadata": {
        "colab": {
          "base_uri": "https://localhost:8080/"
        },
        "id": "WQ_BpHSpZmGs",
        "outputId": "6a9c5d3c-e0ab-462a-a627-31f5bfd782d0"
      },
      "execution_count": 49,
      "outputs": [
        {
          "output_type": "stream",
          "name": "stderr",
          "text": [
            "/usr/local/lib/python3.7/dist-packages/ipykernel_launcher.py:1: DataConversionWarning: A column-vector y was passed when a 1d array was expected. Please change the shape of y to (n_samples,), for example using ravel().\n",
            "  \"\"\"Entry point for launching an IPython kernel.\n"
          ]
        },
        {
          "output_type": "stream",
          "name": "stdout",
          "text": [
            "CPU times: user 22.4 s, sys: 22.6 ms, total: 22.4 s\n",
            "Wall time: 11.6 s\n"
          ]
        },
        {
          "output_type": "execute_result",
          "data": {
            "text/plain": [
              "RandomForestRegressor(max_depth=5, n_jobs=-1, random_state=42)"
            ]
          },
          "metadata": {},
          "execution_count": 49
        }
      ]
    },
    {
      "cell_type": "code",
      "source": [
        "evaluate(model2)"
      ],
      "metadata": {
        "colab": {
          "base_uri": "https://localhost:8080/"
        },
        "id": "DQkD2rQRjXGJ",
        "outputId": "98fc30c0-e3cd-4e8a-8dfc-ced70965e4ec"
      },
      "execution_count": 50,
      "outputs": [
        {
          "output_type": "execute_result",
          "data": {
            "text/plain": [
              "(4.254846976414971,\n",
              " 4.747344151804759,\n",
              " array([10.55463215,  6.05462193,  8.65341964, ...,  7.32847233,\n",
              "        11.69555435, 53.74064062]),\n",
              " array([ 9.88845623, 27.97484576,  6.05462193, ...,  8.78567887,\n",
              "        28.86964666,  6.58954703]))"
            ]
          },
          "metadata": {},
          "execution_count": 50
        }
      ]
    },
    {
      "cell_type": "code",
      "source": [
        "## xgboost\n",
        "model3= XGBRegressor(n_estimators=100, n_jobs=-1, max_depth=3, objective='reg:squarederror', random_state=42)"
      ],
      "metadata": {
        "id": "fzYrSM8cjirb"
      },
      "execution_count": 51,
      "outputs": []
    },
    {
      "cell_type": "code",
      "source": [
        "model3.fit(train_inputs, train_targets)"
      ],
      "metadata": {
        "colab": {
          "base_uri": "https://localhost:8080/"
        },
        "id": "2oDEteEck9tE",
        "outputId": "6280e690-27bf-46cf-ca0e-98339ba96fab"
      },
      "execution_count": 52,
      "outputs": [
        {
          "output_type": "execute_result",
          "data": {
            "text/plain": [
              "XGBRegressor(n_jobs=-1, objective='reg:squarederror', random_state=42)"
            ]
          },
          "metadata": {},
          "execution_count": 52
        }
      ]
    },
    {
      "cell_type": "code",
      "source": [
        "evaluate(model3)"
      ],
      "metadata": {
        "colab": {
          "base_uri": "https://localhost:8080/"
        },
        "id": "U8XVX0pBlEXs",
        "outputId": "98517317-470e-42c6-e4f2-de120df3ffee"
      },
      "execution_count": 53,
      "outputs": [
        {
          "output_type": "execute_result",
          "data": {
            "text/plain": [
              "(3.6792917,\n",
              " 4.4309444,\n",
              " array([11.123464,  5.68449 ,  8.936595, ...,  7.462202, 11.991682,\n",
              "        54.26345 ], dtype=float32),\n",
              " array([ 8.603611 , 27.28239  ,  5.231544 , ...,  8.531159 , 31.630281 ,\n",
              "         6.5144863], dtype=float32))"
            ]
          },
          "metadata": {},
          "execution_count": 53
        }
      ]
    },
    {
      "cell_type": "markdown",
      "source": [
        "## 6.1 Hyperparameter tuning"
      ],
      "metadata": {
        "id": "dyj4F_MClrbR"
      }
    },
    {
      "cell_type": "code",
      "source": [
        "from sklearn.model_selection import GridSearchCV"
      ],
      "metadata": {
        "id": "lYxz6Sc9wjYd"
      },
      "execution_count": 59,
      "outputs": []
    },
    {
      "cell_type": "code",
      "source": [
        "params = { 'max_depth': [3,6],\n",
        "           'learning_rate': [0.01, 0.05, 0.1],\n",
        "           'n_estimators': [100, 500, 1000],\n",
        "           }"
      ],
      "metadata": {
        "id": "HdyLnwrpwjUz"
      },
      "execution_count": 75,
      "outputs": []
    },
    {
      "cell_type": "code",
      "source": [
        "xgbr = XGBRegressor(seed = 42,silent=True,verbose=0)"
      ],
      "metadata": {
        "id": "4h7_zYXUwjRN"
      },
      "execution_count": 80,
      "outputs": []
    },
    {
      "cell_type": "code",
      "source": [
        "model_xgb = GridSearchCV(estimator=xgbr, \n",
        "                   param_grid=params,\n",
        "                   scoring='neg_mean_squared_error', \n",
        "                   )"
      ],
      "metadata": {
        "id": "3YcOKcbcy8An"
      },
      "execution_count": 82,
      "outputs": []
    },
    {
      "cell_type": "code",
      "source": [
        "%%time\n",
        "model_xgb.fit(train_inputs, train_targets)"
      ],
      "metadata": {
        "id": "L5Fytqyby78l",
        "outputId": "320ff6fd-aa0f-486d-e29a-b1b452ff46fb",
        "colab": {
          "base_uri": "https://localhost:8080/"
        }
      },
      "execution_count": 83,
      "outputs": [
        {
          "output_type": "stream",
          "name": "stdout",
          "text": [
            "CPU times: user 32min 29s, sys: 2.53 s, total: 32min 31s\n",
            "Wall time: 32min 24s\n"
          ]
        },
        {
          "output_type": "execute_result",
          "data": {
            "text/plain": [
              "GridSearchCV(estimator=XGBRegressor(seed=42, silent=True, verbose=0),\n",
              "             param_grid={'learning_rate': [0.01, 0.05, 0.1],\n",
              "                         'max_depth': [3, 6],\n",
              "                         'n_estimators': [100, 500, 1000]},\n",
              "             scoring='neg_mean_squared_error')"
            ]
          },
          "metadata": {},
          "execution_count": 83
        }
      ]
    },
    {
      "cell_type": "code",
      "source": [
        "print(\"Best parameters:\", model_xgb.best_params_)"
      ],
      "metadata": {
        "id": "YX_quq_7y75S",
        "outputId": "4f97a48a-1d8f-4d4a-ab67-bfdb3b22c2b2",
        "colab": {
          "base_uri": "https://localhost:8080/"
        }
      },
      "execution_count": 84,
      "outputs": [
        {
          "output_type": "stream",
          "name": "stdout",
          "text": [
            "Best parameters: {'learning_rate': 0.05, 'max_depth': 6, 'n_estimators': 500}\n"
          ]
        }
      ]
    },
    {
      "cell_type": "markdown",
      "source": [
        "# 7: Summary <a name=\"7\"></a>\n",
        "\n",
        "\n",
        "---\n",
        "<a href=\"#top\" class=\"btn btn-primary btn-sm\" role=\"button\" aria-pressed=\"true\" style=\"color:white\" data-toggle=\"popover\">Go to TOC</a> "
      ],
      "metadata": {
        "id": "6HRdia7w9PJN"
      }
    },
    {
      "cell_type": "markdown",
      "source": [
        "Following is the summary of the steps we performed while doing the analysis and model creations.\n",
        "\n",
        "- Downloaded the dataset from github\n",
        "- Performed pre processing like checking for null values, removing redundant columns, importing all the required libraries.\n",
        "- Performed explainatory data analysis in a seprate [notebook](https://colab.research.google.com/github/hargurjeet/MachineLearning/blob/master/Predictive_Maintaince_Classification.ipynb#scrollTo=qmznRkMefrzz)\n",
        "- Trained a baseline model as a reference.\n",
        "- Developed new features to imporve the MODEL learning.\n",
        "- Trained ML models on the newly developed features.\n",
        "- Evaluated the model performeces.\n",
        "- Selected the best model and performed hyperparamter tuning."
      ],
      "metadata": {
        "id": "OWzsv-BXM-K2"
      }
    },
    {
      "cell_type": "markdown",
      "source": [
        "# 8: Future Work <a name=\"8\"></a>\n",
        "\n",
        "\n",
        "---\n",
        "<a href=\"#top\" class=\"btn btn-primary btn-sm\" role=\"button\" aria-pressed=\"true\" style=\"color:white\" data-toggle=\"popover\">Go to TOC</a> "
      ],
      "metadata": {
        "id": "ei3FoVSu9OzG"
      }
    },
    {
      "cell_type": "markdown",
      "source": [
        "- The problem can be approached by developing neural network\n",
        "- Time series forecasting approach can also be tried out."
      ],
      "metadata": {
        "id": "6NbRo3kuNE2S"
      }
    },
    {
      "cell_type": "markdown",
      "source": [
        "# 9: Reference <a name=\"9\"></a>\n",
        "\n",
        "\n",
        "---\n",
        "<a href=\"#top\" class=\"btn btn-primary btn-sm\" role=\"button\" aria-pressed=\"true\" style=\"color:white\" data-toggle=\"popover\">Go to TOC</a> "
      ],
      "metadata": {
        "id": "aLusFJQu9Oh6"
      }
    },
    {
      "cell_type": "markdown",
      "source": [
        "- https://scikit-learn.org/stable/modules/generated/sklearn.linear_model.LinearRegression.html\n",
        "- https://pandas.pydata.org/docs/\n",
        "- https://scikit-learn.org/stable/modules/generated/sklearn.tree.DecisionTreeRegressor.html\n",
        "- https://towardsdatascience.com/xgboost-fine-tune-and-optimize-your-model-23d996fab663"
      ],
      "metadata": {
        "id": "EswKWZEX1VTY"
      }
    },
    {
      "cell_type": "markdown",
      "source": [
        "# **The End**"
      ],
      "metadata": {
        "id": "-hD9pfty1o8c"
      }
    }
  ]
}