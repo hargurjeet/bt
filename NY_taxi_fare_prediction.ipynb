{
  "nbformat": 4,
  "nbformat_minor": 0,
  "metadata": {
    "colab": {
      "name": "NY_taxi_fare_prediction.ipynb",
      "provenance": [],
      "authorship_tag": "ABX9TyNw0JhFMTbDjgd2/5cN+EsC",
      "include_colab_link": true
    },
    "kernelspec": {
      "name": "python3",
      "display_name": "Python 3"
    },
    "language_info": {
      "name": "python"
    }
  },
  "cells": [
    {
      "cell_type": "markdown",
      "metadata": {
        "id": "view-in-github",
        "colab_type": "text"
      },
      "source": [
        "<a href=\"https://colab.research.google.com/github/hargurjeet/bt/blob/main/NY_taxi_fare_prediction.ipynb\" target=\"_parent\"><img src=\"https://colab.research.google.com/assets/colab-badge.svg\" alt=\"Open In Colab\"/></a>"
      ]
    },
    {
      "cell_type": "markdown",
      "source": [
        "## Intitial Observations\n",
        "\n",
        "- It is a supervised machine learning problem\n",
        "- The dataset contians overall 50,000 records\n",
        "- Following are the feature of the dataset\n",
        "  - key - Unique string identifying each row in both the training and test sets. Comprised of pickup_datetime plus a unique integer, but this doesn't matter, it should just be used as a unique ID field. \n",
        "  - fare_amount (target)- float dollar amount of the cost of the taxi ride. \n",
        "  - pickup_datetime - timestamp value indicating when the taxi ride started.\n",
        "  - pickup_longitude - float for longitude coordinate of where the taxi ride started.\n",
        "  - pickup_latitude - float for latitude coordinate of where the taxi ride started.\n",
        "  - dropoff_longitude - float for longitude coordinate of where the taxi ride ended.\n",
        "  - dropoff_latitude - float for latitude coordinate of where the taxi ride ended.\n",
        "  - passenger_count - integer indicating the number of passengers in the taxi ride."
      ],
      "metadata": {
        "id": "qFDTWmArWfW8"
      }
    },
    {
      "cell_type": "code",
      "execution_count": 121,
      "metadata": {
        "id": "alxz7xTRUnGk"
      },
      "outputs": [],
      "source": [
        "## Perfoming the required imports\n",
        "import pandas as pd\n",
        "import numpy as np\n",
        "from sklearn.model_selection import train_test_split\n",
        "from sklearn.metrics import mean_squared_error\n",
        "from sklearn.linear_model import LinearRegression"
      ]
    },
    {
      "cell_type": "code",
      "source": [
        "required_cols = ['fare_amount', 'pickup_datetime', 'pickup_longitude',\n",
        "       'pickup_latitude', 'dropoff_longitude', 'dropoff_latitude',\n",
        "       'passenger_count']\n",
        "\n",
        "dtypes = {\n",
        "    'fare_amount' : 'float32', \n",
        "    'pickup_datetime': 'float32',\n",
        "    'pickup_longitude': 'float32',\n",
        "    'pickup_latitude': 'float32',\n",
        "    'dropoff_longitude': 'float32',\n",
        "    'dropoff_latitude': 'float32',\n",
        "    'passenger_count': 'uint8'\n",
        "}\n",
        "file_path = 'https://raw.githubusercontent.com/hargurjeet/bt/main/ny_taxi_fare_data.csv'\n",
        "df = pd.read_csv(file_path, \n",
        "                 usecols = required_cols, \n",
        "                 parse_dates=['pickup_datetime'],\n",
        "                 dtype = dtypes)\n",
        "df.head()"
      ],
      "metadata": {
        "colab": {
          "base_uri": "https://localhost:8080/",
          "height": 206
        },
        "id": "L1vE6tNOVNuO",
        "outputId": "214d0323-d68b-4004-805b-e1305a6e5226"
      },
      "execution_count": 122,
      "outputs": [
        {
          "output_type": "execute_result",
          "data": {
            "text/plain": [
              "   fare_amount           pickup_datetime  pickup_longitude  pickup_latitude  \\\n",
              "0          4.5 2009-06-15 17:26:21+00:00        -73.844315        40.721317   \n",
              "1         16.9 2010-01-05 16:52:16+00:00        -74.016045        40.711304   \n",
              "2          5.7 2011-08-18 00:35:00+00:00        -73.982735        40.761269   \n",
              "3          7.7 2012-04-21 04:30:42+00:00        -73.987129        40.733143   \n",
              "4          5.3 2010-03-09 07:51:00+00:00        -73.968094        40.768009   \n",
              "\n",
              "   dropoff_longitude  dropoff_latitude  passenger_count  \n",
              "0         -73.841614         40.712276                1  \n",
              "1         -73.979271         40.782005                1  \n",
              "2         -73.991241         40.750561                2  \n",
              "3         -73.991570         40.758091                1  \n",
              "4         -73.956657         40.783764                1  "
            ],
            "text/html": [
              "\n",
              "  <div id=\"df-c6f1e4ba-1b17-4699-b7ef-efa2cd771735\">\n",
              "    <div class=\"colab-df-container\">\n",
              "      <div>\n",
              "<style scoped>\n",
              "    .dataframe tbody tr th:only-of-type {\n",
              "        vertical-align: middle;\n",
              "    }\n",
              "\n",
              "    .dataframe tbody tr th {\n",
              "        vertical-align: top;\n",
              "    }\n",
              "\n",
              "    .dataframe thead th {\n",
              "        text-align: right;\n",
              "    }\n",
              "</style>\n",
              "<table border=\"1\" class=\"dataframe\">\n",
              "  <thead>\n",
              "    <tr style=\"text-align: right;\">\n",
              "      <th></th>\n",
              "      <th>fare_amount</th>\n",
              "      <th>pickup_datetime</th>\n",
              "      <th>pickup_longitude</th>\n",
              "      <th>pickup_latitude</th>\n",
              "      <th>dropoff_longitude</th>\n",
              "      <th>dropoff_latitude</th>\n",
              "      <th>passenger_count</th>\n",
              "    </tr>\n",
              "  </thead>\n",
              "  <tbody>\n",
              "    <tr>\n",
              "      <th>0</th>\n",
              "      <td>4.5</td>\n",
              "      <td>2009-06-15 17:26:21+00:00</td>\n",
              "      <td>-73.844315</td>\n",
              "      <td>40.721317</td>\n",
              "      <td>-73.841614</td>\n",
              "      <td>40.712276</td>\n",
              "      <td>1</td>\n",
              "    </tr>\n",
              "    <tr>\n",
              "      <th>1</th>\n",
              "      <td>16.9</td>\n",
              "      <td>2010-01-05 16:52:16+00:00</td>\n",
              "      <td>-74.016045</td>\n",
              "      <td>40.711304</td>\n",
              "      <td>-73.979271</td>\n",
              "      <td>40.782005</td>\n",
              "      <td>1</td>\n",
              "    </tr>\n",
              "    <tr>\n",
              "      <th>2</th>\n",
              "      <td>5.7</td>\n",
              "      <td>2011-08-18 00:35:00+00:00</td>\n",
              "      <td>-73.982735</td>\n",
              "      <td>40.761269</td>\n",
              "      <td>-73.991241</td>\n",
              "      <td>40.750561</td>\n",
              "      <td>2</td>\n",
              "    </tr>\n",
              "    <tr>\n",
              "      <th>3</th>\n",
              "      <td>7.7</td>\n",
              "      <td>2012-04-21 04:30:42+00:00</td>\n",
              "      <td>-73.987129</td>\n",
              "      <td>40.733143</td>\n",
              "      <td>-73.991570</td>\n",
              "      <td>40.758091</td>\n",
              "      <td>1</td>\n",
              "    </tr>\n",
              "    <tr>\n",
              "      <th>4</th>\n",
              "      <td>5.3</td>\n",
              "      <td>2010-03-09 07:51:00+00:00</td>\n",
              "      <td>-73.968094</td>\n",
              "      <td>40.768009</td>\n",
              "      <td>-73.956657</td>\n",
              "      <td>40.783764</td>\n",
              "      <td>1</td>\n",
              "    </tr>\n",
              "  </tbody>\n",
              "</table>\n",
              "</div>\n",
              "      <button class=\"colab-df-convert\" onclick=\"convertToInteractive('df-c6f1e4ba-1b17-4699-b7ef-efa2cd771735')\"\n",
              "              title=\"Convert this dataframe to an interactive table.\"\n",
              "              style=\"display:none;\">\n",
              "        \n",
              "  <svg xmlns=\"http://www.w3.org/2000/svg\" height=\"24px\"viewBox=\"0 0 24 24\"\n",
              "       width=\"24px\">\n",
              "    <path d=\"M0 0h24v24H0V0z\" fill=\"none\"/>\n",
              "    <path d=\"M18.56 5.44l.94 2.06.94-2.06 2.06-.94-2.06-.94-.94-2.06-.94 2.06-2.06.94zm-11 1L8.5 8.5l.94-2.06 2.06-.94-2.06-.94L8.5 2.5l-.94 2.06-2.06.94zm10 10l.94 2.06.94-2.06 2.06-.94-2.06-.94-.94-2.06-.94 2.06-2.06.94z\"/><path d=\"M17.41 7.96l-1.37-1.37c-.4-.4-.92-.59-1.43-.59-.52 0-1.04.2-1.43.59L10.3 9.45l-7.72 7.72c-.78.78-.78 2.05 0 2.83L4 21.41c.39.39.9.59 1.41.59.51 0 1.02-.2 1.41-.59l7.78-7.78 2.81-2.81c.8-.78.8-2.07 0-2.86zM5.41 20L4 18.59l7.72-7.72 1.47 1.35L5.41 20z\"/>\n",
              "  </svg>\n",
              "      </button>\n",
              "      \n",
              "  <style>\n",
              "    .colab-df-container {\n",
              "      display:flex;\n",
              "      flex-wrap:wrap;\n",
              "      gap: 12px;\n",
              "    }\n",
              "\n",
              "    .colab-df-convert {\n",
              "      background-color: #E8F0FE;\n",
              "      border: none;\n",
              "      border-radius: 50%;\n",
              "      cursor: pointer;\n",
              "      display: none;\n",
              "      fill: #1967D2;\n",
              "      height: 32px;\n",
              "      padding: 0 0 0 0;\n",
              "      width: 32px;\n",
              "    }\n",
              "\n",
              "    .colab-df-convert:hover {\n",
              "      background-color: #E2EBFA;\n",
              "      box-shadow: 0px 1px 2px rgba(60, 64, 67, 0.3), 0px 1px 3px 1px rgba(60, 64, 67, 0.15);\n",
              "      fill: #174EA6;\n",
              "    }\n",
              "\n",
              "    [theme=dark] .colab-df-convert {\n",
              "      background-color: #3B4455;\n",
              "      fill: #D2E3FC;\n",
              "    }\n",
              "\n",
              "    [theme=dark] .colab-df-convert:hover {\n",
              "      background-color: #434B5C;\n",
              "      box-shadow: 0px 1px 3px 1px rgba(0, 0, 0, 0.15);\n",
              "      filter: drop-shadow(0px 1px 2px rgba(0, 0, 0, 0.3));\n",
              "      fill: #FFFFFF;\n",
              "    }\n",
              "  </style>\n",
              "\n",
              "      <script>\n",
              "        const buttonEl =\n",
              "          document.querySelector('#df-c6f1e4ba-1b17-4699-b7ef-efa2cd771735 button.colab-df-convert');\n",
              "        buttonEl.style.display =\n",
              "          google.colab.kernel.accessAllowed ? 'block' : 'none';\n",
              "\n",
              "        async function convertToInteractive(key) {\n",
              "          const element = document.querySelector('#df-c6f1e4ba-1b17-4699-b7ef-efa2cd771735');\n",
              "          const dataTable =\n",
              "            await google.colab.kernel.invokeFunction('convertToInteractive',\n",
              "                                                     [key], {});\n",
              "          if (!dataTable) return;\n",
              "\n",
              "          const docLinkHtml = 'Like what you see? Visit the ' +\n",
              "            '<a target=\"_blank\" href=https://colab.research.google.com/notebooks/data_table.ipynb>data table notebook</a>'\n",
              "            + ' to learn more about interactive tables.';\n",
              "          element.innerHTML = '';\n",
              "          dataTable['output_type'] = 'display_data';\n",
              "          await google.colab.output.renderOutput(dataTable, element);\n",
              "          const docLink = document.createElement('div');\n",
              "          docLink.innerHTML = docLinkHtml;\n",
              "          element.appendChild(docLink);\n",
              "        }\n",
              "      </script>\n",
              "    </div>\n",
              "  </div>\n",
              "  "
            ]
          },
          "metadata": {},
          "execution_count": 122
        }
      ]
    },
    {
      "cell_type": "code",
      "source": [
        "df.shape"
      ],
      "metadata": {
        "colab": {
          "base_uri": "https://localhost:8080/"
        },
        "id": "s2Wo1H-hVYz3",
        "outputId": "0873c6d6-364d-43cb-f95b-55e4435e1322"
      },
      "execution_count": 123,
      "outputs": [
        {
          "output_type": "execute_result",
          "data": {
            "text/plain": [
              "(50000, 7)"
            ]
          },
          "metadata": {},
          "execution_count": 123
        }
      ]
    },
    {
      "cell_type": "markdown",
      "source": [
        "# Data Exploration\n",
        "\n",
        "- Basics info regarding dataset\n",
        "- EDA and visualizaitons\n",
        "- Key insights"
      ],
      "metadata": {
        "id": "8jB22zCXbi7Y"
      }
    },
    {
      "cell_type": "code",
      "source": [
        "df.info()"
      ],
      "metadata": {
        "colab": {
          "base_uri": "https://localhost:8080/"
        },
        "id": "v1HLdW9rWW_c",
        "outputId": "2ec1f3d7-7bcb-4b4c-a4b2-4e951c77f6d2"
      },
      "execution_count": 124,
      "outputs": [
        {
          "output_type": "stream",
          "name": "stdout",
          "text": [
            "<class 'pandas.core.frame.DataFrame'>\n",
            "RangeIndex: 50000 entries, 0 to 49999\n",
            "Data columns (total 7 columns):\n",
            " #   Column             Non-Null Count  Dtype              \n",
            "---  ------             --------------  -----              \n",
            " 0   fare_amount        50000 non-null  float32            \n",
            " 1   pickup_datetime    50000 non-null  datetime64[ns, UTC]\n",
            " 2   pickup_longitude   50000 non-null  float32            \n",
            " 3   pickup_latitude    50000 non-null  float32            \n",
            " 4   dropoff_longitude  50000 non-null  float32            \n",
            " 5   dropoff_latitude   50000 non-null  float32            \n",
            " 6   passenger_count    50000 non-null  uint8              \n",
            "dtypes: datetime64[ns, UTC](1), float32(5), uint8(1)\n",
            "memory usage: 1.4 MB\n"
          ]
        }
      ]
    },
    {
      "cell_type": "markdown",
      "source": [
        "There seems to be no null values within the dataset"
      ],
      "metadata": {
        "id": "GUGswPl1b-JI"
      }
    },
    {
      "cell_type": "code",
      "source": [
        "df.describe()"
      ],
      "metadata": {
        "colab": {
          "base_uri": "https://localhost:8080/",
          "height": 300
        },
        "id": "Gpe1IOnBb3Q0",
        "outputId": "32371f1c-9b8f-42d6-a180-75b6219fc5b4"
      },
      "execution_count": 125,
      "outputs": [
        {
          "output_type": "execute_result",
          "data": {
            "text/plain": [
              "        fare_amount  pickup_longitude  pickup_latitude  dropoff_longitude  \\\n",
              "count  50000.000000      50000.000000     50000.000000       50000.000000   \n",
              "mean      11.364215        -72.521416        39.931904         -72.517723   \n",
              "std        9.685438         10.392804         6.224685          10.406597   \n",
              "min       -5.000000        -75.423851       -74.006889         -84.654243   \n",
              "25%        6.000000        -73.992065        40.734879         -73.991150   \n",
              "50%        8.500000        -73.981842        40.752678         -73.980080   \n",
              "75%       12.500000        -73.967148        40.767361         -73.963585   \n",
              "max      200.000000         40.783470       401.083344          40.851028   \n",
              "\n",
              "       dropoff_latitude  passenger_count  \n",
              "count      50000.000000     50000.000000  \n",
              "mean          39.924244         1.667840  \n",
              "std            6.014816         1.289195  \n",
              "min          -74.006378         0.000000  \n",
              "25%           40.734371         1.000000  \n",
              "50%           40.753372         1.000000  \n",
              "75%           40.768166         2.000000  \n",
              "max           43.415192         6.000000  "
            ],
            "text/html": [
              "\n",
              "  <div id=\"df-88511149-250d-45c6-afb8-bf7cb8f76b03\">\n",
              "    <div class=\"colab-df-container\">\n",
              "      <div>\n",
              "<style scoped>\n",
              "    .dataframe tbody tr th:only-of-type {\n",
              "        vertical-align: middle;\n",
              "    }\n",
              "\n",
              "    .dataframe tbody tr th {\n",
              "        vertical-align: top;\n",
              "    }\n",
              "\n",
              "    .dataframe thead th {\n",
              "        text-align: right;\n",
              "    }\n",
              "</style>\n",
              "<table border=\"1\" class=\"dataframe\">\n",
              "  <thead>\n",
              "    <tr style=\"text-align: right;\">\n",
              "      <th></th>\n",
              "      <th>fare_amount</th>\n",
              "      <th>pickup_longitude</th>\n",
              "      <th>pickup_latitude</th>\n",
              "      <th>dropoff_longitude</th>\n",
              "      <th>dropoff_latitude</th>\n",
              "      <th>passenger_count</th>\n",
              "    </tr>\n",
              "  </thead>\n",
              "  <tbody>\n",
              "    <tr>\n",
              "      <th>count</th>\n",
              "      <td>50000.000000</td>\n",
              "      <td>50000.000000</td>\n",
              "      <td>50000.000000</td>\n",
              "      <td>50000.000000</td>\n",
              "      <td>50000.000000</td>\n",
              "      <td>50000.000000</td>\n",
              "    </tr>\n",
              "    <tr>\n",
              "      <th>mean</th>\n",
              "      <td>11.364215</td>\n",
              "      <td>-72.521416</td>\n",
              "      <td>39.931904</td>\n",
              "      <td>-72.517723</td>\n",
              "      <td>39.924244</td>\n",
              "      <td>1.667840</td>\n",
              "    </tr>\n",
              "    <tr>\n",
              "      <th>std</th>\n",
              "      <td>9.685438</td>\n",
              "      <td>10.392804</td>\n",
              "      <td>6.224685</td>\n",
              "      <td>10.406597</td>\n",
              "      <td>6.014816</td>\n",
              "      <td>1.289195</td>\n",
              "    </tr>\n",
              "    <tr>\n",
              "      <th>min</th>\n",
              "      <td>-5.000000</td>\n",
              "      <td>-75.423851</td>\n",
              "      <td>-74.006889</td>\n",
              "      <td>-84.654243</td>\n",
              "      <td>-74.006378</td>\n",
              "      <td>0.000000</td>\n",
              "    </tr>\n",
              "    <tr>\n",
              "      <th>25%</th>\n",
              "      <td>6.000000</td>\n",
              "      <td>-73.992065</td>\n",
              "      <td>40.734879</td>\n",
              "      <td>-73.991150</td>\n",
              "      <td>40.734371</td>\n",
              "      <td>1.000000</td>\n",
              "    </tr>\n",
              "    <tr>\n",
              "      <th>50%</th>\n",
              "      <td>8.500000</td>\n",
              "      <td>-73.981842</td>\n",
              "      <td>40.752678</td>\n",
              "      <td>-73.980080</td>\n",
              "      <td>40.753372</td>\n",
              "      <td>1.000000</td>\n",
              "    </tr>\n",
              "    <tr>\n",
              "      <th>75%</th>\n",
              "      <td>12.500000</td>\n",
              "      <td>-73.967148</td>\n",
              "      <td>40.767361</td>\n",
              "      <td>-73.963585</td>\n",
              "      <td>40.768166</td>\n",
              "      <td>2.000000</td>\n",
              "    </tr>\n",
              "    <tr>\n",
              "      <th>max</th>\n",
              "      <td>200.000000</td>\n",
              "      <td>40.783470</td>\n",
              "      <td>401.083344</td>\n",
              "      <td>40.851028</td>\n",
              "      <td>43.415192</td>\n",
              "      <td>6.000000</td>\n",
              "    </tr>\n",
              "  </tbody>\n",
              "</table>\n",
              "</div>\n",
              "      <button class=\"colab-df-convert\" onclick=\"convertToInteractive('df-88511149-250d-45c6-afb8-bf7cb8f76b03')\"\n",
              "              title=\"Convert this dataframe to an interactive table.\"\n",
              "              style=\"display:none;\">\n",
              "        \n",
              "  <svg xmlns=\"http://www.w3.org/2000/svg\" height=\"24px\"viewBox=\"0 0 24 24\"\n",
              "       width=\"24px\">\n",
              "    <path d=\"M0 0h24v24H0V0z\" fill=\"none\"/>\n",
              "    <path d=\"M18.56 5.44l.94 2.06.94-2.06 2.06-.94-2.06-.94-.94-2.06-.94 2.06-2.06.94zm-11 1L8.5 8.5l.94-2.06 2.06-.94-2.06-.94L8.5 2.5l-.94 2.06-2.06.94zm10 10l.94 2.06.94-2.06 2.06-.94-2.06-.94-.94-2.06-.94 2.06-2.06.94z\"/><path d=\"M17.41 7.96l-1.37-1.37c-.4-.4-.92-.59-1.43-.59-.52 0-1.04.2-1.43.59L10.3 9.45l-7.72 7.72c-.78.78-.78 2.05 0 2.83L4 21.41c.39.39.9.59 1.41.59.51 0 1.02-.2 1.41-.59l7.78-7.78 2.81-2.81c.8-.78.8-2.07 0-2.86zM5.41 20L4 18.59l7.72-7.72 1.47 1.35L5.41 20z\"/>\n",
              "  </svg>\n",
              "      </button>\n",
              "      \n",
              "  <style>\n",
              "    .colab-df-container {\n",
              "      display:flex;\n",
              "      flex-wrap:wrap;\n",
              "      gap: 12px;\n",
              "    }\n",
              "\n",
              "    .colab-df-convert {\n",
              "      background-color: #E8F0FE;\n",
              "      border: none;\n",
              "      border-radius: 50%;\n",
              "      cursor: pointer;\n",
              "      display: none;\n",
              "      fill: #1967D2;\n",
              "      height: 32px;\n",
              "      padding: 0 0 0 0;\n",
              "      width: 32px;\n",
              "    }\n",
              "\n",
              "    .colab-df-convert:hover {\n",
              "      background-color: #E2EBFA;\n",
              "      box-shadow: 0px 1px 2px rgba(60, 64, 67, 0.3), 0px 1px 3px 1px rgba(60, 64, 67, 0.15);\n",
              "      fill: #174EA6;\n",
              "    }\n",
              "\n",
              "    [theme=dark] .colab-df-convert {\n",
              "      background-color: #3B4455;\n",
              "      fill: #D2E3FC;\n",
              "    }\n",
              "\n",
              "    [theme=dark] .colab-df-convert:hover {\n",
              "      background-color: #434B5C;\n",
              "      box-shadow: 0px 1px 3px 1px rgba(0, 0, 0, 0.15);\n",
              "      filter: drop-shadow(0px 1px 2px rgba(0, 0, 0, 0.3));\n",
              "      fill: #FFFFFF;\n",
              "    }\n",
              "  </style>\n",
              "\n",
              "      <script>\n",
              "        const buttonEl =\n",
              "          document.querySelector('#df-88511149-250d-45c6-afb8-bf7cb8f76b03 button.colab-df-convert');\n",
              "        buttonEl.style.display =\n",
              "          google.colab.kernel.accessAllowed ? 'block' : 'none';\n",
              "\n",
              "        async function convertToInteractive(key) {\n",
              "          const element = document.querySelector('#df-88511149-250d-45c6-afb8-bf7cb8f76b03');\n",
              "          const dataTable =\n",
              "            await google.colab.kernel.invokeFunction('convertToInteractive',\n",
              "                                                     [key], {});\n",
              "          if (!dataTable) return;\n",
              "\n",
              "          const docLinkHtml = 'Like what you see? Visit the ' +\n",
              "            '<a target=\"_blank\" href=https://colab.research.google.com/notebooks/data_table.ipynb>data table notebook</a>'\n",
              "            + ' to learn more about interactive tables.';\n",
              "          element.innerHTML = '';\n",
              "          dataTable['output_type'] = 'display_data';\n",
              "          await google.colab.output.renderOutput(dataTable, element);\n",
              "          const docLink = document.createElement('div');\n",
              "          docLink.innerHTML = docLinkHtml;\n",
              "          element.appendChild(docLink);\n",
              "        }\n",
              "      </script>\n",
              "    </div>\n",
              "  </div>\n",
              "  "
            ]
          },
          "metadata": {},
          "execution_count": 125
        }
      ]
    },
    {
      "cell_type": "code",
      "source": [
        "def min_max_date(df, date_col):\n",
        "  return df[date_col].max(), df[date_col].min()\n",
        "\n",
        "min_max_date(df, 'pickup_datetime')"
      ],
      "metadata": {
        "colab": {
          "base_uri": "https://localhost:8080/"
        },
        "id": "1DOVOa28cDZ4",
        "outputId": "1b13e613-bd25-47b7-804c-0bbf0830d24a"
      },
      "execution_count": 126,
      "outputs": [
        {
          "output_type": "execute_result",
          "data": {
            "text/plain": [
              "(Timestamp('2015-06-30 22:42:39+0000', tz='UTC'),\n",
              " Timestamp('2009-01-01 01:31:49+0000', tz='UTC'))"
            ]
          },
          "metadata": {},
          "execution_count": 126
        }
      ]
    },
    {
      "cell_type": "markdown",
      "source": [
        "Obseravations - \n",
        "- min fare amount is -5 dollars  and max is 200 dollars\n",
        "- 50% values are under 8.5$, 75% of rides cost less than 12.5$. This gives the basic understanding how good our models need to be.\n",
        "- While making prediction, I would expect my prediciton to be under +_ 3$ range otherwise I am off by a lot.\n",
        "- max passege count is 6 which is highly unlikely. Hence we might requrie some data cleanup.\n",
        "- observing the min and max date its about 6 years of worth of data"
      ],
      "metadata": {
        "id": "n3t-6quTcFoL"
      }
    },
    {
      "cell_type": "markdown",
      "source": [
        "# 3. EDA and Visualization"
      ],
      "metadata": {
        "id": "Z3Fnm_ATflYO"
      }
    },
    {
      "cell_type": "code",
      "source": [
        ""
      ],
      "metadata": {
        "id": "4p-9XwnvekSY"
      },
      "execution_count": 126,
      "outputs": []
    },
    {
      "cell_type": "code",
      "source": [
        ""
      ],
      "metadata": {
        "id": "ya-gzJlefgA_"
      },
      "execution_count": 126,
      "outputs": []
    },
    {
      "cell_type": "code",
      "source": [
        ""
      ],
      "metadata": {
        "id": "oiH0yN2h5uZl"
      },
      "execution_count": 126,
      "outputs": []
    },
    {
      "cell_type": "markdown",
      "source": [
        "#4. Preparing the dataset"
      ],
      "metadata": {
        "id": "rieIm-8i5u72"
      }
    },
    {
      "cell_type": "markdown",
      "source": [
        "We will set aside 20% of our data as validation set for evaluation of our model"
      ],
      "metadata": {
        "id": "a3YXdEEL54_H"
      }
    },
    {
      "cell_type": "code",
      "source": [
        "train_df, val_df = train_test_split(df, test_size=0.2, random_state=42)"
      ],
      "metadata": {
        "id": "11N95lc15w_O"
      },
      "execution_count": 127,
      "outputs": []
    },
    {
      "cell_type": "code",
      "source": [
        "len(train_df), len(val_df)"
      ],
      "metadata": {
        "colab": {
          "base_uri": "https://localhost:8080/"
        },
        "id": "TpITHkVp6zpA",
        "outputId": "9f55915e-2566-47cd-c876-97974bb89694"
      },
      "execution_count": 128,
      "outputs": [
        {
          "output_type": "execute_result",
          "data": {
            "text/plain": [
              "(40000, 10000)"
            ]
          },
          "metadata": {},
          "execution_count": 128
        }
      ]
    },
    {
      "cell_type": "code",
      "source": [
        "## extract input and targets\n",
        "\n",
        "train_df.columns"
      ],
      "metadata": {
        "colab": {
          "base_uri": "https://localhost:8080/"
        },
        "id": "Aqy1I0pX64EB",
        "outputId": "24c283c2-e38d-455a-9c0f-c5b57a2d7e3b"
      },
      "execution_count": 129,
      "outputs": [
        {
          "output_type": "execute_result",
          "data": {
            "text/plain": [
              "Index(['fare_amount', 'pickup_datetime', 'pickup_longitude', 'pickup_latitude',\n",
              "       'dropoff_longitude', 'dropoff_latitude', 'passenger_count'],\n",
              "      dtype='object')"
            ]
          },
          "metadata": {},
          "execution_count": 129
        }
      ]
    },
    {
      "cell_type": "code",
      "source": [
        "input_cols = ['pickup_longitude', 'pickup_latitude','dropoff_longitude', 'dropoff_latitude', 'passenger_count']\n",
        "target_cols = 'fare_amount'"
      ],
      "metadata": {
        "id": "tp1WnFLt7eqm"
      },
      "execution_count": 130,
      "outputs": []
    },
    {
      "cell_type": "code",
      "source": [
        "train_inputs = train_df[input_cols]\n",
        "train_targets = train_df[target_cols]\n",
        "val_inputs = val_df[input_cols]\n",
        "val_targets = val_df[target_cols]"
      ],
      "metadata": {
        "id": "ABd3i3YA7pXh"
      },
      "execution_count": 131,
      "outputs": []
    },
    {
      "cell_type": "markdown",
      "source": [
        "# 5. Train baseline models"
      ],
      "metadata": {
        "id": "0rHHBBjX8iQY"
      }
    },
    {
      "cell_type": "code",
      "source": [
        "class regressor():\n",
        "  def fit(self, inputs, targets):\n",
        "    self.mean = targets.mean()\n",
        "\n",
        "  def predicts(self, inputs):\n",
        "    return np.full(inputs.shape[0], self.mean)"
      ],
      "metadata": {
        "id": "bOop_6yt8Dtn"
      },
      "execution_count": 132,
      "outputs": []
    },
    {
      "cell_type": "code",
      "source": [
        "np.full([40000], 40000)"
      ],
      "metadata": {
        "colab": {
          "base_uri": "https://localhost:8080/"
        },
        "id": "zvx0LZCQ9F3O",
        "outputId": "302fa55a-6c1b-46d6-d06c-4a411f34a506"
      },
      "execution_count": 133,
      "outputs": [
        {
          "output_type": "execute_result",
          "data": {
            "text/plain": [
              "array([40000, 40000, 40000, ..., 40000, 40000, 40000])"
            ]
          },
          "metadata": {},
          "execution_count": 133
        }
      ]
    },
    {
      "cell_type": "code",
      "source": [
        "mean_model = regressor()"
      ],
      "metadata": {
        "id": "pPT1ZlMk-Jt6"
      },
      "execution_count": 134,
      "outputs": []
    },
    {
      "cell_type": "code",
      "source": [
        "mean_model.fit(train_inputs, train_targets)\n",
        "print(f'Average fare for the taxi id {mean_model.mean}')"
      ],
      "metadata": {
        "colab": {
          "base_uri": "https://localhost:8080/"
        },
        "id": "noXFfW7n-_pt",
        "outputId": "05af65fd-d850-4de9-fa04-0faa974f43f4"
      },
      "execution_count": 135,
      "outputs": [
        {
          "output_type": "stream",
          "name": "stdout",
          "text": [
            "Average fare for the taxi id 11.376873970031738\n"
          ]
        }
      ]
    },
    {
      "cell_type": "code",
      "source": [
        "mean_model.predicts(train_inputs)"
      ],
      "metadata": {
        "colab": {
          "base_uri": "https://localhost:8080/"
        },
        "id": "l_GHUqJ2_LnZ",
        "outputId": "8abfbd02-d1f0-42b7-dc9a-4a4ce9708849"
      },
      "execution_count": 136,
      "outputs": [
        {
          "output_type": "execute_result",
          "data": {
            "text/plain": [
              "array([11.37687397, 11.37687397, 11.37687397, ..., 11.37687397,\n",
              "       11.37687397, 11.37687397])"
            ]
          },
          "metadata": {},
          "execution_count": 136
        }
      ]
    },
    {
      "cell_type": "code",
      "source": [
        "train_targets"
      ],
      "metadata": {
        "colab": {
          "base_uri": "https://localhost:8080/"
        },
        "id": "LMMUBkp9AtmC",
        "outputId": "476390da-6916-4f59-cb48-b66156d62553"
      },
      "execution_count": 137,
      "outputs": [
        {
          "output_type": "execute_result",
          "data": {
            "text/plain": [
              "39087    10.000000\n",
              "30893     4.000000\n",
              "45278     6.900000\n",
              "16398     7.700000\n",
              "13653     4.500000\n",
              "           ...    \n",
              "11284     6.500000\n",
              "44732     3.700000\n",
              "38158    12.100000\n",
              "860      12.100000\n",
              "15795    57.330002\n",
              "Name: fare_amount, Length: 40000, dtype: float32"
            ]
          },
          "metadata": {},
          "execution_count": 137
        }
      ]
    },
    {
      "cell_type": "code",
      "source": [
        "mean_model.predicts(val_inputs)"
      ],
      "metadata": {
        "colab": {
          "base_uri": "https://localhost:8080/"
        },
        "id": "OrCMnFVy_7_U",
        "outputId": "1ac16152-ef0b-4781-9bd1-9416b07e40f8"
      },
      "execution_count": 138,
      "outputs": [
        {
          "output_type": "execute_result",
          "data": {
            "text/plain": [
              "array([11.37687397, 11.37687397, 11.37687397, ..., 11.37687397,\n",
              "       11.37687397, 11.37687397])"
            ]
          },
          "metadata": {},
          "execution_count": 138
        }
      ]
    },
    {
      "cell_type": "code",
      "source": [
        "val_targets"
      ],
      "metadata": {
        "colab": {
          "base_uri": "https://localhost:8080/"
        },
        "id": "pfvheRDHAniu",
        "outputId": "631ed9e1-2e57-4fbc-d653-9e0cbb4cf425"
      },
      "execution_count": 139,
      "outputs": [
        {
          "output_type": "execute_result",
          "data": {
            "text/plain": [
              "33553     7.300000\n",
              "9427     33.299999\n",
              "199       5.500000\n",
              "12447     7.000000\n",
              "39489     5.300000\n",
              "           ...    \n",
              "28567     9.300000\n",
              "25079     5.500000\n",
              "18707     6.500000\n",
              "15200    30.500000\n",
              "5857      6.900000\n",
              "Name: fare_amount, Length: 10000, dtype: float32"
            ]
          },
          "metadata": {},
          "execution_count": 139
        }
      ]
    },
    {
      "cell_type": "code",
      "source": [
        "def rmse(targets, predicitions):\n",
        "  return mean_squared_error(targets, predicitions, squared = False)\n",
        "\n",
        "rmse(train_targets, mean_model.predicts(train_inputs))"
      ],
      "metadata": {
        "colab": {
          "base_uri": "https://localhost:8080/"
        },
        "id": "c_t-47nqAziE",
        "outputId": "045d6d17-f5c6-4881-b68e-5fce7cc32276"
      },
      "execution_count": 140,
      "outputs": [
        {
          "output_type": "execute_result",
          "data": {
            "text/plain": [
              "9.696218748570448"
            ]
          },
          "metadata": {},
          "execution_count": 140
        }
      ]
    },
    {
      "cell_type": "markdown",
      "source": [
        "The average score is really bad. Any model we train should be better than this."
      ],
      "metadata": {
        "id": "oemhCsvBC0iX"
      }
    },
    {
      "cell_type": "code",
      "source": [
        "## Trying linear regression\n",
        "\n",
        "linear_model = LinearRegression()\n",
        "linear_model.fit(train_inputs, train_targets)\n",
        "train_preds = linear_model.predict(train_inputs)\n",
        "train_preds"
      ],
      "metadata": {
        "colab": {
          "base_uri": "https://localhost:8080/"
        },
        "id": "L5cKCSETBy6N",
        "outputId": "8e3bad41-c31e-42cd-dce2-5248c1fffd9f"
      },
      "execution_count": 141,
      "outputs": [
        {
          "output_type": "execute_result",
          "data": {
            "text/plain": [
              "array([11.819403, 11.820234, 11.687607, ..., 11.41951 , 11.284868,\n",
              "       11.286995], dtype=float32)"
            ]
          },
          "metadata": {},
          "execution_count": 141
        }
      ]
    },
    {
      "cell_type": "code",
      "source": [
        "train_targets"
      ],
      "metadata": {
        "colab": {
          "base_uri": "https://localhost:8080/"
        },
        "id": "HR7MNV0iDfjh",
        "outputId": "b6e78014-a55d-40ed-f3e7-c9f5e32a0aec"
      },
      "execution_count": 142,
      "outputs": [
        {
          "output_type": "execute_result",
          "data": {
            "text/plain": [
              "39087    10.000000\n",
              "30893     4.000000\n",
              "45278     6.900000\n",
              "16398     7.700000\n",
              "13653     4.500000\n",
              "           ...    \n",
              "11284     6.500000\n",
              "44732     3.700000\n",
              "38158    12.100000\n",
              "860      12.100000\n",
              "15795    57.330002\n",
              "Name: fare_amount, Length: 40000, dtype: float32"
            ]
          },
          "metadata": {},
          "execution_count": 142
        }
      ]
    },
    {
      "cell_type": "code",
      "source": [
        "rmse(train_targets, train_preds)"
      ],
      "metadata": {
        "colab": {
          "base_uri": "https://localhost:8080/"
        },
        "id": "IYhQQ0ltD4sL",
        "outputId": "5dde11fa-b6e2-4144-aeae-a471c048e588"
      },
      "execution_count": 143,
      "outputs": [
        {
          "output_type": "execute_result",
          "data": {
            "text/plain": [
              "9.694377"
            ]
          },
          "metadata": {},
          "execution_count": 143
        }
      ]
    },
    {
      "cell_type": "code",
      "source": [
        "val_preds = linear_model.predict(val_inputs)\n",
        "rmse(val_targets, val_preds)"
      ],
      "metadata": {
        "colab": {
          "base_uri": "https://localhost:8080/"
        },
        "id": "gH2pwzFfEFR2",
        "outputId": "db727f22-b952-4152-9b20-d8db5bf7f935"
      },
      "execution_count": 144,
      "outputs": [
        {
          "output_type": "execute_result",
          "data": {
            "text/plain": [
              "9.641011"
            ]
          },
          "metadata": {},
          "execution_count": 144
        }
      ]
    },
    {
      "cell_type": "markdown",
      "source": [
        "- May the model not learning well from lat and long data\n",
        "- We are not using pickup date time, fare can be seasonal and can depend on time of the day"
      ],
      "metadata": {
        "id": "liupnoEiE0pc"
      }
    },
    {
      "cell_type": "markdown",
      "source": [
        "# 6. Feature Engineering"
      ],
      "metadata": {
        "id": "HqykF-YaFc2E"
      }
    },
    {
      "cell_type": "markdown",
      "source": [
        "- Extract part of the dates\n",
        "- Remove outlier and invalid data\n",
        "- Add distances btw pickup and drop\n",
        "- Add distnace from landmark"
      ],
      "metadata": {
        "id": "SZbg3ZBqct2y"
      }
    },
    {
      "cell_type": "markdown",
      "source": [
        "## Extract Parts of Date\n",
        " - Year\n",
        " - Month\n",
        " - Day\n",
        " - Weekday\n",
        " - hour"
      ],
      "metadata": {
        "id": "Eu_oOfEacEaK"
      }
    },
    {
      "cell_type": "code",
      "source": [
        "def part_of_dates(df, column):\n",
        "  df[column+ '_year']= df[column].dt.year\n",
        "  df[column+ '_month']= df[column].dt.month\n",
        "  df[column+ '_day']= df[column].dt.day\n",
        "  df[column+ '_week']= df[column].dt.weekday\n",
        "  df[column+ '_hour']= df[column].dt.hour"
      ],
      "metadata": {
        "id": "Yzl-k6ExFcTJ"
      },
      "execution_count": 145,
      "outputs": []
    },
    {
      "cell_type": "code",
      "source": [
        "part_of_dates(train_df, 'pickup_datetime')\n",
        "part_of_dates(val_df, 'pickup_datetime')"
      ],
      "metadata": {
        "id": "oOd8X9hrEmGp"
      },
      "execution_count": 146,
      "outputs": []
    },
    {
      "cell_type": "code",
      "source": [
        "train_df.head()"
      ],
      "metadata": {
        "id": "yyyO4nHlemPF",
        "outputId": "1942c433-ace7-42ad-a9bd-f2ae3854adff",
        "colab": {
          "base_uri": "https://localhost:8080/",
          "height": 357
        }
      },
      "execution_count": 147,
      "outputs": [
        {
          "output_type": "execute_result",
          "data": {
            "text/plain": [
              "       fare_amount           pickup_datetime  pickup_longitude  \\\n",
              "39087         10.0 2013-07-27 17:04:00+00:00        -73.974335   \n",
              "30893          4.0 2013-01-08 09:26:00+00:00        -73.973656   \n",
              "45278          6.9 2012-03-17 16:45:00+00:00        -73.975266   \n",
              "16398          7.7 2012-06-08 09:01:17+00:00        -73.983032   \n",
              "13653          4.5 2015-06-22 17:30:49+00:00        -73.986717   \n",
              "\n",
              "       pickup_latitude  dropoff_longitude  dropoff_latitude  passenger_count  \\\n",
              "39087        40.791428         -73.979034         40.766365                5   \n",
              "30893        40.751633         -73.969948         40.756702                5   \n",
              "45278        40.752281         -73.995094         40.737499                4   \n",
              "16398        40.766785         -73.971947         40.789288                1   \n",
              "13653        40.771648         -73.982140         40.770699                1   \n",
              "\n",
              "       pickup_datetime_year  pickup_datetime_month  pickup_datetime_day  \\\n",
              "39087                  2013                      7                   27   \n",
              "30893                  2013                      1                    8   \n",
              "45278                  2012                      3                   17   \n",
              "16398                  2012                      6                    8   \n",
              "13653                  2015                      6                   22   \n",
              "\n",
              "       pickup_datetime_week  pickup_datetime_hour  \n",
              "39087                     5                    17  \n",
              "30893                     1                     9  \n",
              "45278                     5                    16  \n",
              "16398                     4                     9  \n",
              "13653                     0                    17  "
            ],
            "text/html": [
              "\n",
              "  <div id=\"df-09408e59-321f-475e-a590-ad654724e0d7\">\n",
              "    <div class=\"colab-df-container\">\n",
              "      <div>\n",
              "<style scoped>\n",
              "    .dataframe tbody tr th:only-of-type {\n",
              "        vertical-align: middle;\n",
              "    }\n",
              "\n",
              "    .dataframe tbody tr th {\n",
              "        vertical-align: top;\n",
              "    }\n",
              "\n",
              "    .dataframe thead th {\n",
              "        text-align: right;\n",
              "    }\n",
              "</style>\n",
              "<table border=\"1\" class=\"dataframe\">\n",
              "  <thead>\n",
              "    <tr style=\"text-align: right;\">\n",
              "      <th></th>\n",
              "      <th>fare_amount</th>\n",
              "      <th>pickup_datetime</th>\n",
              "      <th>pickup_longitude</th>\n",
              "      <th>pickup_latitude</th>\n",
              "      <th>dropoff_longitude</th>\n",
              "      <th>dropoff_latitude</th>\n",
              "      <th>passenger_count</th>\n",
              "      <th>pickup_datetime_year</th>\n",
              "      <th>pickup_datetime_month</th>\n",
              "      <th>pickup_datetime_day</th>\n",
              "      <th>pickup_datetime_week</th>\n",
              "      <th>pickup_datetime_hour</th>\n",
              "    </tr>\n",
              "  </thead>\n",
              "  <tbody>\n",
              "    <tr>\n",
              "      <th>39087</th>\n",
              "      <td>10.0</td>\n",
              "      <td>2013-07-27 17:04:00+00:00</td>\n",
              "      <td>-73.974335</td>\n",
              "      <td>40.791428</td>\n",
              "      <td>-73.979034</td>\n",
              "      <td>40.766365</td>\n",
              "      <td>5</td>\n",
              "      <td>2013</td>\n",
              "      <td>7</td>\n",
              "      <td>27</td>\n",
              "      <td>5</td>\n",
              "      <td>17</td>\n",
              "    </tr>\n",
              "    <tr>\n",
              "      <th>30893</th>\n",
              "      <td>4.0</td>\n",
              "      <td>2013-01-08 09:26:00+00:00</td>\n",
              "      <td>-73.973656</td>\n",
              "      <td>40.751633</td>\n",
              "      <td>-73.969948</td>\n",
              "      <td>40.756702</td>\n",
              "      <td>5</td>\n",
              "      <td>2013</td>\n",
              "      <td>1</td>\n",
              "      <td>8</td>\n",
              "      <td>1</td>\n",
              "      <td>9</td>\n",
              "    </tr>\n",
              "    <tr>\n",
              "      <th>45278</th>\n",
              "      <td>6.9</td>\n",
              "      <td>2012-03-17 16:45:00+00:00</td>\n",
              "      <td>-73.975266</td>\n",
              "      <td>40.752281</td>\n",
              "      <td>-73.995094</td>\n",
              "      <td>40.737499</td>\n",
              "      <td>4</td>\n",
              "      <td>2012</td>\n",
              "      <td>3</td>\n",
              "      <td>17</td>\n",
              "      <td>5</td>\n",
              "      <td>16</td>\n",
              "    </tr>\n",
              "    <tr>\n",
              "      <th>16398</th>\n",
              "      <td>7.7</td>\n",
              "      <td>2012-06-08 09:01:17+00:00</td>\n",
              "      <td>-73.983032</td>\n",
              "      <td>40.766785</td>\n",
              "      <td>-73.971947</td>\n",
              "      <td>40.789288</td>\n",
              "      <td>1</td>\n",
              "      <td>2012</td>\n",
              "      <td>6</td>\n",
              "      <td>8</td>\n",
              "      <td>4</td>\n",
              "      <td>9</td>\n",
              "    </tr>\n",
              "    <tr>\n",
              "      <th>13653</th>\n",
              "      <td>4.5</td>\n",
              "      <td>2015-06-22 17:30:49+00:00</td>\n",
              "      <td>-73.986717</td>\n",
              "      <td>40.771648</td>\n",
              "      <td>-73.982140</td>\n",
              "      <td>40.770699</td>\n",
              "      <td>1</td>\n",
              "      <td>2015</td>\n",
              "      <td>6</td>\n",
              "      <td>22</td>\n",
              "      <td>0</td>\n",
              "      <td>17</td>\n",
              "    </tr>\n",
              "  </tbody>\n",
              "</table>\n",
              "</div>\n",
              "      <button class=\"colab-df-convert\" onclick=\"convertToInteractive('df-09408e59-321f-475e-a590-ad654724e0d7')\"\n",
              "              title=\"Convert this dataframe to an interactive table.\"\n",
              "              style=\"display:none;\">\n",
              "        \n",
              "  <svg xmlns=\"http://www.w3.org/2000/svg\" height=\"24px\"viewBox=\"0 0 24 24\"\n",
              "       width=\"24px\">\n",
              "    <path d=\"M0 0h24v24H0V0z\" fill=\"none\"/>\n",
              "    <path d=\"M18.56 5.44l.94 2.06.94-2.06 2.06-.94-2.06-.94-.94-2.06-.94 2.06-2.06.94zm-11 1L8.5 8.5l.94-2.06 2.06-.94-2.06-.94L8.5 2.5l-.94 2.06-2.06.94zm10 10l.94 2.06.94-2.06 2.06-.94-2.06-.94-.94-2.06-.94 2.06-2.06.94z\"/><path d=\"M17.41 7.96l-1.37-1.37c-.4-.4-.92-.59-1.43-.59-.52 0-1.04.2-1.43.59L10.3 9.45l-7.72 7.72c-.78.78-.78 2.05 0 2.83L4 21.41c.39.39.9.59 1.41.59.51 0 1.02-.2 1.41-.59l7.78-7.78 2.81-2.81c.8-.78.8-2.07 0-2.86zM5.41 20L4 18.59l7.72-7.72 1.47 1.35L5.41 20z\"/>\n",
              "  </svg>\n",
              "      </button>\n",
              "      \n",
              "  <style>\n",
              "    .colab-df-container {\n",
              "      display:flex;\n",
              "      flex-wrap:wrap;\n",
              "      gap: 12px;\n",
              "    }\n",
              "\n",
              "    .colab-df-convert {\n",
              "      background-color: #E8F0FE;\n",
              "      border: none;\n",
              "      border-radius: 50%;\n",
              "      cursor: pointer;\n",
              "      display: none;\n",
              "      fill: #1967D2;\n",
              "      height: 32px;\n",
              "      padding: 0 0 0 0;\n",
              "      width: 32px;\n",
              "    }\n",
              "\n",
              "    .colab-df-convert:hover {\n",
              "      background-color: #E2EBFA;\n",
              "      box-shadow: 0px 1px 2px rgba(60, 64, 67, 0.3), 0px 1px 3px 1px rgba(60, 64, 67, 0.15);\n",
              "      fill: #174EA6;\n",
              "    }\n",
              "\n",
              "    [theme=dark] .colab-df-convert {\n",
              "      background-color: #3B4455;\n",
              "      fill: #D2E3FC;\n",
              "    }\n",
              "\n",
              "    [theme=dark] .colab-df-convert:hover {\n",
              "      background-color: #434B5C;\n",
              "      box-shadow: 0px 1px 3px 1px rgba(0, 0, 0, 0.15);\n",
              "      filter: drop-shadow(0px 1px 2px rgba(0, 0, 0, 0.3));\n",
              "      fill: #FFFFFF;\n",
              "    }\n",
              "  </style>\n",
              "\n",
              "      <script>\n",
              "        const buttonEl =\n",
              "          document.querySelector('#df-09408e59-321f-475e-a590-ad654724e0d7 button.colab-df-convert');\n",
              "        buttonEl.style.display =\n",
              "          google.colab.kernel.accessAllowed ? 'block' : 'none';\n",
              "\n",
              "        async function convertToInteractive(key) {\n",
              "          const element = document.querySelector('#df-09408e59-321f-475e-a590-ad654724e0d7');\n",
              "          const dataTable =\n",
              "            await google.colab.kernel.invokeFunction('convertToInteractive',\n",
              "                                                     [key], {});\n",
              "          if (!dataTable) return;\n",
              "\n",
              "          const docLinkHtml = 'Like what you see? Visit the ' +\n",
              "            '<a target=\"_blank\" href=https://colab.research.google.com/notebooks/data_table.ipynb>data table notebook</a>'\n",
              "            + ' to learn more about interactive tables.';\n",
              "          element.innerHTML = '';\n",
              "          dataTable['output_type'] = 'display_data';\n",
              "          await google.colab.output.renderOutput(dataTable, element);\n",
              "          const docLink = document.createElement('div');\n",
              "          docLink.innerHTML = docLinkHtml;\n",
              "          element.appendChild(docLink);\n",
              "        }\n",
              "      </script>\n",
              "    </div>\n",
              "  </div>\n",
              "  "
            ]
          },
          "metadata": {},
          "execution_count": 147
        }
      ]
    },
    {
      "cell_type": "markdown",
      "source": [
        "## Add distance between pickup and dropp"
      ],
      "metadata": {
        "id": "0D343iHFe3ot"
      }
    },
    {
      "cell_type": "markdown",
      "source": [
        "- https://en.wikipedia.org/wiki/Haversine_formula\n"
      ],
      "metadata": {
        "id": "cYhfO4CEfRLw"
      }
    },
    {
      "cell_type": "code",
      "source": [
        "def haversine_np(lon1, lat1, lon2, lat2):\n",
        "    \"\"\"\n",
        "    Calculate the great circle distance between two points\n",
        "    on the earth (specified in decimal degrees)\n",
        "\n",
        "    All args must be of equal length.    \n",
        "\n",
        "    \"\"\"\n",
        "    lon1, lat1, lon2, lat2 = map(np.radians, [lon1, lat1, lon2, lat2])\n",
        "\n",
        "    dlon = lon2 - lon1\n",
        "    dlat = lat2 - lat1\n",
        "\n",
        "    a = np.sin(dlat/2.0)**2 + np.cos(lat1) * np.cos(lat2) * np.sin(dlon/2.0)**2\n",
        "\n",
        "    c = 2 * np.arcsin(np.sqrt(a))\n",
        "    km = 6367 * c\n",
        "    return km"
      ],
      "metadata": {
        "id": "uknK6AeGfQU0"
      },
      "execution_count": 148,
      "outputs": []
    },
    {
      "cell_type": "code",
      "source": [
        "def trip_distance(df):\n",
        "  df['trip_distance'] = haversine_np(df['pickup_longitude'],\n",
        "                                     df['pickup_latitude'],\n",
        "                                     df['dropoff_longitude'],\n",
        "                                     df['dropoff_latitude'])"
      ],
      "metadata": {
        "id": "v9eUWyFxepgW"
      },
      "execution_count": 149,
      "outputs": []
    },
    {
      "cell_type": "code",
      "source": [
        "trip_distance(train_df)\n",
        "trip_distance(val_df)"
      ],
      "metadata": {
        "id": "wc7mHSZPgBjO"
      },
      "execution_count": 150,
      "outputs": []
    },
    {
      "cell_type": "code",
      "source": [
        "train_df[((train_df.trip_distance >=8) | (train_df.trip_distance <= 4))]"
      ],
      "metadata": {
        "id": "_S6woAsaghWU",
        "outputId": "88928c46-8d7b-4ebb-b6a5-c53337f074b8",
        "colab": {
          "base_uri": "https://localhost:8080/",
          "height": 661
        }
      },
      "execution_count": 151,
      "outputs": [
        {
          "output_type": "execute_result",
          "data": {
            "text/plain": [
              "       fare_amount           pickup_datetime  pickup_longitude  \\\n",
              "39087    10.000000 2013-07-27 17:04:00+00:00        -73.974335   \n",
              "30893     4.000000 2013-01-08 09:26:00+00:00        -73.973656   \n",
              "45278     6.900000 2012-03-17 16:45:00+00:00        -73.975266   \n",
              "16398     7.700000 2012-06-08 09:01:17+00:00        -73.983032   \n",
              "13653     4.500000 2015-06-22 17:30:49+00:00        -73.986717   \n",
              "...            ...                       ...               ...   \n",
              "16850     7.500000 2014-12-05 18:00:56+00:00        -73.983727   \n",
              "11284     6.500000 2010-12-07 11:23:00+00:00        -73.980911   \n",
              "44732     3.700000 2009-06-30 22:39:25+00:00        -73.960564   \n",
              "38158    12.100000 2010-09-14 22:34:00+00:00        -73.974663   \n",
              "15795    57.330002 2013-07-09 07:26:00+00:00        -73.778679   \n",
              "\n",
              "       pickup_latitude  dropoff_longitude  dropoff_latitude  passenger_count  \\\n",
              "39087        40.791428         -73.979034         40.766365                5   \n",
              "30893        40.751633         -73.969948         40.756702                5   \n",
              "45278        40.752281         -73.995094         40.737499                4   \n",
              "16398        40.766785         -73.971947         40.789288                1   \n",
              "13653        40.771648         -73.982140         40.770699                1   \n",
              "...                ...                ...               ...              ...   \n",
              "16850        40.766174         -73.977547         40.777889                1   \n",
              "11284        40.767860         -73.980209         40.780342                1   \n",
              "44732        40.775860         -73.961830         40.771255                1   \n",
              "38158        40.751743         -73.995987         40.744347                2   \n",
              "15795        40.646664         -73.993683         40.752354                1   \n",
              "\n",
              "       pickup_datetime_year  pickup_datetime_month  pickup_datetime_day  \\\n",
              "39087                  2013                      7                   27   \n",
              "30893                  2013                      1                    8   \n",
              "45278                  2012                      3                   17   \n",
              "16398                  2012                      6                    8   \n",
              "13653                  2015                      6                   22   \n",
              "...                     ...                    ...                  ...   \n",
              "16850                  2014                     12                    5   \n",
              "11284                  2010                     12                    7   \n",
              "44732                  2009                      6                   30   \n",
              "38158                  2010                      9                   14   \n",
              "15795                  2013                      7                    9   \n",
              "\n",
              "       pickup_datetime_week  pickup_datetime_hour  trip_distance  \n",
              "39087                     5                    17       2.813101  \n",
              "30893                     1                     9       0.643929  \n",
              "45278                     5                    16       2.341894  \n",
              "16398                     4                     9       2.669228  \n",
              "13653                     0                    17       0.399969  \n",
              "...                     ...                   ...            ...  \n",
              "16850                     4                    18       1.401790  \n",
              "11284                     1                    11       1.388346  \n",
              "44732                     1                    22       0.522993  \n",
              "38158                     1                    22       1.974436  \n",
              "15795                     1                     7      21.587927  \n",
              "\n",
              "[33672 rows x 13 columns]"
            ],
            "text/html": [
              "\n",
              "  <div id=\"df-1f4bd411-5137-4c62-a2d5-0c1b6207a775\">\n",
              "    <div class=\"colab-df-container\">\n",
              "      <div>\n",
              "<style scoped>\n",
              "    .dataframe tbody tr th:only-of-type {\n",
              "        vertical-align: middle;\n",
              "    }\n",
              "\n",
              "    .dataframe tbody tr th {\n",
              "        vertical-align: top;\n",
              "    }\n",
              "\n",
              "    .dataframe thead th {\n",
              "        text-align: right;\n",
              "    }\n",
              "</style>\n",
              "<table border=\"1\" class=\"dataframe\">\n",
              "  <thead>\n",
              "    <tr style=\"text-align: right;\">\n",
              "      <th></th>\n",
              "      <th>fare_amount</th>\n",
              "      <th>pickup_datetime</th>\n",
              "      <th>pickup_longitude</th>\n",
              "      <th>pickup_latitude</th>\n",
              "      <th>dropoff_longitude</th>\n",
              "      <th>dropoff_latitude</th>\n",
              "      <th>passenger_count</th>\n",
              "      <th>pickup_datetime_year</th>\n",
              "      <th>pickup_datetime_month</th>\n",
              "      <th>pickup_datetime_day</th>\n",
              "      <th>pickup_datetime_week</th>\n",
              "      <th>pickup_datetime_hour</th>\n",
              "      <th>trip_distance</th>\n",
              "    </tr>\n",
              "  </thead>\n",
              "  <tbody>\n",
              "    <tr>\n",
              "      <th>39087</th>\n",
              "      <td>10.000000</td>\n",
              "      <td>2013-07-27 17:04:00+00:00</td>\n",
              "      <td>-73.974335</td>\n",
              "      <td>40.791428</td>\n",
              "      <td>-73.979034</td>\n",
              "      <td>40.766365</td>\n",
              "      <td>5</td>\n",
              "      <td>2013</td>\n",
              "      <td>7</td>\n",
              "      <td>27</td>\n",
              "      <td>5</td>\n",
              "      <td>17</td>\n",
              "      <td>2.813101</td>\n",
              "    </tr>\n",
              "    <tr>\n",
              "      <th>30893</th>\n",
              "      <td>4.000000</td>\n",
              "      <td>2013-01-08 09:26:00+00:00</td>\n",
              "      <td>-73.973656</td>\n",
              "      <td>40.751633</td>\n",
              "      <td>-73.969948</td>\n",
              "      <td>40.756702</td>\n",
              "      <td>5</td>\n",
              "      <td>2013</td>\n",
              "      <td>1</td>\n",
              "      <td>8</td>\n",
              "      <td>1</td>\n",
              "      <td>9</td>\n",
              "      <td>0.643929</td>\n",
              "    </tr>\n",
              "    <tr>\n",
              "      <th>45278</th>\n",
              "      <td>6.900000</td>\n",
              "      <td>2012-03-17 16:45:00+00:00</td>\n",
              "      <td>-73.975266</td>\n",
              "      <td>40.752281</td>\n",
              "      <td>-73.995094</td>\n",
              "      <td>40.737499</td>\n",
              "      <td>4</td>\n",
              "      <td>2012</td>\n",
              "      <td>3</td>\n",
              "      <td>17</td>\n",
              "      <td>5</td>\n",
              "      <td>16</td>\n",
              "      <td>2.341894</td>\n",
              "    </tr>\n",
              "    <tr>\n",
              "      <th>16398</th>\n",
              "      <td>7.700000</td>\n",
              "      <td>2012-06-08 09:01:17+00:00</td>\n",
              "      <td>-73.983032</td>\n",
              "      <td>40.766785</td>\n",
              "      <td>-73.971947</td>\n",
              "      <td>40.789288</td>\n",
              "      <td>1</td>\n",
              "      <td>2012</td>\n",
              "      <td>6</td>\n",
              "      <td>8</td>\n",
              "      <td>4</td>\n",
              "      <td>9</td>\n",
              "      <td>2.669228</td>\n",
              "    </tr>\n",
              "    <tr>\n",
              "      <th>13653</th>\n",
              "      <td>4.500000</td>\n",
              "      <td>2015-06-22 17:30:49+00:00</td>\n",
              "      <td>-73.986717</td>\n",
              "      <td>40.771648</td>\n",
              "      <td>-73.982140</td>\n",
              "      <td>40.770699</td>\n",
              "      <td>1</td>\n",
              "      <td>2015</td>\n",
              "      <td>6</td>\n",
              "      <td>22</td>\n",
              "      <td>0</td>\n",
              "      <td>17</td>\n",
              "      <td>0.399969</td>\n",
              "    </tr>\n",
              "    <tr>\n",
              "      <th>...</th>\n",
              "      <td>...</td>\n",
              "      <td>...</td>\n",
              "      <td>...</td>\n",
              "      <td>...</td>\n",
              "      <td>...</td>\n",
              "      <td>...</td>\n",
              "      <td>...</td>\n",
              "      <td>...</td>\n",
              "      <td>...</td>\n",
              "      <td>...</td>\n",
              "      <td>...</td>\n",
              "      <td>...</td>\n",
              "      <td>...</td>\n",
              "    </tr>\n",
              "    <tr>\n",
              "      <th>16850</th>\n",
              "      <td>7.500000</td>\n",
              "      <td>2014-12-05 18:00:56+00:00</td>\n",
              "      <td>-73.983727</td>\n",
              "      <td>40.766174</td>\n",
              "      <td>-73.977547</td>\n",
              "      <td>40.777889</td>\n",
              "      <td>1</td>\n",
              "      <td>2014</td>\n",
              "      <td>12</td>\n",
              "      <td>5</td>\n",
              "      <td>4</td>\n",
              "      <td>18</td>\n",
              "      <td>1.401790</td>\n",
              "    </tr>\n",
              "    <tr>\n",
              "      <th>11284</th>\n",
              "      <td>6.500000</td>\n",
              "      <td>2010-12-07 11:23:00+00:00</td>\n",
              "      <td>-73.980911</td>\n",
              "      <td>40.767860</td>\n",
              "      <td>-73.980209</td>\n",
              "      <td>40.780342</td>\n",
              "      <td>1</td>\n",
              "      <td>2010</td>\n",
              "      <td>12</td>\n",
              "      <td>7</td>\n",
              "      <td>1</td>\n",
              "      <td>11</td>\n",
              "      <td>1.388346</td>\n",
              "    </tr>\n",
              "    <tr>\n",
              "      <th>44732</th>\n",
              "      <td>3.700000</td>\n",
              "      <td>2009-06-30 22:39:25+00:00</td>\n",
              "      <td>-73.960564</td>\n",
              "      <td>40.775860</td>\n",
              "      <td>-73.961830</td>\n",
              "      <td>40.771255</td>\n",
              "      <td>1</td>\n",
              "      <td>2009</td>\n",
              "      <td>6</td>\n",
              "      <td>30</td>\n",
              "      <td>1</td>\n",
              "      <td>22</td>\n",
              "      <td>0.522993</td>\n",
              "    </tr>\n",
              "    <tr>\n",
              "      <th>38158</th>\n",
              "      <td>12.100000</td>\n",
              "      <td>2010-09-14 22:34:00+00:00</td>\n",
              "      <td>-73.974663</td>\n",
              "      <td>40.751743</td>\n",
              "      <td>-73.995987</td>\n",
              "      <td>40.744347</td>\n",
              "      <td>2</td>\n",
              "      <td>2010</td>\n",
              "      <td>9</td>\n",
              "      <td>14</td>\n",
              "      <td>1</td>\n",
              "      <td>22</td>\n",
              "      <td>1.974436</td>\n",
              "    </tr>\n",
              "    <tr>\n",
              "      <th>15795</th>\n",
              "      <td>57.330002</td>\n",
              "      <td>2013-07-09 07:26:00+00:00</td>\n",
              "      <td>-73.778679</td>\n",
              "      <td>40.646664</td>\n",
              "      <td>-73.993683</td>\n",
              "      <td>40.752354</td>\n",
              "      <td>1</td>\n",
              "      <td>2013</td>\n",
              "      <td>7</td>\n",
              "      <td>9</td>\n",
              "      <td>1</td>\n",
              "      <td>7</td>\n",
              "      <td>21.587927</td>\n",
              "    </tr>\n",
              "  </tbody>\n",
              "</table>\n",
              "<p>33672 rows × 13 columns</p>\n",
              "</div>\n",
              "      <button class=\"colab-df-convert\" onclick=\"convertToInteractive('df-1f4bd411-5137-4c62-a2d5-0c1b6207a775')\"\n",
              "              title=\"Convert this dataframe to an interactive table.\"\n",
              "              style=\"display:none;\">\n",
              "        \n",
              "  <svg xmlns=\"http://www.w3.org/2000/svg\" height=\"24px\"viewBox=\"0 0 24 24\"\n",
              "       width=\"24px\">\n",
              "    <path d=\"M0 0h24v24H0V0z\" fill=\"none\"/>\n",
              "    <path d=\"M18.56 5.44l.94 2.06.94-2.06 2.06-.94-2.06-.94-.94-2.06-.94 2.06-2.06.94zm-11 1L8.5 8.5l.94-2.06 2.06-.94-2.06-.94L8.5 2.5l-.94 2.06-2.06.94zm10 10l.94 2.06.94-2.06 2.06-.94-2.06-.94-.94-2.06-.94 2.06-2.06.94z\"/><path d=\"M17.41 7.96l-1.37-1.37c-.4-.4-.92-.59-1.43-.59-.52 0-1.04.2-1.43.59L10.3 9.45l-7.72 7.72c-.78.78-.78 2.05 0 2.83L4 21.41c.39.39.9.59 1.41.59.51 0 1.02-.2 1.41-.59l7.78-7.78 2.81-2.81c.8-.78.8-2.07 0-2.86zM5.41 20L4 18.59l7.72-7.72 1.47 1.35L5.41 20z\"/>\n",
              "  </svg>\n",
              "      </button>\n",
              "      \n",
              "  <style>\n",
              "    .colab-df-container {\n",
              "      display:flex;\n",
              "      flex-wrap:wrap;\n",
              "      gap: 12px;\n",
              "    }\n",
              "\n",
              "    .colab-df-convert {\n",
              "      background-color: #E8F0FE;\n",
              "      border: none;\n",
              "      border-radius: 50%;\n",
              "      cursor: pointer;\n",
              "      display: none;\n",
              "      fill: #1967D2;\n",
              "      height: 32px;\n",
              "      padding: 0 0 0 0;\n",
              "      width: 32px;\n",
              "    }\n",
              "\n",
              "    .colab-df-convert:hover {\n",
              "      background-color: #E2EBFA;\n",
              "      box-shadow: 0px 1px 2px rgba(60, 64, 67, 0.3), 0px 1px 3px 1px rgba(60, 64, 67, 0.15);\n",
              "      fill: #174EA6;\n",
              "    }\n",
              "\n",
              "    [theme=dark] .colab-df-convert {\n",
              "      background-color: #3B4455;\n",
              "      fill: #D2E3FC;\n",
              "    }\n",
              "\n",
              "    [theme=dark] .colab-df-convert:hover {\n",
              "      background-color: #434B5C;\n",
              "      box-shadow: 0px 1px 3px 1px rgba(0, 0, 0, 0.15);\n",
              "      filter: drop-shadow(0px 1px 2px rgba(0, 0, 0, 0.3));\n",
              "      fill: #FFFFFF;\n",
              "    }\n",
              "  </style>\n",
              "\n",
              "      <script>\n",
              "        const buttonEl =\n",
              "          document.querySelector('#df-1f4bd411-5137-4c62-a2d5-0c1b6207a775 button.colab-df-convert');\n",
              "        buttonEl.style.display =\n",
              "          google.colab.kernel.accessAllowed ? 'block' : 'none';\n",
              "\n",
              "        async function convertToInteractive(key) {\n",
              "          const element = document.querySelector('#df-1f4bd411-5137-4c62-a2d5-0c1b6207a775');\n",
              "          const dataTable =\n",
              "            await google.colab.kernel.invokeFunction('convertToInteractive',\n",
              "                                                     [key], {});\n",
              "          if (!dataTable) return;\n",
              "\n",
              "          const docLinkHtml = 'Like what you see? Visit the ' +\n",
              "            '<a target=\"_blank\" href=https://colab.research.google.com/notebooks/data_table.ipynb>data table notebook</a>'\n",
              "            + ' to learn more about interactive tables.';\n",
              "          element.innerHTML = '';\n",
              "          dataTable['output_type'] = 'display_data';\n",
              "          await google.colab.output.renderOutput(dataTable, element);\n",
              "          const docLink = document.createElement('div');\n",
              "          docLink.innerHTML = docLinkHtml;\n",
              "          element.appendChild(docLink);\n",
              "        }\n",
              "      </script>\n",
              "    </div>\n",
              "  </div>\n",
              "  "
            ]
          },
          "metadata": {},
          "execution_count": 151
        }
      ]
    },
    {
      "cell_type": "markdown",
      "source": [
        "Distance from popular landmarks"
      ],
      "metadata": {
        "id": "NYJOJUPUgZFY"
      }
    },
    {
      "cell_type": "markdown",
      "source": [
        "- JFK airport\n",
        "- LGA Airport\n",
        "- EWR airport\n",
        "- WTC"
      ],
      "metadata": {
        "id": "EchDgMi7iiBU"
      }
    },
    {
      "cell_type": "code",
      "source": [
        "jfk_lonlat = -73.7781, 40.6413\n",
        "lga_lonlat = -73.8740, 40.7769\n",
        "ewr_lonlat = -74.1745, 40.6895\n",
        "wtc_lonlat = -74.0099, 40.7126"
      ],
      "metadata": {
        "id": "3ABzPPtIgVai"
      },
      "execution_count": 152,
      "outputs": []
    },
    {
      "cell_type": "markdown",
      "source": [
        "## Remove outlier and invalid data"
      ],
      "metadata": {
        "id": "YGVuu8BKlY-H"
      }
    },
    {
      "cell_type": "markdown",
      "source": [
        "- Fare amount\n",
        "- Passange count\n",
        "- Pickup latitude and longitude\n",
        "- drop latitude and longitude"
      ],
      "metadata": {
        "id": "reUGeAmMlvQw"
      }
    },
    {
      "cell_type": "code",
      "source": [
        "df.describe()"
      ],
      "metadata": {
        "id": "9kgD8OOji3Ik",
        "outputId": "954b31b0-525a-4f1c-8df2-3a2a47260216",
        "colab": {
          "base_uri": "https://localhost:8080/",
          "height": 300
        }
      },
      "execution_count": 153,
      "outputs": [
        {
          "output_type": "execute_result",
          "data": {
            "text/plain": [
              "        fare_amount  pickup_longitude  pickup_latitude  dropoff_longitude  \\\n",
              "count  50000.000000      50000.000000     50000.000000       50000.000000   \n",
              "mean      11.364215        -72.521416        39.931904         -72.517723   \n",
              "std        9.685438         10.392804         6.224685          10.406597   \n",
              "min       -5.000000        -75.423851       -74.006889         -84.654243   \n",
              "25%        6.000000        -73.992065        40.734879         -73.991150   \n",
              "50%        8.500000        -73.981842        40.752678         -73.980080   \n",
              "75%       12.500000        -73.967148        40.767361         -73.963585   \n",
              "max      200.000000         40.783470       401.083344          40.851028   \n",
              "\n",
              "       dropoff_latitude  passenger_count  \n",
              "count      50000.000000     50000.000000  \n",
              "mean          39.924244         1.667840  \n",
              "std            6.014816         1.289195  \n",
              "min          -74.006378         0.000000  \n",
              "25%           40.734371         1.000000  \n",
              "50%           40.753372         1.000000  \n",
              "75%           40.768166         2.000000  \n",
              "max           43.415192         6.000000  "
            ],
            "text/html": [
              "\n",
              "  <div id=\"df-0393b947-b2f7-4c9c-bab8-d1203d452105\">\n",
              "    <div class=\"colab-df-container\">\n",
              "      <div>\n",
              "<style scoped>\n",
              "    .dataframe tbody tr th:only-of-type {\n",
              "        vertical-align: middle;\n",
              "    }\n",
              "\n",
              "    .dataframe tbody tr th {\n",
              "        vertical-align: top;\n",
              "    }\n",
              "\n",
              "    .dataframe thead th {\n",
              "        text-align: right;\n",
              "    }\n",
              "</style>\n",
              "<table border=\"1\" class=\"dataframe\">\n",
              "  <thead>\n",
              "    <tr style=\"text-align: right;\">\n",
              "      <th></th>\n",
              "      <th>fare_amount</th>\n",
              "      <th>pickup_longitude</th>\n",
              "      <th>pickup_latitude</th>\n",
              "      <th>dropoff_longitude</th>\n",
              "      <th>dropoff_latitude</th>\n",
              "      <th>passenger_count</th>\n",
              "    </tr>\n",
              "  </thead>\n",
              "  <tbody>\n",
              "    <tr>\n",
              "      <th>count</th>\n",
              "      <td>50000.000000</td>\n",
              "      <td>50000.000000</td>\n",
              "      <td>50000.000000</td>\n",
              "      <td>50000.000000</td>\n",
              "      <td>50000.000000</td>\n",
              "      <td>50000.000000</td>\n",
              "    </tr>\n",
              "    <tr>\n",
              "      <th>mean</th>\n",
              "      <td>11.364215</td>\n",
              "      <td>-72.521416</td>\n",
              "      <td>39.931904</td>\n",
              "      <td>-72.517723</td>\n",
              "      <td>39.924244</td>\n",
              "      <td>1.667840</td>\n",
              "    </tr>\n",
              "    <tr>\n",
              "      <th>std</th>\n",
              "      <td>9.685438</td>\n",
              "      <td>10.392804</td>\n",
              "      <td>6.224685</td>\n",
              "      <td>10.406597</td>\n",
              "      <td>6.014816</td>\n",
              "      <td>1.289195</td>\n",
              "    </tr>\n",
              "    <tr>\n",
              "      <th>min</th>\n",
              "      <td>-5.000000</td>\n",
              "      <td>-75.423851</td>\n",
              "      <td>-74.006889</td>\n",
              "      <td>-84.654243</td>\n",
              "      <td>-74.006378</td>\n",
              "      <td>0.000000</td>\n",
              "    </tr>\n",
              "    <tr>\n",
              "      <th>25%</th>\n",
              "      <td>6.000000</td>\n",
              "      <td>-73.992065</td>\n",
              "      <td>40.734879</td>\n",
              "      <td>-73.991150</td>\n",
              "      <td>40.734371</td>\n",
              "      <td>1.000000</td>\n",
              "    </tr>\n",
              "    <tr>\n",
              "      <th>50%</th>\n",
              "      <td>8.500000</td>\n",
              "      <td>-73.981842</td>\n",
              "      <td>40.752678</td>\n",
              "      <td>-73.980080</td>\n",
              "      <td>40.753372</td>\n",
              "      <td>1.000000</td>\n",
              "    </tr>\n",
              "    <tr>\n",
              "      <th>75%</th>\n",
              "      <td>12.500000</td>\n",
              "      <td>-73.967148</td>\n",
              "      <td>40.767361</td>\n",
              "      <td>-73.963585</td>\n",
              "      <td>40.768166</td>\n",
              "      <td>2.000000</td>\n",
              "    </tr>\n",
              "    <tr>\n",
              "      <th>max</th>\n",
              "      <td>200.000000</td>\n",
              "      <td>40.783470</td>\n",
              "      <td>401.083344</td>\n",
              "      <td>40.851028</td>\n",
              "      <td>43.415192</td>\n",
              "      <td>6.000000</td>\n",
              "    </tr>\n",
              "  </tbody>\n",
              "</table>\n",
              "</div>\n",
              "      <button class=\"colab-df-convert\" onclick=\"convertToInteractive('df-0393b947-b2f7-4c9c-bab8-d1203d452105')\"\n",
              "              title=\"Convert this dataframe to an interactive table.\"\n",
              "              style=\"display:none;\">\n",
              "        \n",
              "  <svg xmlns=\"http://www.w3.org/2000/svg\" height=\"24px\"viewBox=\"0 0 24 24\"\n",
              "       width=\"24px\">\n",
              "    <path d=\"M0 0h24v24H0V0z\" fill=\"none\"/>\n",
              "    <path d=\"M18.56 5.44l.94 2.06.94-2.06 2.06-.94-2.06-.94-.94-2.06-.94 2.06-2.06.94zm-11 1L8.5 8.5l.94-2.06 2.06-.94-2.06-.94L8.5 2.5l-.94 2.06-2.06.94zm10 10l.94 2.06.94-2.06 2.06-.94-2.06-.94-.94-2.06-.94 2.06-2.06.94z\"/><path d=\"M17.41 7.96l-1.37-1.37c-.4-.4-.92-.59-1.43-.59-.52 0-1.04.2-1.43.59L10.3 9.45l-7.72 7.72c-.78.78-.78 2.05 0 2.83L4 21.41c.39.39.9.59 1.41.59.51 0 1.02-.2 1.41-.59l7.78-7.78 2.81-2.81c.8-.78.8-2.07 0-2.86zM5.41 20L4 18.59l7.72-7.72 1.47 1.35L5.41 20z\"/>\n",
              "  </svg>\n",
              "      </button>\n",
              "      \n",
              "  <style>\n",
              "    .colab-df-container {\n",
              "      display:flex;\n",
              "      flex-wrap:wrap;\n",
              "      gap: 12px;\n",
              "    }\n",
              "\n",
              "    .colab-df-convert {\n",
              "      background-color: #E8F0FE;\n",
              "      border: none;\n",
              "      border-radius: 50%;\n",
              "      cursor: pointer;\n",
              "      display: none;\n",
              "      fill: #1967D2;\n",
              "      height: 32px;\n",
              "      padding: 0 0 0 0;\n",
              "      width: 32px;\n",
              "    }\n",
              "\n",
              "    .colab-df-convert:hover {\n",
              "      background-color: #E2EBFA;\n",
              "      box-shadow: 0px 1px 2px rgba(60, 64, 67, 0.3), 0px 1px 3px 1px rgba(60, 64, 67, 0.15);\n",
              "      fill: #174EA6;\n",
              "    }\n",
              "\n",
              "    [theme=dark] .colab-df-convert {\n",
              "      background-color: #3B4455;\n",
              "      fill: #D2E3FC;\n",
              "    }\n",
              "\n",
              "    [theme=dark] .colab-df-convert:hover {\n",
              "      background-color: #434B5C;\n",
              "      box-shadow: 0px 1px 3px 1px rgba(0, 0, 0, 0.15);\n",
              "      filter: drop-shadow(0px 1px 2px rgba(0, 0, 0, 0.3));\n",
              "      fill: #FFFFFF;\n",
              "    }\n",
              "  </style>\n",
              "\n",
              "      <script>\n",
              "        const buttonEl =\n",
              "          document.querySelector('#df-0393b947-b2f7-4c9c-bab8-d1203d452105 button.colab-df-convert');\n",
              "        buttonEl.style.display =\n",
              "          google.colab.kernel.accessAllowed ? 'block' : 'none';\n",
              "\n",
              "        async function convertToInteractive(key) {\n",
              "          const element = document.querySelector('#df-0393b947-b2f7-4c9c-bab8-d1203d452105');\n",
              "          const dataTable =\n",
              "            await google.colab.kernel.invokeFunction('convertToInteractive',\n",
              "                                                     [key], {});\n",
              "          if (!dataTable) return;\n",
              "\n",
              "          const docLinkHtml = 'Like what you see? Visit the ' +\n",
              "            '<a target=\"_blank\" href=https://colab.research.google.com/notebooks/data_table.ipynb>data table notebook</a>'\n",
              "            + ' to learn more about interactive tables.';\n",
              "          element.innerHTML = '';\n",
              "          dataTable['output_type'] = 'display_data';\n",
              "          await google.colab.output.renderOutput(dataTable, element);\n",
              "          const docLink = document.createElement('div');\n",
              "          docLink.innerHTML = docLinkHtml;\n",
              "          element.appendChild(docLink);\n",
              "        }\n",
              "      </script>\n",
              "    </div>\n",
              "  </div>\n",
              "  "
            ]
          },
          "metadata": {},
          "execution_count": 153
        }
      ]
    },
    {
      "cell_type": "markdown",
      "source": [
        "we will use the following\n",
        "- longitudes: -75 to -72\n",
        "- latitudes: 40 to 42"
      ],
      "metadata": {
        "id": "QtRkaYDxmckY"
      }
    },
    {
      "cell_type": "code",
      "source": [
        "train_df.shape, val_df.shape"
      ],
      "metadata": {
        "id": "bnMO-xjnqBmc",
        "outputId": "f312f715-2220-429f-e8dd-f9bf13cc8799",
        "colab": {
          "base_uri": "https://localhost:8080/"
        }
      },
      "execution_count": 154,
      "outputs": [
        {
          "output_type": "execute_result",
          "data": {
            "text/plain": [
              "((40000, 13), (10000, 13))"
            ]
          },
          "metadata": {},
          "execution_count": 154
        }
      ]
    },
    {
      "cell_type": "code",
      "source": [
        "def remove_outlier(df):\n",
        "  return df[(\n",
        "      (df.pickup_longitude>= -75) & (df.pickup_longitude<=-72) & (df.pickup_latitude>= 40) & (df.pickup_latitude <=42) & \n",
        "      (df.dropoff_latitude>=40) &(df.dropoff_latitude<=42)& (df.dropoff_longitude>=-75) &(df.dropoff_longitude<=-72) \n",
        "\n",
        "  )]"
      ],
      "metadata": {
        "id": "rauratLkmAaG"
      },
      "execution_count": 117,
      "outputs": []
    },
    {
      "cell_type": "code",
      "source": [
        "train_df = remove_outlier(train_df)\n",
        "val_df = remove_outlier(val_df)"
      ],
      "metadata": {
        "id": "BtApMcWNovnp"
      },
      "execution_count": 155,
      "outputs": []
    },
    {
      "cell_type": "code",
      "source": [
        "train_df.shape, val_df.shape"
      ],
      "metadata": {
        "id": "KSVqgwo_ovk5",
        "outputId": "b0807931-24bc-482f-cbad-4508cfb8d7f1",
        "colab": {
          "base_uri": "https://localhost:8080/"
        }
      },
      "execution_count": 156,
      "outputs": [
        {
          "output_type": "execute_result",
          "data": {
            "text/plain": [
              "((39158, 13), (9795, 13))"
            ]
          },
          "metadata": {},
          "execution_count": 156
        }
      ]
    },
    {
      "cell_type": "code",
      "source": [
        ""
      ],
      "metadata": {
        "id": "R2R73nySoviP",
        "outputId": "3d5f2c66-f75a-406d-b693-f807a54b184b",
        "colab": {
          "base_uri": "https://localhost:8080/"
        }
      },
      "execution_count": 120,
      "outputs": [
        {
          "output_type": "execute_result",
          "data": {
            "text/plain": [
              "(10000, 13)"
            ]
          },
          "metadata": {},
          "execution_count": 120
        }
      ]
    },
    {
      "cell_type": "code",
      "source": [
        ""
      ],
      "metadata": {
        "id": "6Ad0F-rAove_"
      },
      "execution_count": null,
      "outputs": []
    },
    {
      "cell_type": "code",
      "source": [
        ""
      ],
      "metadata": {
        "id": "OOglwZWXovcE"
      },
      "execution_count": null,
      "outputs": []
    }
  ]
}