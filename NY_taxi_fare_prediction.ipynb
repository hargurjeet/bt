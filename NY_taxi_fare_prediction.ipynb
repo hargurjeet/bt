{
  "nbformat": 4,
  "nbformat_minor": 0,
  "metadata": {
    "colab": {
      "name": "NY_taxi_fare_prediction.ipynb",
      "provenance": [],
      "toc_visible": true,
      "authorship_tag": "ABX9TyOVWT8Yj+gEddyC36w97ZPR",
      "include_colab_link": true
    },
    "kernelspec": {
      "name": "python3",
      "display_name": "Python 3"
    },
    "language_info": {
      "name": "python"
    }
  },
  "cells": [
    {
      "cell_type": "markdown",
      "metadata": {
        "id": "view-in-github",
        "colab_type": "text"
      },
      "source": [
        "<a href=\"https://colab.research.google.com/github/hargurjeet/bt/blob/main/NY_taxi_fare_prediction.ipynb\" target=\"_parent\"><img src=\"https://colab.research.google.com/assets/colab-badge.svg\" alt=\"Open In Colab\"/></a>"
      ]
    },
    {
      "cell_type": "markdown",
      "source": [
        "# **NY City Taxi Fare Prediction**\n"
      ],
      "metadata": {
        "id": "qFDTWmArWfW8"
      }
    },
    {
      "cell_type": "markdown",
      "source": [
        "The purpose of this task is to give us a gauge of your skills and experience as a data scientist. \n",
        "\n",
        "The Following notebook is contains the details of building ML and the techniques used for the same."
      ],
      "metadata": {
        "id": "uV0kXX3f7g__"
      }
    },
    {
      "cell_type": "markdown",
      "source": [
        "# **Table Of Contents**<a name=\"top\"></a>\n",
        "\n",
        "\n",
        "---\n",
        "\n",
        "\n",
        "\n",
        "---\n",
        "\n",
        "\n",
        "  1. [About the Dataset](#1)\n",
        "  2. [Loading the dataset Preprocessing](#2)\n",
        "  3. [Explainatory Data Analysis](#3)\n",
        "  4. [Train a baseline model](#4)\n",
        "  5. [Feature Engineering](#5)\n",
        "  6. [Train and Evaluate models](#6)\n",
        "  7. [Summary](#7)\n",
        "  8. [Future Work](#8)\n",
        "  9. [Reference](#9)"
      ],
      "metadata": {
        "id": "g_Hu80pa7gYO"
      }
    },
    {
      "cell_type": "markdown",
      "source": [
        "# 1: AboutDataset <a name=\"1\"></a>\n",
        "\n",
        "\n",
        "---\n",
        "<a href=\"#top\" class=\"btn btn-primary btn-sm\" role=\"button\" aria-pressed=\"true\" style=\"color:white\" data-toggle=\"popover\">Go to TOC</a> "
      ],
      "metadata": {
        "id": "1GC1qrC87gS1"
      }
    },
    {
      "cell_type": "markdown",
      "source": [
        "# 2: Loading the dataset Preprocessing <a name=\"2\"></a>\n",
        "\n",
        "\n",
        "---\n",
        "<a href=\"#top\" class=\"btn btn-primary btn-sm\" role=\"button\" aria-pressed=\"true\" style=\"color:white\" data-toggle=\"popover\">Go to TOC</a> "
      ],
      "metadata": {
        "id": "SFfhYExh9Qe8"
      }
    },
    {
      "cell_type": "markdown",
      "source": [
        "# 3: Explainatory Data Analysis <a name=\"3\"></a>\n",
        "\n",
        "\n",
        "---\n",
        "<a href=\"#top\" class=\"btn btn-primary btn-sm\" role=\"button\" aria-pressed=\"true\" style=\"color:white\" data-toggle=\"popover\">Go to TOC</a> "
      ],
      "metadata": {
        "id": "mRwD8nxs9QPG"
      }
    },
    {
      "cell_type": "markdown",
      "source": [
        "# 4: Train a baseline model <a name=\"4\"></a>\n",
        "\n",
        "\n",
        "---\n",
        "<a href=\"#top\" class=\"btn btn-primary btn-sm\" role=\"button\" aria-pressed=\"true\" style=\"color:white\" data-toggle=\"popover\">Go to TOC</a> "
      ],
      "metadata": {
        "id": "vc_AfYPr9QA-"
      }
    },
    {
      "cell_type": "markdown",
      "source": [
        "# 5: Feature Engineering <a name=\"5\"></a>\n",
        "\n",
        "\n",
        "---\n",
        "<a href=\"#top\" class=\"btn btn-primary btn-sm\" role=\"button\" aria-pressed=\"true\" style=\"color:white\" data-toggle=\"popover\">Go to TOC</a> *italicized text*"
      ],
      "metadata": {
        "id": "zVO3D0UL9P0a"
      }
    },
    {
      "cell_type": "markdown",
      "source": [
        "# 6: Train and Evaluate models <a name=\"6\"></a>\n",
        "\n",
        "\n",
        "---\n",
        "<a href=\"#top\" class=\"btn btn-primary btn-sm\" role=\"button\" aria-pressed=\"true\" style=\"color:white\" data-toggle=\"popover\">Go to TOC</a> "
      ],
      "metadata": {
        "id": "va7cBmNz9PiH"
      }
    },
    {
      "cell_type": "markdown",
      "source": [
        "# 7: Summary <a name=\"7\"></a>\n",
        "\n",
        "\n",
        "---\n",
        "<a href=\"#top\" class=\"btn btn-primary btn-sm\" role=\"button\" aria-pressed=\"true\" style=\"color:white\" data-toggle=\"popover\">Go to TOC</a> "
      ],
      "metadata": {
        "id": "6HRdia7w9PJN"
      }
    },
    {
      "cell_type": "markdown",
      "source": [
        "# 8: Future Work <a name=\"8\"></a>\n",
        "\n",
        "\n",
        "---\n",
        "<a href=\"#top\" class=\"btn btn-primary btn-sm\" role=\"button\" aria-pressed=\"true\" style=\"color:white\" data-toggle=\"popover\">Go to TOC</a> "
      ],
      "metadata": {
        "id": "ei3FoVSu9OzG"
      }
    },
    {
      "cell_type": "markdown",
      "source": [
        "# 9: Reference <a name=\"9\"></a>\n",
        "\n",
        "\n",
        "---\n",
        "<a href=\"#top\" class=\"btn btn-primary btn-sm\" role=\"button\" aria-pressed=\"true\" style=\"color:white\" data-toggle=\"popover\">Go to TOC</a> "
      ],
      "metadata": {
        "id": "aLusFJQu9Oh6"
      }
    },
    {
      "cell_type": "code",
      "execution_count": 79,
      "metadata": {
        "id": "alxz7xTRUnGk"
      },
      "outputs": [],
      "source": [
        "## Perfoming the required imports\n",
        "import pandas as pd\n",
        "import numpy as np\n",
        "from sklearn.model_selection import train_test_split\n",
        "from sklearn.metrics import mean_squared_error\n",
        "from sklearn.linear_model import LinearRegression\n",
        "from sklearn.ensemble import RandomForestRegressor\n",
        "from xgboost import XGBRegressor"
      ]
    },
    {
      "cell_type": "code",
      "source": [
        "required_cols = ['fare_amount', 'pickup_datetime', 'pickup_longitude',\n",
        "       'pickup_latitude', 'dropoff_longitude', 'dropoff_latitude',\n",
        "       'passenger_count']\n",
        "\n",
        "dtypes = {\n",
        "    'fare_amount' : 'float32', \n",
        "    'pickup_datetime': 'float32',\n",
        "    'pickup_longitude': 'float32',\n",
        "    'pickup_latitude': 'float32',\n",
        "    'dropoff_longitude': 'float32',\n",
        "    'dropoff_latitude': 'float32',\n",
        "    'passenger_count': 'uint8'\n",
        "}\n",
        "file_path = 'https://raw.githubusercontent.com/hargurjeet/bt/main/ny_taxi_fare_data.csv'\n",
        "df = pd.read_csv(file_path, \n",
        "                 usecols = required_cols, \n",
        "                 parse_dates=['pickup_datetime'],\n",
        "                 dtype = dtypes)\n",
        "df.head()"
      ],
      "metadata": {
        "colab": {
          "base_uri": "https://localhost:8080/",
          "height": 206
        },
        "id": "L1vE6tNOVNuO",
        "outputId": "a7a6ef66-86ec-4b48-c634-b8a22a9a1426"
      },
      "execution_count": 80,
      "outputs": [
        {
          "output_type": "execute_result",
          "data": {
            "text/plain": [
              "   fare_amount           pickup_datetime  pickup_longitude  pickup_latitude  \\\n",
              "0          4.5 2009-06-15 17:26:21+00:00        -73.844315        40.721317   \n",
              "1         16.9 2010-01-05 16:52:16+00:00        -74.016045        40.711304   \n",
              "2          5.7 2011-08-18 00:35:00+00:00        -73.982735        40.761269   \n",
              "3          7.7 2012-04-21 04:30:42+00:00        -73.987129        40.733143   \n",
              "4          5.3 2010-03-09 07:51:00+00:00        -73.968094        40.768009   \n",
              "\n",
              "   dropoff_longitude  dropoff_latitude  passenger_count  \n",
              "0         -73.841614         40.712276                1  \n",
              "1         -73.979271         40.782005                1  \n",
              "2         -73.991241         40.750561                2  \n",
              "3         -73.991570         40.758091                1  \n",
              "4         -73.956657         40.783764                1  "
            ],
            "text/html": [
              "\n",
              "  <div id=\"df-9cf921c8-553e-49e7-9a48-e7ca6021369c\">\n",
              "    <div class=\"colab-df-container\">\n",
              "      <div>\n",
              "<style scoped>\n",
              "    .dataframe tbody tr th:only-of-type {\n",
              "        vertical-align: middle;\n",
              "    }\n",
              "\n",
              "    .dataframe tbody tr th {\n",
              "        vertical-align: top;\n",
              "    }\n",
              "\n",
              "    .dataframe thead th {\n",
              "        text-align: right;\n",
              "    }\n",
              "</style>\n",
              "<table border=\"1\" class=\"dataframe\">\n",
              "  <thead>\n",
              "    <tr style=\"text-align: right;\">\n",
              "      <th></th>\n",
              "      <th>fare_amount</th>\n",
              "      <th>pickup_datetime</th>\n",
              "      <th>pickup_longitude</th>\n",
              "      <th>pickup_latitude</th>\n",
              "      <th>dropoff_longitude</th>\n",
              "      <th>dropoff_latitude</th>\n",
              "      <th>passenger_count</th>\n",
              "    </tr>\n",
              "  </thead>\n",
              "  <tbody>\n",
              "    <tr>\n",
              "      <th>0</th>\n",
              "      <td>4.5</td>\n",
              "      <td>2009-06-15 17:26:21+00:00</td>\n",
              "      <td>-73.844315</td>\n",
              "      <td>40.721317</td>\n",
              "      <td>-73.841614</td>\n",
              "      <td>40.712276</td>\n",
              "      <td>1</td>\n",
              "    </tr>\n",
              "    <tr>\n",
              "      <th>1</th>\n",
              "      <td>16.9</td>\n",
              "      <td>2010-01-05 16:52:16+00:00</td>\n",
              "      <td>-74.016045</td>\n",
              "      <td>40.711304</td>\n",
              "      <td>-73.979271</td>\n",
              "      <td>40.782005</td>\n",
              "      <td>1</td>\n",
              "    </tr>\n",
              "    <tr>\n",
              "      <th>2</th>\n",
              "      <td>5.7</td>\n",
              "      <td>2011-08-18 00:35:00+00:00</td>\n",
              "      <td>-73.982735</td>\n",
              "      <td>40.761269</td>\n",
              "      <td>-73.991241</td>\n",
              "      <td>40.750561</td>\n",
              "      <td>2</td>\n",
              "    </tr>\n",
              "    <tr>\n",
              "      <th>3</th>\n",
              "      <td>7.7</td>\n",
              "      <td>2012-04-21 04:30:42+00:00</td>\n",
              "      <td>-73.987129</td>\n",
              "      <td>40.733143</td>\n",
              "      <td>-73.991570</td>\n",
              "      <td>40.758091</td>\n",
              "      <td>1</td>\n",
              "    </tr>\n",
              "    <tr>\n",
              "      <th>4</th>\n",
              "      <td>5.3</td>\n",
              "      <td>2010-03-09 07:51:00+00:00</td>\n",
              "      <td>-73.968094</td>\n",
              "      <td>40.768009</td>\n",
              "      <td>-73.956657</td>\n",
              "      <td>40.783764</td>\n",
              "      <td>1</td>\n",
              "    </tr>\n",
              "  </tbody>\n",
              "</table>\n",
              "</div>\n",
              "      <button class=\"colab-df-convert\" onclick=\"convertToInteractive('df-9cf921c8-553e-49e7-9a48-e7ca6021369c')\"\n",
              "              title=\"Convert this dataframe to an interactive table.\"\n",
              "              style=\"display:none;\">\n",
              "        \n",
              "  <svg xmlns=\"http://www.w3.org/2000/svg\" height=\"24px\"viewBox=\"0 0 24 24\"\n",
              "       width=\"24px\">\n",
              "    <path d=\"M0 0h24v24H0V0z\" fill=\"none\"/>\n",
              "    <path d=\"M18.56 5.44l.94 2.06.94-2.06 2.06-.94-2.06-.94-.94-2.06-.94 2.06-2.06.94zm-11 1L8.5 8.5l.94-2.06 2.06-.94-2.06-.94L8.5 2.5l-.94 2.06-2.06.94zm10 10l.94 2.06.94-2.06 2.06-.94-2.06-.94-.94-2.06-.94 2.06-2.06.94z\"/><path d=\"M17.41 7.96l-1.37-1.37c-.4-.4-.92-.59-1.43-.59-.52 0-1.04.2-1.43.59L10.3 9.45l-7.72 7.72c-.78.78-.78 2.05 0 2.83L4 21.41c.39.39.9.59 1.41.59.51 0 1.02-.2 1.41-.59l7.78-7.78 2.81-2.81c.8-.78.8-2.07 0-2.86zM5.41 20L4 18.59l7.72-7.72 1.47 1.35L5.41 20z\"/>\n",
              "  </svg>\n",
              "      </button>\n",
              "      \n",
              "  <style>\n",
              "    .colab-df-container {\n",
              "      display:flex;\n",
              "      flex-wrap:wrap;\n",
              "      gap: 12px;\n",
              "    }\n",
              "\n",
              "    .colab-df-convert {\n",
              "      background-color: #E8F0FE;\n",
              "      border: none;\n",
              "      border-radius: 50%;\n",
              "      cursor: pointer;\n",
              "      display: none;\n",
              "      fill: #1967D2;\n",
              "      height: 32px;\n",
              "      padding: 0 0 0 0;\n",
              "      width: 32px;\n",
              "    }\n",
              "\n",
              "    .colab-df-convert:hover {\n",
              "      background-color: #E2EBFA;\n",
              "      box-shadow: 0px 1px 2px rgba(60, 64, 67, 0.3), 0px 1px 3px 1px rgba(60, 64, 67, 0.15);\n",
              "      fill: #174EA6;\n",
              "    }\n",
              "\n",
              "    [theme=dark] .colab-df-convert {\n",
              "      background-color: #3B4455;\n",
              "      fill: #D2E3FC;\n",
              "    }\n",
              "\n",
              "    [theme=dark] .colab-df-convert:hover {\n",
              "      background-color: #434B5C;\n",
              "      box-shadow: 0px 1px 3px 1px rgba(0, 0, 0, 0.15);\n",
              "      filter: drop-shadow(0px 1px 2px rgba(0, 0, 0, 0.3));\n",
              "      fill: #FFFFFF;\n",
              "    }\n",
              "  </style>\n",
              "\n",
              "      <script>\n",
              "        const buttonEl =\n",
              "          document.querySelector('#df-9cf921c8-553e-49e7-9a48-e7ca6021369c button.colab-df-convert');\n",
              "        buttonEl.style.display =\n",
              "          google.colab.kernel.accessAllowed ? 'block' : 'none';\n",
              "\n",
              "        async function convertToInteractive(key) {\n",
              "          const element = document.querySelector('#df-9cf921c8-553e-49e7-9a48-e7ca6021369c');\n",
              "          const dataTable =\n",
              "            await google.colab.kernel.invokeFunction('convertToInteractive',\n",
              "                                                     [key], {});\n",
              "          if (!dataTable) return;\n",
              "\n",
              "          const docLinkHtml = 'Like what you see? Visit the ' +\n",
              "            '<a target=\"_blank\" href=https://colab.research.google.com/notebooks/data_table.ipynb>data table notebook</a>'\n",
              "            + ' to learn more about interactive tables.';\n",
              "          element.innerHTML = '';\n",
              "          dataTable['output_type'] = 'display_data';\n",
              "          await google.colab.output.renderOutput(dataTable, element);\n",
              "          const docLink = document.createElement('div');\n",
              "          docLink.innerHTML = docLinkHtml;\n",
              "          element.appendChild(docLink);\n",
              "        }\n",
              "      </script>\n",
              "    </div>\n",
              "  </div>\n",
              "  "
            ]
          },
          "metadata": {},
          "execution_count": 80
        }
      ]
    },
    {
      "cell_type": "code",
      "source": [
        "df.shape"
      ],
      "metadata": {
        "colab": {
          "base_uri": "https://localhost:8080/"
        },
        "id": "s2Wo1H-hVYz3",
        "outputId": "b975f2e5-ecd7-43f2-c15b-dd9c975852d9"
      },
      "execution_count": 81,
      "outputs": [
        {
          "output_type": "execute_result",
          "data": {
            "text/plain": [
              "(50000, 7)"
            ]
          },
          "metadata": {},
          "execution_count": 81
        }
      ]
    },
    {
      "cell_type": "markdown",
      "source": [
        "# Data Exploration\n",
        "\n",
        "- Basics info regarding dataset\n",
        "- EDA and visualizaitons\n",
        "- Key insights"
      ],
      "metadata": {
        "id": "8jB22zCXbi7Y"
      }
    },
    {
      "cell_type": "code",
      "source": [
        "df.info()"
      ],
      "metadata": {
        "colab": {
          "base_uri": "https://localhost:8080/"
        },
        "id": "v1HLdW9rWW_c",
        "outputId": "d00ef9ed-c535-4241-80f0-e238588cdd48"
      },
      "execution_count": 82,
      "outputs": [
        {
          "output_type": "stream",
          "name": "stdout",
          "text": [
            "<class 'pandas.core.frame.DataFrame'>\n",
            "RangeIndex: 50000 entries, 0 to 49999\n",
            "Data columns (total 7 columns):\n",
            " #   Column             Non-Null Count  Dtype              \n",
            "---  ------             --------------  -----              \n",
            " 0   fare_amount        50000 non-null  float32            \n",
            " 1   pickup_datetime    50000 non-null  datetime64[ns, UTC]\n",
            " 2   pickup_longitude   50000 non-null  float32            \n",
            " 3   pickup_latitude    50000 non-null  float32            \n",
            " 4   dropoff_longitude  50000 non-null  float32            \n",
            " 5   dropoff_latitude   50000 non-null  float32            \n",
            " 6   passenger_count    50000 non-null  uint8              \n",
            "dtypes: datetime64[ns, UTC](1), float32(5), uint8(1)\n",
            "memory usage: 1.4 MB\n"
          ]
        }
      ]
    },
    {
      "cell_type": "markdown",
      "source": [
        "There seems to be no null values within the dataset"
      ],
      "metadata": {
        "id": "GUGswPl1b-JI"
      }
    },
    {
      "cell_type": "code",
      "source": [
        "df.describe()"
      ],
      "metadata": {
        "colab": {
          "base_uri": "https://localhost:8080/",
          "height": 300
        },
        "id": "Gpe1IOnBb3Q0",
        "outputId": "63189155-8d47-44ae-9c93-e106e1f3ad6a"
      },
      "execution_count": 83,
      "outputs": [
        {
          "output_type": "execute_result",
          "data": {
            "text/plain": [
              "        fare_amount  pickup_longitude  pickup_latitude  dropoff_longitude  \\\n",
              "count  50000.000000      50000.000000     50000.000000       50000.000000   \n",
              "mean      11.364215        -72.521416        39.931904         -72.517723   \n",
              "std        9.685438         10.392804         6.224685          10.406597   \n",
              "min       -5.000000        -75.423851       -74.006889         -84.654243   \n",
              "25%        6.000000        -73.992065        40.734879         -73.991150   \n",
              "50%        8.500000        -73.981842        40.752678         -73.980080   \n",
              "75%       12.500000        -73.967148        40.767361         -73.963585   \n",
              "max      200.000000         40.783470       401.083344          40.851028   \n",
              "\n",
              "       dropoff_latitude  passenger_count  \n",
              "count      50000.000000     50000.000000  \n",
              "mean          39.924244         1.667840  \n",
              "std            6.014816         1.289195  \n",
              "min          -74.006378         0.000000  \n",
              "25%           40.734371         1.000000  \n",
              "50%           40.753372         1.000000  \n",
              "75%           40.768166         2.000000  \n",
              "max           43.415192         6.000000  "
            ],
            "text/html": [
              "\n",
              "  <div id=\"df-97531987-54e0-4e24-9571-2361b428c523\">\n",
              "    <div class=\"colab-df-container\">\n",
              "      <div>\n",
              "<style scoped>\n",
              "    .dataframe tbody tr th:only-of-type {\n",
              "        vertical-align: middle;\n",
              "    }\n",
              "\n",
              "    .dataframe tbody tr th {\n",
              "        vertical-align: top;\n",
              "    }\n",
              "\n",
              "    .dataframe thead th {\n",
              "        text-align: right;\n",
              "    }\n",
              "</style>\n",
              "<table border=\"1\" class=\"dataframe\">\n",
              "  <thead>\n",
              "    <tr style=\"text-align: right;\">\n",
              "      <th></th>\n",
              "      <th>fare_amount</th>\n",
              "      <th>pickup_longitude</th>\n",
              "      <th>pickup_latitude</th>\n",
              "      <th>dropoff_longitude</th>\n",
              "      <th>dropoff_latitude</th>\n",
              "      <th>passenger_count</th>\n",
              "    </tr>\n",
              "  </thead>\n",
              "  <tbody>\n",
              "    <tr>\n",
              "      <th>count</th>\n",
              "      <td>50000.000000</td>\n",
              "      <td>50000.000000</td>\n",
              "      <td>50000.000000</td>\n",
              "      <td>50000.000000</td>\n",
              "      <td>50000.000000</td>\n",
              "      <td>50000.000000</td>\n",
              "    </tr>\n",
              "    <tr>\n",
              "      <th>mean</th>\n",
              "      <td>11.364215</td>\n",
              "      <td>-72.521416</td>\n",
              "      <td>39.931904</td>\n",
              "      <td>-72.517723</td>\n",
              "      <td>39.924244</td>\n",
              "      <td>1.667840</td>\n",
              "    </tr>\n",
              "    <tr>\n",
              "      <th>std</th>\n",
              "      <td>9.685438</td>\n",
              "      <td>10.392804</td>\n",
              "      <td>6.224685</td>\n",
              "      <td>10.406597</td>\n",
              "      <td>6.014816</td>\n",
              "      <td>1.289195</td>\n",
              "    </tr>\n",
              "    <tr>\n",
              "      <th>min</th>\n",
              "      <td>-5.000000</td>\n",
              "      <td>-75.423851</td>\n",
              "      <td>-74.006889</td>\n",
              "      <td>-84.654243</td>\n",
              "      <td>-74.006378</td>\n",
              "      <td>0.000000</td>\n",
              "    </tr>\n",
              "    <tr>\n",
              "      <th>25%</th>\n",
              "      <td>6.000000</td>\n",
              "      <td>-73.992065</td>\n",
              "      <td>40.734879</td>\n",
              "      <td>-73.991150</td>\n",
              "      <td>40.734371</td>\n",
              "      <td>1.000000</td>\n",
              "    </tr>\n",
              "    <tr>\n",
              "      <th>50%</th>\n",
              "      <td>8.500000</td>\n",
              "      <td>-73.981842</td>\n",
              "      <td>40.752678</td>\n",
              "      <td>-73.980080</td>\n",
              "      <td>40.753372</td>\n",
              "      <td>1.000000</td>\n",
              "    </tr>\n",
              "    <tr>\n",
              "      <th>75%</th>\n",
              "      <td>12.500000</td>\n",
              "      <td>-73.967148</td>\n",
              "      <td>40.767361</td>\n",
              "      <td>-73.963585</td>\n",
              "      <td>40.768166</td>\n",
              "      <td>2.000000</td>\n",
              "    </tr>\n",
              "    <tr>\n",
              "      <th>max</th>\n",
              "      <td>200.000000</td>\n",
              "      <td>40.783470</td>\n",
              "      <td>401.083344</td>\n",
              "      <td>40.851028</td>\n",
              "      <td>43.415192</td>\n",
              "      <td>6.000000</td>\n",
              "    </tr>\n",
              "  </tbody>\n",
              "</table>\n",
              "</div>\n",
              "      <button class=\"colab-df-convert\" onclick=\"convertToInteractive('df-97531987-54e0-4e24-9571-2361b428c523')\"\n",
              "              title=\"Convert this dataframe to an interactive table.\"\n",
              "              style=\"display:none;\">\n",
              "        \n",
              "  <svg xmlns=\"http://www.w3.org/2000/svg\" height=\"24px\"viewBox=\"0 0 24 24\"\n",
              "       width=\"24px\">\n",
              "    <path d=\"M0 0h24v24H0V0z\" fill=\"none\"/>\n",
              "    <path d=\"M18.56 5.44l.94 2.06.94-2.06 2.06-.94-2.06-.94-.94-2.06-.94 2.06-2.06.94zm-11 1L8.5 8.5l.94-2.06 2.06-.94-2.06-.94L8.5 2.5l-.94 2.06-2.06.94zm10 10l.94 2.06.94-2.06 2.06-.94-2.06-.94-.94-2.06-.94 2.06-2.06.94z\"/><path d=\"M17.41 7.96l-1.37-1.37c-.4-.4-.92-.59-1.43-.59-.52 0-1.04.2-1.43.59L10.3 9.45l-7.72 7.72c-.78.78-.78 2.05 0 2.83L4 21.41c.39.39.9.59 1.41.59.51 0 1.02-.2 1.41-.59l7.78-7.78 2.81-2.81c.8-.78.8-2.07 0-2.86zM5.41 20L4 18.59l7.72-7.72 1.47 1.35L5.41 20z\"/>\n",
              "  </svg>\n",
              "      </button>\n",
              "      \n",
              "  <style>\n",
              "    .colab-df-container {\n",
              "      display:flex;\n",
              "      flex-wrap:wrap;\n",
              "      gap: 12px;\n",
              "    }\n",
              "\n",
              "    .colab-df-convert {\n",
              "      background-color: #E8F0FE;\n",
              "      border: none;\n",
              "      border-radius: 50%;\n",
              "      cursor: pointer;\n",
              "      display: none;\n",
              "      fill: #1967D2;\n",
              "      height: 32px;\n",
              "      padding: 0 0 0 0;\n",
              "      width: 32px;\n",
              "    }\n",
              "\n",
              "    .colab-df-convert:hover {\n",
              "      background-color: #E2EBFA;\n",
              "      box-shadow: 0px 1px 2px rgba(60, 64, 67, 0.3), 0px 1px 3px 1px rgba(60, 64, 67, 0.15);\n",
              "      fill: #174EA6;\n",
              "    }\n",
              "\n",
              "    [theme=dark] .colab-df-convert {\n",
              "      background-color: #3B4455;\n",
              "      fill: #D2E3FC;\n",
              "    }\n",
              "\n",
              "    [theme=dark] .colab-df-convert:hover {\n",
              "      background-color: #434B5C;\n",
              "      box-shadow: 0px 1px 3px 1px rgba(0, 0, 0, 0.15);\n",
              "      filter: drop-shadow(0px 1px 2px rgba(0, 0, 0, 0.3));\n",
              "      fill: #FFFFFF;\n",
              "    }\n",
              "  </style>\n",
              "\n",
              "      <script>\n",
              "        const buttonEl =\n",
              "          document.querySelector('#df-97531987-54e0-4e24-9571-2361b428c523 button.colab-df-convert');\n",
              "        buttonEl.style.display =\n",
              "          google.colab.kernel.accessAllowed ? 'block' : 'none';\n",
              "\n",
              "        async function convertToInteractive(key) {\n",
              "          const element = document.querySelector('#df-97531987-54e0-4e24-9571-2361b428c523');\n",
              "          const dataTable =\n",
              "            await google.colab.kernel.invokeFunction('convertToInteractive',\n",
              "                                                     [key], {});\n",
              "          if (!dataTable) return;\n",
              "\n",
              "          const docLinkHtml = 'Like what you see? Visit the ' +\n",
              "            '<a target=\"_blank\" href=https://colab.research.google.com/notebooks/data_table.ipynb>data table notebook</a>'\n",
              "            + ' to learn more about interactive tables.';\n",
              "          element.innerHTML = '';\n",
              "          dataTable['output_type'] = 'display_data';\n",
              "          await google.colab.output.renderOutput(dataTable, element);\n",
              "          const docLink = document.createElement('div');\n",
              "          docLink.innerHTML = docLinkHtml;\n",
              "          element.appendChild(docLink);\n",
              "        }\n",
              "      </script>\n",
              "    </div>\n",
              "  </div>\n",
              "  "
            ]
          },
          "metadata": {},
          "execution_count": 83
        }
      ]
    },
    {
      "cell_type": "code",
      "source": [
        "def min_max_date(df, date_col):\n",
        "  return df[date_col].max(), df[date_col].min()\n",
        "\n",
        "min_max_date(df, 'pickup_datetime')"
      ],
      "metadata": {
        "colab": {
          "base_uri": "https://localhost:8080/"
        },
        "id": "1DOVOa28cDZ4",
        "outputId": "fa5e3c24-670e-4344-a6fe-b9d66bbedf95"
      },
      "execution_count": 84,
      "outputs": [
        {
          "output_type": "execute_result",
          "data": {
            "text/plain": [
              "(Timestamp('2015-06-30 22:42:39+0000', tz='UTC'),\n",
              " Timestamp('2009-01-01 01:31:49+0000', tz='UTC'))"
            ]
          },
          "metadata": {},
          "execution_count": 84
        }
      ]
    },
    {
      "cell_type": "markdown",
      "source": [
        "Obseravations - \n",
        "- min fare amount is -5 dollars  and max is 200 dollars\n",
        "- 50% values are under 8.5$, 75% of rides cost less than 12.5$. This gives the basic understanding how good our models need to be.\n",
        "- While making prediction, I would expect my prediciton to be under +_ 3$ range otherwise I am off by a lot.\n",
        "- max passege count is 6 which is highly unlikely. Hence we might requrie some data cleanup.\n",
        "- observing the min and max date its about 6 years of worth of data"
      ],
      "metadata": {
        "id": "n3t-6quTcFoL"
      }
    },
    {
      "cell_type": "markdown",
      "source": [
        "# 3. EDA and Visualization"
      ],
      "metadata": {
        "id": "Z3Fnm_ATflYO"
      }
    },
    {
      "cell_type": "code",
      "source": [
        "df.head()"
      ],
      "metadata": {
        "colab": {
          "base_uri": "https://localhost:8080/",
          "height": 206
        },
        "id": "4p-9XwnvekSY",
        "outputId": "983c817a-3536-4df9-97e1-748ecd5ef9c4"
      },
      "execution_count": 85,
      "outputs": [
        {
          "output_type": "execute_result",
          "data": {
            "text/plain": [
              "   fare_amount           pickup_datetime  pickup_longitude  pickup_latitude  \\\n",
              "0          4.5 2009-06-15 17:26:21+00:00        -73.844315        40.721317   \n",
              "1         16.9 2010-01-05 16:52:16+00:00        -74.016045        40.711304   \n",
              "2          5.7 2011-08-18 00:35:00+00:00        -73.982735        40.761269   \n",
              "3          7.7 2012-04-21 04:30:42+00:00        -73.987129        40.733143   \n",
              "4          5.3 2010-03-09 07:51:00+00:00        -73.968094        40.768009   \n",
              "\n",
              "   dropoff_longitude  dropoff_latitude  passenger_count  \n",
              "0         -73.841614         40.712276                1  \n",
              "1         -73.979271         40.782005                1  \n",
              "2         -73.991241         40.750561                2  \n",
              "3         -73.991570         40.758091                1  \n",
              "4         -73.956657         40.783764                1  "
            ],
            "text/html": [
              "\n",
              "  <div id=\"df-2996d65a-3401-48a8-8e3b-510de5c6aacb\">\n",
              "    <div class=\"colab-df-container\">\n",
              "      <div>\n",
              "<style scoped>\n",
              "    .dataframe tbody tr th:only-of-type {\n",
              "        vertical-align: middle;\n",
              "    }\n",
              "\n",
              "    .dataframe tbody tr th {\n",
              "        vertical-align: top;\n",
              "    }\n",
              "\n",
              "    .dataframe thead th {\n",
              "        text-align: right;\n",
              "    }\n",
              "</style>\n",
              "<table border=\"1\" class=\"dataframe\">\n",
              "  <thead>\n",
              "    <tr style=\"text-align: right;\">\n",
              "      <th></th>\n",
              "      <th>fare_amount</th>\n",
              "      <th>pickup_datetime</th>\n",
              "      <th>pickup_longitude</th>\n",
              "      <th>pickup_latitude</th>\n",
              "      <th>dropoff_longitude</th>\n",
              "      <th>dropoff_latitude</th>\n",
              "      <th>passenger_count</th>\n",
              "    </tr>\n",
              "  </thead>\n",
              "  <tbody>\n",
              "    <tr>\n",
              "      <th>0</th>\n",
              "      <td>4.5</td>\n",
              "      <td>2009-06-15 17:26:21+00:00</td>\n",
              "      <td>-73.844315</td>\n",
              "      <td>40.721317</td>\n",
              "      <td>-73.841614</td>\n",
              "      <td>40.712276</td>\n",
              "      <td>1</td>\n",
              "    </tr>\n",
              "    <tr>\n",
              "      <th>1</th>\n",
              "      <td>16.9</td>\n",
              "      <td>2010-01-05 16:52:16+00:00</td>\n",
              "      <td>-74.016045</td>\n",
              "      <td>40.711304</td>\n",
              "      <td>-73.979271</td>\n",
              "      <td>40.782005</td>\n",
              "      <td>1</td>\n",
              "    </tr>\n",
              "    <tr>\n",
              "      <th>2</th>\n",
              "      <td>5.7</td>\n",
              "      <td>2011-08-18 00:35:00+00:00</td>\n",
              "      <td>-73.982735</td>\n",
              "      <td>40.761269</td>\n",
              "      <td>-73.991241</td>\n",
              "      <td>40.750561</td>\n",
              "      <td>2</td>\n",
              "    </tr>\n",
              "    <tr>\n",
              "      <th>3</th>\n",
              "      <td>7.7</td>\n",
              "      <td>2012-04-21 04:30:42+00:00</td>\n",
              "      <td>-73.987129</td>\n",
              "      <td>40.733143</td>\n",
              "      <td>-73.991570</td>\n",
              "      <td>40.758091</td>\n",
              "      <td>1</td>\n",
              "    </tr>\n",
              "    <tr>\n",
              "      <th>4</th>\n",
              "      <td>5.3</td>\n",
              "      <td>2010-03-09 07:51:00+00:00</td>\n",
              "      <td>-73.968094</td>\n",
              "      <td>40.768009</td>\n",
              "      <td>-73.956657</td>\n",
              "      <td>40.783764</td>\n",
              "      <td>1</td>\n",
              "    </tr>\n",
              "  </tbody>\n",
              "</table>\n",
              "</div>\n",
              "      <button class=\"colab-df-convert\" onclick=\"convertToInteractive('df-2996d65a-3401-48a8-8e3b-510de5c6aacb')\"\n",
              "              title=\"Convert this dataframe to an interactive table.\"\n",
              "              style=\"display:none;\">\n",
              "        \n",
              "  <svg xmlns=\"http://www.w3.org/2000/svg\" height=\"24px\"viewBox=\"0 0 24 24\"\n",
              "       width=\"24px\">\n",
              "    <path d=\"M0 0h24v24H0V0z\" fill=\"none\"/>\n",
              "    <path d=\"M18.56 5.44l.94 2.06.94-2.06 2.06-.94-2.06-.94-.94-2.06-.94 2.06-2.06.94zm-11 1L8.5 8.5l.94-2.06 2.06-.94-2.06-.94L8.5 2.5l-.94 2.06-2.06.94zm10 10l.94 2.06.94-2.06 2.06-.94-2.06-.94-.94-2.06-.94 2.06-2.06.94z\"/><path d=\"M17.41 7.96l-1.37-1.37c-.4-.4-.92-.59-1.43-.59-.52 0-1.04.2-1.43.59L10.3 9.45l-7.72 7.72c-.78.78-.78 2.05 0 2.83L4 21.41c.39.39.9.59 1.41.59.51 0 1.02-.2 1.41-.59l7.78-7.78 2.81-2.81c.8-.78.8-2.07 0-2.86zM5.41 20L4 18.59l7.72-7.72 1.47 1.35L5.41 20z\"/>\n",
              "  </svg>\n",
              "      </button>\n",
              "      \n",
              "  <style>\n",
              "    .colab-df-container {\n",
              "      display:flex;\n",
              "      flex-wrap:wrap;\n",
              "      gap: 12px;\n",
              "    }\n",
              "\n",
              "    .colab-df-convert {\n",
              "      background-color: #E8F0FE;\n",
              "      border: none;\n",
              "      border-radius: 50%;\n",
              "      cursor: pointer;\n",
              "      display: none;\n",
              "      fill: #1967D2;\n",
              "      height: 32px;\n",
              "      padding: 0 0 0 0;\n",
              "      width: 32px;\n",
              "    }\n",
              "\n",
              "    .colab-df-convert:hover {\n",
              "      background-color: #E2EBFA;\n",
              "      box-shadow: 0px 1px 2px rgba(60, 64, 67, 0.3), 0px 1px 3px 1px rgba(60, 64, 67, 0.15);\n",
              "      fill: #174EA6;\n",
              "    }\n",
              "\n",
              "    [theme=dark] .colab-df-convert {\n",
              "      background-color: #3B4455;\n",
              "      fill: #D2E3FC;\n",
              "    }\n",
              "\n",
              "    [theme=dark] .colab-df-convert:hover {\n",
              "      background-color: #434B5C;\n",
              "      box-shadow: 0px 1px 3px 1px rgba(0, 0, 0, 0.15);\n",
              "      filter: drop-shadow(0px 1px 2px rgba(0, 0, 0, 0.3));\n",
              "      fill: #FFFFFF;\n",
              "    }\n",
              "  </style>\n",
              "\n",
              "      <script>\n",
              "        const buttonEl =\n",
              "          document.querySelector('#df-2996d65a-3401-48a8-8e3b-510de5c6aacb button.colab-df-convert');\n",
              "        buttonEl.style.display =\n",
              "          google.colab.kernel.accessAllowed ? 'block' : 'none';\n",
              "\n",
              "        async function convertToInteractive(key) {\n",
              "          const element = document.querySelector('#df-2996d65a-3401-48a8-8e3b-510de5c6aacb');\n",
              "          const dataTable =\n",
              "            await google.colab.kernel.invokeFunction('convertToInteractive',\n",
              "                                                     [key], {});\n",
              "          if (!dataTable) return;\n",
              "\n",
              "          const docLinkHtml = 'Like what you see? Visit the ' +\n",
              "            '<a target=\"_blank\" href=https://colab.research.google.com/notebooks/data_table.ipynb>data table notebook</a>'\n",
              "            + ' to learn more about interactive tables.';\n",
              "          element.innerHTML = '';\n",
              "          dataTable['output_type'] = 'display_data';\n",
              "          await google.colab.output.renderOutput(dataTable, element);\n",
              "          const docLink = document.createElement('div');\n",
              "          docLink.innerHTML = docLinkHtml;\n",
              "          element.appendChild(docLink);\n",
              "        }\n",
              "      </script>\n",
              "    </div>\n",
              "  </div>\n",
              "  "
            ]
          },
          "metadata": {},
          "execution_count": 85
        }
      ]
    },
    {
      "cell_type": "code",
      "source": [
        ""
      ],
      "metadata": {
        "id": "ya-gzJlefgA_"
      },
      "execution_count": 6,
      "outputs": []
    },
    {
      "cell_type": "code",
      "source": [
        ""
      ],
      "metadata": {
        "id": "oiH0yN2h5uZl"
      },
      "execution_count": 6,
      "outputs": []
    },
    {
      "cell_type": "markdown",
      "source": [
        "#4. Preparing the dataset"
      ],
      "metadata": {
        "id": "rieIm-8i5u72"
      }
    },
    {
      "cell_type": "markdown",
      "source": [
        "We will set aside 20% of our data as validation set for evaluation of our model"
      ],
      "metadata": {
        "id": "a3YXdEEL54_H"
      }
    },
    {
      "cell_type": "code",
      "source": [
        "train_df, val_df = train_test_split(df, test_size=0.2, random_state=42)"
      ],
      "metadata": {
        "id": "11N95lc15w_O"
      },
      "execution_count": 7,
      "outputs": []
    },
    {
      "cell_type": "code",
      "source": [
        "len(train_df), len(val_df)"
      ],
      "metadata": {
        "colab": {
          "base_uri": "https://localhost:8080/"
        },
        "id": "TpITHkVp6zpA",
        "outputId": "81f1c6d2-8d9c-4e5e-f575-545e2544fdf2"
      },
      "execution_count": 8,
      "outputs": [
        {
          "output_type": "execute_result",
          "data": {
            "text/plain": [
              "(40000, 10000)"
            ]
          },
          "metadata": {},
          "execution_count": 8
        }
      ]
    },
    {
      "cell_type": "code",
      "source": [
        "## extract input and targets\n",
        "\n",
        "train_df.columns"
      ],
      "metadata": {
        "colab": {
          "base_uri": "https://localhost:8080/"
        },
        "id": "Aqy1I0pX64EB",
        "outputId": "90099e89-735e-4585-a3ef-3b9ac41a9665"
      },
      "execution_count": 9,
      "outputs": [
        {
          "output_type": "execute_result",
          "data": {
            "text/plain": [
              "Index(['fare_amount', 'pickup_datetime', 'pickup_longitude', 'pickup_latitude',\n",
              "       'dropoff_longitude', 'dropoff_latitude', 'passenger_count'],\n",
              "      dtype='object')"
            ]
          },
          "metadata": {},
          "execution_count": 9
        }
      ]
    },
    {
      "cell_type": "code",
      "source": [
        "input_cols = ['pickup_longitude', 'pickup_latitude','dropoff_longitude', 'dropoff_latitude', 'passenger_count']\n",
        "target_cols = 'fare_amount'"
      ],
      "metadata": {
        "id": "tp1WnFLt7eqm"
      },
      "execution_count": 10,
      "outputs": []
    },
    {
      "cell_type": "code",
      "source": [
        "train_inputs = train_df[input_cols]\n",
        "train_targets = train_df[target_cols]\n",
        "val_inputs = val_df[input_cols]\n",
        "val_targets = val_df[target_cols]"
      ],
      "metadata": {
        "id": "ABd3i3YA7pXh"
      },
      "execution_count": 11,
      "outputs": []
    },
    {
      "cell_type": "markdown",
      "source": [
        "# 5. Train baseline models"
      ],
      "metadata": {
        "id": "0rHHBBjX8iQY"
      }
    },
    {
      "cell_type": "code",
      "source": [
        "class regressor():\n",
        "  def fit(self, inputs, targets):\n",
        "    self.mean = targets.mean()\n",
        "\n",
        "  def predicts(self, inputs):\n",
        "    return np.full(inputs.shape[0], self.mean)"
      ],
      "metadata": {
        "id": "bOop_6yt8Dtn"
      },
      "execution_count": 12,
      "outputs": []
    },
    {
      "cell_type": "code",
      "source": [
        "np.full([40000], 40000)"
      ],
      "metadata": {
        "colab": {
          "base_uri": "https://localhost:8080/"
        },
        "id": "zvx0LZCQ9F3O",
        "outputId": "d437073a-2b3a-4e0c-847a-63acbf57c3af"
      },
      "execution_count": 13,
      "outputs": [
        {
          "output_type": "execute_result",
          "data": {
            "text/plain": [
              "array([40000, 40000, 40000, ..., 40000, 40000, 40000])"
            ]
          },
          "metadata": {},
          "execution_count": 13
        }
      ]
    },
    {
      "cell_type": "code",
      "source": [
        "mean_model = regressor()"
      ],
      "metadata": {
        "id": "pPT1ZlMk-Jt6"
      },
      "execution_count": 14,
      "outputs": []
    },
    {
      "cell_type": "code",
      "source": [
        "mean_model.fit(train_inputs, train_targets)\n",
        "print(f'Average fare for the taxi id {mean_model.mean}')"
      ],
      "metadata": {
        "colab": {
          "base_uri": "https://localhost:8080/"
        },
        "id": "noXFfW7n-_pt",
        "outputId": "85c0f04c-e04f-4345-c9db-bcb10cdd103c"
      },
      "execution_count": 15,
      "outputs": [
        {
          "output_type": "stream",
          "name": "stdout",
          "text": [
            "Average fare for the taxi id 11.376873970031738\n"
          ]
        }
      ]
    },
    {
      "cell_type": "code",
      "source": [
        "mean_model.predicts(train_inputs)"
      ],
      "metadata": {
        "colab": {
          "base_uri": "https://localhost:8080/"
        },
        "id": "l_GHUqJ2_LnZ",
        "outputId": "37dd44f8-4c3e-4d1a-f9bb-1a3f32d88ee4"
      },
      "execution_count": 16,
      "outputs": [
        {
          "output_type": "execute_result",
          "data": {
            "text/plain": [
              "array([11.37687397, 11.37687397, 11.37687397, ..., 11.37687397,\n",
              "       11.37687397, 11.37687397])"
            ]
          },
          "metadata": {},
          "execution_count": 16
        }
      ]
    },
    {
      "cell_type": "code",
      "source": [
        "train_targets"
      ],
      "metadata": {
        "colab": {
          "base_uri": "https://localhost:8080/"
        },
        "id": "LMMUBkp9AtmC",
        "outputId": "524d4b7d-4e4c-4e21-9b7d-dcd53cd981de"
      },
      "execution_count": 17,
      "outputs": [
        {
          "output_type": "execute_result",
          "data": {
            "text/plain": [
              "39087    10.000000\n",
              "30893     4.000000\n",
              "45278     6.900000\n",
              "16398     7.700000\n",
              "13653     4.500000\n",
              "           ...    \n",
              "11284     6.500000\n",
              "44732     3.700000\n",
              "38158    12.100000\n",
              "860      12.100000\n",
              "15795    57.330002\n",
              "Name: fare_amount, Length: 40000, dtype: float32"
            ]
          },
          "metadata": {},
          "execution_count": 17
        }
      ]
    },
    {
      "cell_type": "code",
      "source": [
        "mean_model.predicts(val_inputs)"
      ],
      "metadata": {
        "colab": {
          "base_uri": "https://localhost:8080/"
        },
        "id": "OrCMnFVy_7_U",
        "outputId": "345341c5-3548-4a8b-897f-2c2d582785d6"
      },
      "execution_count": 18,
      "outputs": [
        {
          "output_type": "execute_result",
          "data": {
            "text/plain": [
              "array([11.37687397, 11.37687397, 11.37687397, ..., 11.37687397,\n",
              "       11.37687397, 11.37687397])"
            ]
          },
          "metadata": {},
          "execution_count": 18
        }
      ]
    },
    {
      "cell_type": "code",
      "source": [
        "val_targets"
      ],
      "metadata": {
        "colab": {
          "base_uri": "https://localhost:8080/"
        },
        "id": "pfvheRDHAniu",
        "outputId": "c0686576-c418-4f34-f985-70184b4413d7"
      },
      "execution_count": 19,
      "outputs": [
        {
          "output_type": "execute_result",
          "data": {
            "text/plain": [
              "33553     7.300000\n",
              "9427     33.299999\n",
              "199       5.500000\n",
              "12447     7.000000\n",
              "39489     5.300000\n",
              "           ...    \n",
              "28567     9.300000\n",
              "25079     5.500000\n",
              "18707     6.500000\n",
              "15200    30.500000\n",
              "5857      6.900000\n",
              "Name: fare_amount, Length: 10000, dtype: float32"
            ]
          },
          "metadata": {},
          "execution_count": 19
        }
      ]
    },
    {
      "cell_type": "code",
      "source": [
        "def rmse(targets, predicitions):\n",
        "  return mean_squared_error(targets, predicitions, squared = False)\n",
        "\n",
        "rmse(train_targets, mean_model.predicts(train_inputs))"
      ],
      "metadata": {
        "colab": {
          "base_uri": "https://localhost:8080/"
        },
        "id": "c_t-47nqAziE",
        "outputId": "09150740-68cb-4e17-d3e8-60423f7f915c"
      },
      "execution_count": 20,
      "outputs": [
        {
          "output_type": "execute_result",
          "data": {
            "text/plain": [
              "9.696218748570448"
            ]
          },
          "metadata": {},
          "execution_count": 20
        }
      ]
    },
    {
      "cell_type": "markdown",
      "source": [
        "The average score is really bad. Any model we train should be better than this."
      ],
      "metadata": {
        "id": "oemhCsvBC0iX"
      }
    },
    {
      "cell_type": "code",
      "source": [
        "## Trying linear regression\n",
        "\n",
        "linear_model = LinearRegression()\n",
        "linear_model.fit(train_inputs, train_targets)\n",
        "train_preds = linear_model.predict(train_inputs)\n",
        "train_preds"
      ],
      "metadata": {
        "colab": {
          "base_uri": "https://localhost:8080/"
        },
        "id": "L5cKCSETBy6N",
        "outputId": "aeb1f1ca-4be1-4a3f-dfcd-483d10b120c7"
      },
      "execution_count": 21,
      "outputs": [
        {
          "output_type": "execute_result",
          "data": {
            "text/plain": [
              "array([11.819403, 11.820234, 11.687607, ..., 11.41951 , 11.284868,\n",
              "       11.286995], dtype=float32)"
            ]
          },
          "metadata": {},
          "execution_count": 21
        }
      ]
    },
    {
      "cell_type": "code",
      "source": [
        "train_targets"
      ],
      "metadata": {
        "colab": {
          "base_uri": "https://localhost:8080/"
        },
        "id": "HR7MNV0iDfjh",
        "outputId": "8a322e03-c5e1-4f37-baa0-2f10645553d5"
      },
      "execution_count": 22,
      "outputs": [
        {
          "output_type": "execute_result",
          "data": {
            "text/plain": [
              "39087    10.000000\n",
              "30893     4.000000\n",
              "45278     6.900000\n",
              "16398     7.700000\n",
              "13653     4.500000\n",
              "           ...    \n",
              "11284     6.500000\n",
              "44732     3.700000\n",
              "38158    12.100000\n",
              "860      12.100000\n",
              "15795    57.330002\n",
              "Name: fare_amount, Length: 40000, dtype: float32"
            ]
          },
          "metadata": {},
          "execution_count": 22
        }
      ]
    },
    {
      "cell_type": "code",
      "source": [
        "rmse(train_targets, train_preds)"
      ],
      "metadata": {
        "colab": {
          "base_uri": "https://localhost:8080/"
        },
        "id": "IYhQQ0ltD4sL",
        "outputId": "9fed6947-b0ff-42e7-bf55-32a7eb034ece"
      },
      "execution_count": 23,
      "outputs": [
        {
          "output_type": "execute_result",
          "data": {
            "text/plain": [
              "9.694377"
            ]
          },
          "metadata": {},
          "execution_count": 23
        }
      ]
    },
    {
      "cell_type": "code",
      "source": [
        "val_preds = linear_model.predict(val_inputs)\n",
        "rmse(val_targets, val_preds)"
      ],
      "metadata": {
        "colab": {
          "base_uri": "https://localhost:8080/"
        },
        "id": "gH2pwzFfEFR2",
        "outputId": "047609ad-d03e-4bdb-b119-94d8b09561c6"
      },
      "execution_count": 24,
      "outputs": [
        {
          "output_type": "execute_result",
          "data": {
            "text/plain": [
              "9.641011"
            ]
          },
          "metadata": {},
          "execution_count": 24
        }
      ]
    },
    {
      "cell_type": "markdown",
      "source": [
        "- May the model not learning well from lat and long data\n",
        "- We are not using pickup date time, fare can be seasonal and can depend on time of the day"
      ],
      "metadata": {
        "id": "liupnoEiE0pc"
      }
    },
    {
      "cell_type": "markdown",
      "source": [
        "# 6. Feature Engineering"
      ],
      "metadata": {
        "id": "HqykF-YaFc2E"
      }
    },
    {
      "cell_type": "markdown",
      "source": [
        "- Extract part of the dates\n",
        "- Remove outlier and invalid data\n",
        "- Add distances btw pickup and drop\n",
        "- Add distnace from landmark"
      ],
      "metadata": {
        "id": "SZbg3ZBqct2y"
      }
    },
    {
      "cell_type": "markdown",
      "source": [
        "## Extract Parts of Date\n",
        " - Year\n",
        " - Month\n",
        " - Day\n",
        " - Weekday\n",
        " - hour"
      ],
      "metadata": {
        "id": "Eu_oOfEacEaK"
      }
    },
    {
      "cell_type": "code",
      "source": [
        "def part_of_dates(df, column):\n",
        "  df[column+ '_year']= df[column].dt.year\n",
        "  df[column+ '_month']= df[column].dt.month\n",
        "  df[column+ '_day']= df[column].dt.day\n",
        "  df[column+ '_week']= df[column].dt.weekday\n",
        "  df[column+ '_hour']= df[column].dt.hour"
      ],
      "metadata": {
        "id": "Yzl-k6ExFcTJ"
      },
      "execution_count": 25,
      "outputs": []
    },
    {
      "cell_type": "code",
      "source": [
        "part_of_dates(train_df, 'pickup_datetime')\n",
        "part_of_dates(val_df, 'pickup_datetime')"
      ],
      "metadata": {
        "id": "oOd8X9hrEmGp"
      },
      "execution_count": 26,
      "outputs": []
    },
    {
      "cell_type": "code",
      "source": [
        "train_df.head()"
      ],
      "metadata": {
        "colab": {
          "base_uri": "https://localhost:8080/",
          "height": 356
        },
        "id": "yyyO4nHlemPF",
        "outputId": "126e2173-e933-444f-9dfa-f978c633b76a"
      },
      "execution_count": 27,
      "outputs": [
        {
          "output_type": "execute_result",
          "data": {
            "text/plain": [
              "       fare_amount           pickup_datetime  pickup_longitude  \\\n",
              "39087         10.0 2013-07-27 17:04:00+00:00        -73.974335   \n",
              "30893          4.0 2013-01-08 09:26:00+00:00        -73.973656   \n",
              "45278          6.9 2012-03-17 16:45:00+00:00        -73.975266   \n",
              "16398          7.7 2012-06-08 09:01:17+00:00        -73.983032   \n",
              "13653          4.5 2015-06-22 17:30:49+00:00        -73.986717   \n",
              "\n",
              "       pickup_latitude  dropoff_longitude  dropoff_latitude  passenger_count  \\\n",
              "39087        40.791428         -73.979034         40.766365                5   \n",
              "30893        40.751633         -73.969948         40.756702                5   \n",
              "45278        40.752281         -73.995094         40.737499                4   \n",
              "16398        40.766785         -73.971947         40.789288                1   \n",
              "13653        40.771648         -73.982140         40.770699                1   \n",
              "\n",
              "       pickup_datetime_year  pickup_datetime_month  pickup_datetime_day  \\\n",
              "39087                  2013                      7                   27   \n",
              "30893                  2013                      1                    8   \n",
              "45278                  2012                      3                   17   \n",
              "16398                  2012                      6                    8   \n",
              "13653                  2015                      6                   22   \n",
              "\n",
              "       pickup_datetime_week  pickup_datetime_hour  \n",
              "39087                     5                    17  \n",
              "30893                     1                     9  \n",
              "45278                     5                    16  \n",
              "16398                     4                     9  \n",
              "13653                     0                    17  "
            ],
            "text/html": [
              "\n",
              "  <div id=\"df-a7cd7973-dc17-4913-bd10-12a7838eca98\">\n",
              "    <div class=\"colab-df-container\">\n",
              "      <div>\n",
              "<style scoped>\n",
              "    .dataframe tbody tr th:only-of-type {\n",
              "        vertical-align: middle;\n",
              "    }\n",
              "\n",
              "    .dataframe tbody tr th {\n",
              "        vertical-align: top;\n",
              "    }\n",
              "\n",
              "    .dataframe thead th {\n",
              "        text-align: right;\n",
              "    }\n",
              "</style>\n",
              "<table border=\"1\" class=\"dataframe\">\n",
              "  <thead>\n",
              "    <tr style=\"text-align: right;\">\n",
              "      <th></th>\n",
              "      <th>fare_amount</th>\n",
              "      <th>pickup_datetime</th>\n",
              "      <th>pickup_longitude</th>\n",
              "      <th>pickup_latitude</th>\n",
              "      <th>dropoff_longitude</th>\n",
              "      <th>dropoff_latitude</th>\n",
              "      <th>passenger_count</th>\n",
              "      <th>pickup_datetime_year</th>\n",
              "      <th>pickup_datetime_month</th>\n",
              "      <th>pickup_datetime_day</th>\n",
              "      <th>pickup_datetime_week</th>\n",
              "      <th>pickup_datetime_hour</th>\n",
              "    </tr>\n",
              "  </thead>\n",
              "  <tbody>\n",
              "    <tr>\n",
              "      <th>39087</th>\n",
              "      <td>10.0</td>\n",
              "      <td>2013-07-27 17:04:00+00:00</td>\n",
              "      <td>-73.974335</td>\n",
              "      <td>40.791428</td>\n",
              "      <td>-73.979034</td>\n",
              "      <td>40.766365</td>\n",
              "      <td>5</td>\n",
              "      <td>2013</td>\n",
              "      <td>7</td>\n",
              "      <td>27</td>\n",
              "      <td>5</td>\n",
              "      <td>17</td>\n",
              "    </tr>\n",
              "    <tr>\n",
              "      <th>30893</th>\n",
              "      <td>4.0</td>\n",
              "      <td>2013-01-08 09:26:00+00:00</td>\n",
              "      <td>-73.973656</td>\n",
              "      <td>40.751633</td>\n",
              "      <td>-73.969948</td>\n",
              "      <td>40.756702</td>\n",
              "      <td>5</td>\n",
              "      <td>2013</td>\n",
              "      <td>1</td>\n",
              "      <td>8</td>\n",
              "      <td>1</td>\n",
              "      <td>9</td>\n",
              "    </tr>\n",
              "    <tr>\n",
              "      <th>45278</th>\n",
              "      <td>6.9</td>\n",
              "      <td>2012-03-17 16:45:00+00:00</td>\n",
              "      <td>-73.975266</td>\n",
              "      <td>40.752281</td>\n",
              "      <td>-73.995094</td>\n",
              "      <td>40.737499</td>\n",
              "      <td>4</td>\n",
              "      <td>2012</td>\n",
              "      <td>3</td>\n",
              "      <td>17</td>\n",
              "      <td>5</td>\n",
              "      <td>16</td>\n",
              "    </tr>\n",
              "    <tr>\n",
              "      <th>16398</th>\n",
              "      <td>7.7</td>\n",
              "      <td>2012-06-08 09:01:17+00:00</td>\n",
              "      <td>-73.983032</td>\n",
              "      <td>40.766785</td>\n",
              "      <td>-73.971947</td>\n",
              "      <td>40.789288</td>\n",
              "      <td>1</td>\n",
              "      <td>2012</td>\n",
              "      <td>6</td>\n",
              "      <td>8</td>\n",
              "      <td>4</td>\n",
              "      <td>9</td>\n",
              "    </tr>\n",
              "    <tr>\n",
              "      <th>13653</th>\n",
              "      <td>4.5</td>\n",
              "      <td>2015-06-22 17:30:49+00:00</td>\n",
              "      <td>-73.986717</td>\n",
              "      <td>40.771648</td>\n",
              "      <td>-73.982140</td>\n",
              "      <td>40.770699</td>\n",
              "      <td>1</td>\n",
              "      <td>2015</td>\n",
              "      <td>6</td>\n",
              "      <td>22</td>\n",
              "      <td>0</td>\n",
              "      <td>17</td>\n",
              "    </tr>\n",
              "  </tbody>\n",
              "</table>\n",
              "</div>\n",
              "      <button class=\"colab-df-convert\" onclick=\"convertToInteractive('df-a7cd7973-dc17-4913-bd10-12a7838eca98')\"\n",
              "              title=\"Convert this dataframe to an interactive table.\"\n",
              "              style=\"display:none;\">\n",
              "        \n",
              "  <svg xmlns=\"http://www.w3.org/2000/svg\" height=\"24px\"viewBox=\"0 0 24 24\"\n",
              "       width=\"24px\">\n",
              "    <path d=\"M0 0h24v24H0V0z\" fill=\"none\"/>\n",
              "    <path d=\"M18.56 5.44l.94 2.06.94-2.06 2.06-.94-2.06-.94-.94-2.06-.94 2.06-2.06.94zm-11 1L8.5 8.5l.94-2.06 2.06-.94-2.06-.94L8.5 2.5l-.94 2.06-2.06.94zm10 10l.94 2.06.94-2.06 2.06-.94-2.06-.94-.94-2.06-.94 2.06-2.06.94z\"/><path d=\"M17.41 7.96l-1.37-1.37c-.4-.4-.92-.59-1.43-.59-.52 0-1.04.2-1.43.59L10.3 9.45l-7.72 7.72c-.78.78-.78 2.05 0 2.83L4 21.41c.39.39.9.59 1.41.59.51 0 1.02-.2 1.41-.59l7.78-7.78 2.81-2.81c.8-.78.8-2.07 0-2.86zM5.41 20L4 18.59l7.72-7.72 1.47 1.35L5.41 20z\"/>\n",
              "  </svg>\n",
              "      </button>\n",
              "      \n",
              "  <style>\n",
              "    .colab-df-container {\n",
              "      display:flex;\n",
              "      flex-wrap:wrap;\n",
              "      gap: 12px;\n",
              "    }\n",
              "\n",
              "    .colab-df-convert {\n",
              "      background-color: #E8F0FE;\n",
              "      border: none;\n",
              "      border-radius: 50%;\n",
              "      cursor: pointer;\n",
              "      display: none;\n",
              "      fill: #1967D2;\n",
              "      height: 32px;\n",
              "      padding: 0 0 0 0;\n",
              "      width: 32px;\n",
              "    }\n",
              "\n",
              "    .colab-df-convert:hover {\n",
              "      background-color: #E2EBFA;\n",
              "      box-shadow: 0px 1px 2px rgba(60, 64, 67, 0.3), 0px 1px 3px 1px rgba(60, 64, 67, 0.15);\n",
              "      fill: #174EA6;\n",
              "    }\n",
              "\n",
              "    [theme=dark] .colab-df-convert {\n",
              "      background-color: #3B4455;\n",
              "      fill: #D2E3FC;\n",
              "    }\n",
              "\n",
              "    [theme=dark] .colab-df-convert:hover {\n",
              "      background-color: #434B5C;\n",
              "      box-shadow: 0px 1px 3px 1px rgba(0, 0, 0, 0.15);\n",
              "      filter: drop-shadow(0px 1px 2px rgba(0, 0, 0, 0.3));\n",
              "      fill: #FFFFFF;\n",
              "    }\n",
              "  </style>\n",
              "\n",
              "      <script>\n",
              "        const buttonEl =\n",
              "          document.querySelector('#df-a7cd7973-dc17-4913-bd10-12a7838eca98 button.colab-df-convert');\n",
              "        buttonEl.style.display =\n",
              "          google.colab.kernel.accessAllowed ? 'block' : 'none';\n",
              "\n",
              "        async function convertToInteractive(key) {\n",
              "          const element = document.querySelector('#df-a7cd7973-dc17-4913-bd10-12a7838eca98');\n",
              "          const dataTable =\n",
              "            await google.colab.kernel.invokeFunction('convertToInteractive',\n",
              "                                                     [key], {});\n",
              "          if (!dataTable) return;\n",
              "\n",
              "          const docLinkHtml = 'Like what you see? Visit the ' +\n",
              "            '<a target=\"_blank\" href=https://colab.research.google.com/notebooks/data_table.ipynb>data table notebook</a>'\n",
              "            + ' to learn more about interactive tables.';\n",
              "          element.innerHTML = '';\n",
              "          dataTable['output_type'] = 'display_data';\n",
              "          await google.colab.output.renderOutput(dataTable, element);\n",
              "          const docLink = document.createElement('div');\n",
              "          docLink.innerHTML = docLinkHtml;\n",
              "          element.appendChild(docLink);\n",
              "        }\n",
              "      </script>\n",
              "    </div>\n",
              "  </div>\n",
              "  "
            ]
          },
          "metadata": {},
          "execution_count": 27
        }
      ]
    },
    {
      "cell_type": "markdown",
      "source": [
        "## Add distance between pickup and dropp"
      ],
      "metadata": {
        "id": "0D343iHFe3ot"
      }
    },
    {
      "cell_type": "markdown",
      "source": [
        "- https://en.wikipedia.org/wiki/Haversine_formula\n"
      ],
      "metadata": {
        "id": "cYhfO4CEfRLw"
      }
    },
    {
      "cell_type": "code",
      "source": [
        "def haversine_np(lon1, lat1, lon2, lat2):\n",
        "    \"\"\"\n",
        "    Calculate the great circle distance between two points\n",
        "    on the earth (specified in decimal degrees)\n",
        "\n",
        "    All args must be of equal length.    \n",
        "\n",
        "    \"\"\"\n",
        "    lon1, lat1, lon2, lat2 = map(np.radians, [lon1, lat1, lon2, lat2])\n",
        "\n",
        "    dlon = lon2 - lon1\n",
        "    dlat = lat2 - lat1\n",
        "\n",
        "    a = np.sin(dlat/2.0)**2 + np.cos(lat1) * np.cos(lat2) * np.sin(dlon/2.0)**2\n",
        "\n",
        "    c = 2 * np.arcsin(np.sqrt(a))\n",
        "    km = 6367 * c\n",
        "    return km"
      ],
      "metadata": {
        "id": "uknK6AeGfQU0"
      },
      "execution_count": 28,
      "outputs": []
    },
    {
      "cell_type": "code",
      "source": [
        "def trip_distance(df):\n",
        "  df['trip_distance'] = haversine_np(df['pickup_longitude'],\n",
        "                                     df['pickup_latitude'],\n",
        "                                     df['dropoff_longitude'],\n",
        "                                     df['dropoff_latitude'])"
      ],
      "metadata": {
        "id": "v9eUWyFxepgW"
      },
      "execution_count": 29,
      "outputs": []
    },
    {
      "cell_type": "code",
      "source": [
        "trip_distance(train_df)\n",
        "trip_distance(val_df)"
      ],
      "metadata": {
        "id": "wc7mHSZPgBjO"
      },
      "execution_count": 30,
      "outputs": []
    },
    {
      "cell_type": "code",
      "source": [
        "train_df[((train_df.trip_distance >=8) | (train_df.trip_distance <= 4))]"
      ],
      "metadata": {
        "colab": {
          "base_uri": "https://localhost:8080/",
          "height": 661
        },
        "id": "_S6woAsaghWU",
        "outputId": "7f30ea0a-545e-46ca-bb94-765d1dd7e844"
      },
      "execution_count": 31,
      "outputs": [
        {
          "output_type": "execute_result",
          "data": {
            "text/plain": [
              "       fare_amount           pickup_datetime  pickup_longitude  \\\n",
              "39087    10.000000 2013-07-27 17:04:00+00:00        -73.974335   \n",
              "30893     4.000000 2013-01-08 09:26:00+00:00        -73.973656   \n",
              "45278     6.900000 2012-03-17 16:45:00+00:00        -73.975266   \n",
              "16398     7.700000 2012-06-08 09:01:17+00:00        -73.983032   \n",
              "13653     4.500000 2015-06-22 17:30:49+00:00        -73.986717   \n",
              "...            ...                       ...               ...   \n",
              "16850     7.500000 2014-12-05 18:00:56+00:00        -73.983727   \n",
              "11284     6.500000 2010-12-07 11:23:00+00:00        -73.980911   \n",
              "44732     3.700000 2009-06-30 22:39:25+00:00        -73.960564   \n",
              "38158    12.100000 2010-09-14 22:34:00+00:00        -73.974663   \n",
              "15795    57.330002 2013-07-09 07:26:00+00:00        -73.778679   \n",
              "\n",
              "       pickup_latitude  dropoff_longitude  dropoff_latitude  passenger_count  \\\n",
              "39087        40.791428         -73.979034         40.766365                5   \n",
              "30893        40.751633         -73.969948         40.756702                5   \n",
              "45278        40.752281         -73.995094         40.737499                4   \n",
              "16398        40.766785         -73.971947         40.789288                1   \n",
              "13653        40.771648         -73.982140         40.770699                1   \n",
              "...                ...                ...               ...              ...   \n",
              "16850        40.766174         -73.977547         40.777889                1   \n",
              "11284        40.767860         -73.980209         40.780342                1   \n",
              "44732        40.775860         -73.961830         40.771255                1   \n",
              "38158        40.751743         -73.995987         40.744347                2   \n",
              "15795        40.646664         -73.993683         40.752354                1   \n",
              "\n",
              "       pickup_datetime_year  pickup_datetime_month  pickup_datetime_day  \\\n",
              "39087                  2013                      7                   27   \n",
              "30893                  2013                      1                    8   \n",
              "45278                  2012                      3                   17   \n",
              "16398                  2012                      6                    8   \n",
              "13653                  2015                      6                   22   \n",
              "...                     ...                    ...                  ...   \n",
              "16850                  2014                     12                    5   \n",
              "11284                  2010                     12                    7   \n",
              "44732                  2009                      6                   30   \n",
              "38158                  2010                      9                   14   \n",
              "15795                  2013                      7                    9   \n",
              "\n",
              "       pickup_datetime_week  pickup_datetime_hour  trip_distance  \n",
              "39087                     5                    17       2.813101  \n",
              "30893                     1                     9       0.643929  \n",
              "45278                     5                    16       2.341894  \n",
              "16398                     4                     9       2.669228  \n",
              "13653                     0                    17       0.399969  \n",
              "...                     ...                   ...            ...  \n",
              "16850                     4                    18       1.401790  \n",
              "11284                     1                    11       1.388346  \n",
              "44732                     1                    22       0.522993  \n",
              "38158                     1                    22       1.974436  \n",
              "15795                     1                     7      21.587927  \n",
              "\n",
              "[33672 rows x 13 columns]"
            ],
            "text/html": [
              "\n",
              "  <div id=\"df-18010763-07e6-461c-b4d2-4c7c6119b6bd\">\n",
              "    <div class=\"colab-df-container\">\n",
              "      <div>\n",
              "<style scoped>\n",
              "    .dataframe tbody tr th:only-of-type {\n",
              "        vertical-align: middle;\n",
              "    }\n",
              "\n",
              "    .dataframe tbody tr th {\n",
              "        vertical-align: top;\n",
              "    }\n",
              "\n",
              "    .dataframe thead th {\n",
              "        text-align: right;\n",
              "    }\n",
              "</style>\n",
              "<table border=\"1\" class=\"dataframe\">\n",
              "  <thead>\n",
              "    <tr style=\"text-align: right;\">\n",
              "      <th></th>\n",
              "      <th>fare_amount</th>\n",
              "      <th>pickup_datetime</th>\n",
              "      <th>pickup_longitude</th>\n",
              "      <th>pickup_latitude</th>\n",
              "      <th>dropoff_longitude</th>\n",
              "      <th>dropoff_latitude</th>\n",
              "      <th>passenger_count</th>\n",
              "      <th>pickup_datetime_year</th>\n",
              "      <th>pickup_datetime_month</th>\n",
              "      <th>pickup_datetime_day</th>\n",
              "      <th>pickup_datetime_week</th>\n",
              "      <th>pickup_datetime_hour</th>\n",
              "      <th>trip_distance</th>\n",
              "    </tr>\n",
              "  </thead>\n",
              "  <tbody>\n",
              "    <tr>\n",
              "      <th>39087</th>\n",
              "      <td>10.000000</td>\n",
              "      <td>2013-07-27 17:04:00+00:00</td>\n",
              "      <td>-73.974335</td>\n",
              "      <td>40.791428</td>\n",
              "      <td>-73.979034</td>\n",
              "      <td>40.766365</td>\n",
              "      <td>5</td>\n",
              "      <td>2013</td>\n",
              "      <td>7</td>\n",
              "      <td>27</td>\n",
              "      <td>5</td>\n",
              "      <td>17</td>\n",
              "      <td>2.813101</td>\n",
              "    </tr>\n",
              "    <tr>\n",
              "      <th>30893</th>\n",
              "      <td>4.000000</td>\n",
              "      <td>2013-01-08 09:26:00+00:00</td>\n",
              "      <td>-73.973656</td>\n",
              "      <td>40.751633</td>\n",
              "      <td>-73.969948</td>\n",
              "      <td>40.756702</td>\n",
              "      <td>5</td>\n",
              "      <td>2013</td>\n",
              "      <td>1</td>\n",
              "      <td>8</td>\n",
              "      <td>1</td>\n",
              "      <td>9</td>\n",
              "      <td>0.643929</td>\n",
              "    </tr>\n",
              "    <tr>\n",
              "      <th>45278</th>\n",
              "      <td>6.900000</td>\n",
              "      <td>2012-03-17 16:45:00+00:00</td>\n",
              "      <td>-73.975266</td>\n",
              "      <td>40.752281</td>\n",
              "      <td>-73.995094</td>\n",
              "      <td>40.737499</td>\n",
              "      <td>4</td>\n",
              "      <td>2012</td>\n",
              "      <td>3</td>\n",
              "      <td>17</td>\n",
              "      <td>5</td>\n",
              "      <td>16</td>\n",
              "      <td>2.341894</td>\n",
              "    </tr>\n",
              "    <tr>\n",
              "      <th>16398</th>\n",
              "      <td>7.700000</td>\n",
              "      <td>2012-06-08 09:01:17+00:00</td>\n",
              "      <td>-73.983032</td>\n",
              "      <td>40.766785</td>\n",
              "      <td>-73.971947</td>\n",
              "      <td>40.789288</td>\n",
              "      <td>1</td>\n",
              "      <td>2012</td>\n",
              "      <td>6</td>\n",
              "      <td>8</td>\n",
              "      <td>4</td>\n",
              "      <td>9</td>\n",
              "      <td>2.669228</td>\n",
              "    </tr>\n",
              "    <tr>\n",
              "      <th>13653</th>\n",
              "      <td>4.500000</td>\n",
              "      <td>2015-06-22 17:30:49+00:00</td>\n",
              "      <td>-73.986717</td>\n",
              "      <td>40.771648</td>\n",
              "      <td>-73.982140</td>\n",
              "      <td>40.770699</td>\n",
              "      <td>1</td>\n",
              "      <td>2015</td>\n",
              "      <td>6</td>\n",
              "      <td>22</td>\n",
              "      <td>0</td>\n",
              "      <td>17</td>\n",
              "      <td>0.399969</td>\n",
              "    </tr>\n",
              "    <tr>\n",
              "      <th>...</th>\n",
              "      <td>...</td>\n",
              "      <td>...</td>\n",
              "      <td>...</td>\n",
              "      <td>...</td>\n",
              "      <td>...</td>\n",
              "      <td>...</td>\n",
              "      <td>...</td>\n",
              "      <td>...</td>\n",
              "      <td>...</td>\n",
              "      <td>...</td>\n",
              "      <td>...</td>\n",
              "      <td>...</td>\n",
              "      <td>...</td>\n",
              "    </tr>\n",
              "    <tr>\n",
              "      <th>16850</th>\n",
              "      <td>7.500000</td>\n",
              "      <td>2014-12-05 18:00:56+00:00</td>\n",
              "      <td>-73.983727</td>\n",
              "      <td>40.766174</td>\n",
              "      <td>-73.977547</td>\n",
              "      <td>40.777889</td>\n",
              "      <td>1</td>\n",
              "      <td>2014</td>\n",
              "      <td>12</td>\n",
              "      <td>5</td>\n",
              "      <td>4</td>\n",
              "      <td>18</td>\n",
              "      <td>1.401790</td>\n",
              "    </tr>\n",
              "    <tr>\n",
              "      <th>11284</th>\n",
              "      <td>6.500000</td>\n",
              "      <td>2010-12-07 11:23:00+00:00</td>\n",
              "      <td>-73.980911</td>\n",
              "      <td>40.767860</td>\n",
              "      <td>-73.980209</td>\n",
              "      <td>40.780342</td>\n",
              "      <td>1</td>\n",
              "      <td>2010</td>\n",
              "      <td>12</td>\n",
              "      <td>7</td>\n",
              "      <td>1</td>\n",
              "      <td>11</td>\n",
              "      <td>1.388346</td>\n",
              "    </tr>\n",
              "    <tr>\n",
              "      <th>44732</th>\n",
              "      <td>3.700000</td>\n",
              "      <td>2009-06-30 22:39:25+00:00</td>\n",
              "      <td>-73.960564</td>\n",
              "      <td>40.775860</td>\n",
              "      <td>-73.961830</td>\n",
              "      <td>40.771255</td>\n",
              "      <td>1</td>\n",
              "      <td>2009</td>\n",
              "      <td>6</td>\n",
              "      <td>30</td>\n",
              "      <td>1</td>\n",
              "      <td>22</td>\n",
              "      <td>0.522993</td>\n",
              "    </tr>\n",
              "    <tr>\n",
              "      <th>38158</th>\n",
              "      <td>12.100000</td>\n",
              "      <td>2010-09-14 22:34:00+00:00</td>\n",
              "      <td>-73.974663</td>\n",
              "      <td>40.751743</td>\n",
              "      <td>-73.995987</td>\n",
              "      <td>40.744347</td>\n",
              "      <td>2</td>\n",
              "      <td>2010</td>\n",
              "      <td>9</td>\n",
              "      <td>14</td>\n",
              "      <td>1</td>\n",
              "      <td>22</td>\n",
              "      <td>1.974436</td>\n",
              "    </tr>\n",
              "    <tr>\n",
              "      <th>15795</th>\n",
              "      <td>57.330002</td>\n",
              "      <td>2013-07-09 07:26:00+00:00</td>\n",
              "      <td>-73.778679</td>\n",
              "      <td>40.646664</td>\n",
              "      <td>-73.993683</td>\n",
              "      <td>40.752354</td>\n",
              "      <td>1</td>\n",
              "      <td>2013</td>\n",
              "      <td>7</td>\n",
              "      <td>9</td>\n",
              "      <td>1</td>\n",
              "      <td>7</td>\n",
              "      <td>21.587927</td>\n",
              "    </tr>\n",
              "  </tbody>\n",
              "</table>\n",
              "<p>33672 rows × 13 columns</p>\n",
              "</div>\n",
              "      <button class=\"colab-df-convert\" onclick=\"convertToInteractive('df-18010763-07e6-461c-b4d2-4c7c6119b6bd')\"\n",
              "              title=\"Convert this dataframe to an interactive table.\"\n",
              "              style=\"display:none;\">\n",
              "        \n",
              "  <svg xmlns=\"http://www.w3.org/2000/svg\" height=\"24px\"viewBox=\"0 0 24 24\"\n",
              "       width=\"24px\">\n",
              "    <path d=\"M0 0h24v24H0V0z\" fill=\"none\"/>\n",
              "    <path d=\"M18.56 5.44l.94 2.06.94-2.06 2.06-.94-2.06-.94-.94-2.06-.94 2.06-2.06.94zm-11 1L8.5 8.5l.94-2.06 2.06-.94-2.06-.94L8.5 2.5l-.94 2.06-2.06.94zm10 10l.94 2.06.94-2.06 2.06-.94-2.06-.94-.94-2.06-.94 2.06-2.06.94z\"/><path d=\"M17.41 7.96l-1.37-1.37c-.4-.4-.92-.59-1.43-.59-.52 0-1.04.2-1.43.59L10.3 9.45l-7.72 7.72c-.78.78-.78 2.05 0 2.83L4 21.41c.39.39.9.59 1.41.59.51 0 1.02-.2 1.41-.59l7.78-7.78 2.81-2.81c.8-.78.8-2.07 0-2.86zM5.41 20L4 18.59l7.72-7.72 1.47 1.35L5.41 20z\"/>\n",
              "  </svg>\n",
              "      </button>\n",
              "      \n",
              "  <style>\n",
              "    .colab-df-container {\n",
              "      display:flex;\n",
              "      flex-wrap:wrap;\n",
              "      gap: 12px;\n",
              "    }\n",
              "\n",
              "    .colab-df-convert {\n",
              "      background-color: #E8F0FE;\n",
              "      border: none;\n",
              "      border-radius: 50%;\n",
              "      cursor: pointer;\n",
              "      display: none;\n",
              "      fill: #1967D2;\n",
              "      height: 32px;\n",
              "      padding: 0 0 0 0;\n",
              "      width: 32px;\n",
              "    }\n",
              "\n",
              "    .colab-df-convert:hover {\n",
              "      background-color: #E2EBFA;\n",
              "      box-shadow: 0px 1px 2px rgba(60, 64, 67, 0.3), 0px 1px 3px 1px rgba(60, 64, 67, 0.15);\n",
              "      fill: #174EA6;\n",
              "    }\n",
              "\n",
              "    [theme=dark] .colab-df-convert {\n",
              "      background-color: #3B4455;\n",
              "      fill: #D2E3FC;\n",
              "    }\n",
              "\n",
              "    [theme=dark] .colab-df-convert:hover {\n",
              "      background-color: #434B5C;\n",
              "      box-shadow: 0px 1px 3px 1px rgba(0, 0, 0, 0.15);\n",
              "      filter: drop-shadow(0px 1px 2px rgba(0, 0, 0, 0.3));\n",
              "      fill: #FFFFFF;\n",
              "    }\n",
              "  </style>\n",
              "\n",
              "      <script>\n",
              "        const buttonEl =\n",
              "          document.querySelector('#df-18010763-07e6-461c-b4d2-4c7c6119b6bd button.colab-df-convert');\n",
              "        buttonEl.style.display =\n",
              "          google.colab.kernel.accessAllowed ? 'block' : 'none';\n",
              "\n",
              "        async function convertToInteractive(key) {\n",
              "          const element = document.querySelector('#df-18010763-07e6-461c-b4d2-4c7c6119b6bd');\n",
              "          const dataTable =\n",
              "            await google.colab.kernel.invokeFunction('convertToInteractive',\n",
              "                                                     [key], {});\n",
              "          if (!dataTable) return;\n",
              "\n",
              "          const docLinkHtml = 'Like what you see? Visit the ' +\n",
              "            '<a target=\"_blank\" href=https://colab.research.google.com/notebooks/data_table.ipynb>data table notebook</a>'\n",
              "            + ' to learn more about interactive tables.';\n",
              "          element.innerHTML = '';\n",
              "          dataTable['output_type'] = 'display_data';\n",
              "          await google.colab.output.renderOutput(dataTable, element);\n",
              "          const docLink = document.createElement('div');\n",
              "          docLink.innerHTML = docLinkHtml;\n",
              "          element.appendChild(docLink);\n",
              "        }\n",
              "      </script>\n",
              "    </div>\n",
              "  </div>\n",
              "  "
            ]
          },
          "metadata": {},
          "execution_count": 31
        }
      ]
    },
    {
      "cell_type": "markdown",
      "source": [
        "Distance from popular landmarks"
      ],
      "metadata": {
        "id": "NYJOJUPUgZFY"
      }
    },
    {
      "cell_type": "markdown",
      "source": [
        "- JFK airport\n",
        "- LGA Airport\n",
        "- EWR airport\n",
        "- WTC"
      ],
      "metadata": {
        "id": "EchDgMi7iiBU"
      }
    },
    {
      "cell_type": "code",
      "source": [
        "jfk_lonlat = -73.7781, 40.6413\n",
        "lga_lonlat = -73.8740, 40.7769\n",
        "ewr_lonlat = -74.1745, 40.6895\n",
        "wtc_lonlat = -74.0099, 40.7126"
      ],
      "metadata": {
        "id": "3ABzPPtIgVai"
      },
      "execution_count": 32,
      "outputs": []
    },
    {
      "cell_type": "markdown",
      "source": [
        "## Remove outlier and invalid data"
      ],
      "metadata": {
        "id": "YGVuu8BKlY-H"
      }
    },
    {
      "cell_type": "markdown",
      "source": [
        "- Fare amount\n",
        "- Passange count\n",
        "- Pickup latitude and longitude\n",
        "- drop latitude and longitude"
      ],
      "metadata": {
        "id": "reUGeAmMlvQw"
      }
    },
    {
      "cell_type": "code",
      "source": [
        "df.describe()"
      ],
      "metadata": {
        "colab": {
          "base_uri": "https://localhost:8080/",
          "height": 300
        },
        "id": "9kgD8OOji3Ik",
        "outputId": "44a5f99c-b9ce-40d1-a842-71145c21499e"
      },
      "execution_count": 33,
      "outputs": [
        {
          "output_type": "execute_result",
          "data": {
            "text/plain": [
              "        fare_amount  pickup_longitude  pickup_latitude  dropoff_longitude  \\\n",
              "count  50000.000000      50000.000000     50000.000000       50000.000000   \n",
              "mean      11.364215        -72.521416        39.931904         -72.517723   \n",
              "std        9.685438         10.392804         6.224685          10.406597   \n",
              "min       -5.000000        -75.423851       -74.006889         -84.654243   \n",
              "25%        6.000000        -73.992065        40.734879         -73.991150   \n",
              "50%        8.500000        -73.981842        40.752678         -73.980080   \n",
              "75%       12.500000        -73.967148        40.767361         -73.963585   \n",
              "max      200.000000         40.783470       401.083344          40.851028   \n",
              "\n",
              "       dropoff_latitude  passenger_count  \n",
              "count      50000.000000     50000.000000  \n",
              "mean          39.924244         1.667840  \n",
              "std            6.014816         1.289195  \n",
              "min          -74.006378         0.000000  \n",
              "25%           40.734371         1.000000  \n",
              "50%           40.753372         1.000000  \n",
              "75%           40.768166         2.000000  \n",
              "max           43.415192         6.000000  "
            ],
            "text/html": [
              "\n",
              "  <div id=\"df-b4844f8c-aa6f-4fec-944e-6cd58028d415\">\n",
              "    <div class=\"colab-df-container\">\n",
              "      <div>\n",
              "<style scoped>\n",
              "    .dataframe tbody tr th:only-of-type {\n",
              "        vertical-align: middle;\n",
              "    }\n",
              "\n",
              "    .dataframe tbody tr th {\n",
              "        vertical-align: top;\n",
              "    }\n",
              "\n",
              "    .dataframe thead th {\n",
              "        text-align: right;\n",
              "    }\n",
              "</style>\n",
              "<table border=\"1\" class=\"dataframe\">\n",
              "  <thead>\n",
              "    <tr style=\"text-align: right;\">\n",
              "      <th></th>\n",
              "      <th>fare_amount</th>\n",
              "      <th>pickup_longitude</th>\n",
              "      <th>pickup_latitude</th>\n",
              "      <th>dropoff_longitude</th>\n",
              "      <th>dropoff_latitude</th>\n",
              "      <th>passenger_count</th>\n",
              "    </tr>\n",
              "  </thead>\n",
              "  <tbody>\n",
              "    <tr>\n",
              "      <th>count</th>\n",
              "      <td>50000.000000</td>\n",
              "      <td>50000.000000</td>\n",
              "      <td>50000.000000</td>\n",
              "      <td>50000.000000</td>\n",
              "      <td>50000.000000</td>\n",
              "      <td>50000.000000</td>\n",
              "    </tr>\n",
              "    <tr>\n",
              "      <th>mean</th>\n",
              "      <td>11.364215</td>\n",
              "      <td>-72.521416</td>\n",
              "      <td>39.931904</td>\n",
              "      <td>-72.517723</td>\n",
              "      <td>39.924244</td>\n",
              "      <td>1.667840</td>\n",
              "    </tr>\n",
              "    <tr>\n",
              "      <th>std</th>\n",
              "      <td>9.685438</td>\n",
              "      <td>10.392804</td>\n",
              "      <td>6.224685</td>\n",
              "      <td>10.406597</td>\n",
              "      <td>6.014816</td>\n",
              "      <td>1.289195</td>\n",
              "    </tr>\n",
              "    <tr>\n",
              "      <th>min</th>\n",
              "      <td>-5.000000</td>\n",
              "      <td>-75.423851</td>\n",
              "      <td>-74.006889</td>\n",
              "      <td>-84.654243</td>\n",
              "      <td>-74.006378</td>\n",
              "      <td>0.000000</td>\n",
              "    </tr>\n",
              "    <tr>\n",
              "      <th>25%</th>\n",
              "      <td>6.000000</td>\n",
              "      <td>-73.992065</td>\n",
              "      <td>40.734879</td>\n",
              "      <td>-73.991150</td>\n",
              "      <td>40.734371</td>\n",
              "      <td>1.000000</td>\n",
              "    </tr>\n",
              "    <tr>\n",
              "      <th>50%</th>\n",
              "      <td>8.500000</td>\n",
              "      <td>-73.981842</td>\n",
              "      <td>40.752678</td>\n",
              "      <td>-73.980080</td>\n",
              "      <td>40.753372</td>\n",
              "      <td>1.000000</td>\n",
              "    </tr>\n",
              "    <tr>\n",
              "      <th>75%</th>\n",
              "      <td>12.500000</td>\n",
              "      <td>-73.967148</td>\n",
              "      <td>40.767361</td>\n",
              "      <td>-73.963585</td>\n",
              "      <td>40.768166</td>\n",
              "      <td>2.000000</td>\n",
              "    </tr>\n",
              "    <tr>\n",
              "      <th>max</th>\n",
              "      <td>200.000000</td>\n",
              "      <td>40.783470</td>\n",
              "      <td>401.083344</td>\n",
              "      <td>40.851028</td>\n",
              "      <td>43.415192</td>\n",
              "      <td>6.000000</td>\n",
              "    </tr>\n",
              "  </tbody>\n",
              "</table>\n",
              "</div>\n",
              "      <button class=\"colab-df-convert\" onclick=\"convertToInteractive('df-b4844f8c-aa6f-4fec-944e-6cd58028d415')\"\n",
              "              title=\"Convert this dataframe to an interactive table.\"\n",
              "              style=\"display:none;\">\n",
              "        \n",
              "  <svg xmlns=\"http://www.w3.org/2000/svg\" height=\"24px\"viewBox=\"0 0 24 24\"\n",
              "       width=\"24px\">\n",
              "    <path d=\"M0 0h24v24H0V0z\" fill=\"none\"/>\n",
              "    <path d=\"M18.56 5.44l.94 2.06.94-2.06 2.06-.94-2.06-.94-.94-2.06-.94 2.06-2.06.94zm-11 1L8.5 8.5l.94-2.06 2.06-.94-2.06-.94L8.5 2.5l-.94 2.06-2.06.94zm10 10l.94 2.06.94-2.06 2.06-.94-2.06-.94-.94-2.06-.94 2.06-2.06.94z\"/><path d=\"M17.41 7.96l-1.37-1.37c-.4-.4-.92-.59-1.43-.59-.52 0-1.04.2-1.43.59L10.3 9.45l-7.72 7.72c-.78.78-.78 2.05 0 2.83L4 21.41c.39.39.9.59 1.41.59.51 0 1.02-.2 1.41-.59l7.78-7.78 2.81-2.81c.8-.78.8-2.07 0-2.86zM5.41 20L4 18.59l7.72-7.72 1.47 1.35L5.41 20z\"/>\n",
              "  </svg>\n",
              "      </button>\n",
              "      \n",
              "  <style>\n",
              "    .colab-df-container {\n",
              "      display:flex;\n",
              "      flex-wrap:wrap;\n",
              "      gap: 12px;\n",
              "    }\n",
              "\n",
              "    .colab-df-convert {\n",
              "      background-color: #E8F0FE;\n",
              "      border: none;\n",
              "      border-radius: 50%;\n",
              "      cursor: pointer;\n",
              "      display: none;\n",
              "      fill: #1967D2;\n",
              "      height: 32px;\n",
              "      padding: 0 0 0 0;\n",
              "      width: 32px;\n",
              "    }\n",
              "\n",
              "    .colab-df-convert:hover {\n",
              "      background-color: #E2EBFA;\n",
              "      box-shadow: 0px 1px 2px rgba(60, 64, 67, 0.3), 0px 1px 3px 1px rgba(60, 64, 67, 0.15);\n",
              "      fill: #174EA6;\n",
              "    }\n",
              "\n",
              "    [theme=dark] .colab-df-convert {\n",
              "      background-color: #3B4455;\n",
              "      fill: #D2E3FC;\n",
              "    }\n",
              "\n",
              "    [theme=dark] .colab-df-convert:hover {\n",
              "      background-color: #434B5C;\n",
              "      box-shadow: 0px 1px 3px 1px rgba(0, 0, 0, 0.15);\n",
              "      filter: drop-shadow(0px 1px 2px rgba(0, 0, 0, 0.3));\n",
              "      fill: #FFFFFF;\n",
              "    }\n",
              "  </style>\n",
              "\n",
              "      <script>\n",
              "        const buttonEl =\n",
              "          document.querySelector('#df-b4844f8c-aa6f-4fec-944e-6cd58028d415 button.colab-df-convert');\n",
              "        buttonEl.style.display =\n",
              "          google.colab.kernel.accessAllowed ? 'block' : 'none';\n",
              "\n",
              "        async function convertToInteractive(key) {\n",
              "          const element = document.querySelector('#df-b4844f8c-aa6f-4fec-944e-6cd58028d415');\n",
              "          const dataTable =\n",
              "            await google.colab.kernel.invokeFunction('convertToInteractive',\n",
              "                                                     [key], {});\n",
              "          if (!dataTable) return;\n",
              "\n",
              "          const docLinkHtml = 'Like what you see? Visit the ' +\n",
              "            '<a target=\"_blank\" href=https://colab.research.google.com/notebooks/data_table.ipynb>data table notebook</a>'\n",
              "            + ' to learn more about interactive tables.';\n",
              "          element.innerHTML = '';\n",
              "          dataTable['output_type'] = 'display_data';\n",
              "          await google.colab.output.renderOutput(dataTable, element);\n",
              "          const docLink = document.createElement('div');\n",
              "          docLink.innerHTML = docLinkHtml;\n",
              "          element.appendChild(docLink);\n",
              "        }\n",
              "      </script>\n",
              "    </div>\n",
              "  </div>\n",
              "  "
            ]
          },
          "metadata": {},
          "execution_count": 33
        }
      ]
    },
    {
      "cell_type": "markdown",
      "source": [
        "we will use the following\n",
        "- longitudes: -75 to -72\n",
        "- latitudes: 40 to 42"
      ],
      "metadata": {
        "id": "QtRkaYDxmckY"
      }
    },
    {
      "cell_type": "code",
      "source": [
        "train_df.shape, val_df.shape"
      ],
      "metadata": {
        "colab": {
          "base_uri": "https://localhost:8080/"
        },
        "id": "bnMO-xjnqBmc",
        "outputId": "7123d0a4-c946-439e-c8d6-b3d6ecbed57d"
      },
      "execution_count": 34,
      "outputs": [
        {
          "output_type": "execute_result",
          "data": {
            "text/plain": [
              "((40000, 13), (10000, 13))"
            ]
          },
          "metadata": {},
          "execution_count": 34
        }
      ]
    },
    {
      "cell_type": "code",
      "source": [
        "def remove_outlier(df):\n",
        "  return df[(\n",
        "      (df.pickup_longitude>= -75) & (df.pickup_longitude<=-72) & (df.pickup_latitude>= 40) & (df.pickup_latitude <=42) & \n",
        "      (df.dropoff_latitude>=40) &(df.dropoff_latitude<=42)& (df.dropoff_longitude>=-75) &(df.dropoff_longitude<=-72) \n",
        "\n",
        "  )]"
      ],
      "metadata": {
        "id": "rauratLkmAaG"
      },
      "execution_count": 35,
      "outputs": []
    },
    {
      "cell_type": "code",
      "source": [
        "train_df = remove_outlier(train_df)\n",
        "val_df = remove_outlier(val_df)"
      ],
      "metadata": {
        "id": "BtApMcWNovnp"
      },
      "execution_count": 36,
      "outputs": []
    },
    {
      "cell_type": "code",
      "source": [
        "train_df.shape, val_df.shape"
      ],
      "metadata": {
        "colab": {
          "base_uri": "https://localhost:8080/"
        },
        "id": "KSVqgwo_ovk5",
        "outputId": "6e4ed71e-2099-42ed-9d5a-e19e72c3cd20"
      },
      "execution_count": 37,
      "outputs": [
        {
          "output_type": "execute_result",
          "data": {
            "text/plain": [
              "((39158, 13), (9795, 13))"
            ]
          },
          "metadata": {},
          "execution_count": 37
        }
      ]
    },
    {
      "cell_type": "markdown",
      "source": [
        "# Train & Evaluate different models"
      ],
      "metadata": {
        "id": "mM1-o35irEtx"
      }
    },
    {
      "cell_type": "markdown",
      "source": [
        "- Linear Regression\n",
        "- Random forests\n",
        "- XGBoost"
      ],
      "metadata": {
        "id": "k64KftgCrVG1"
      }
    },
    {
      "cell_type": "code",
      "source": [
        "train_df.columns"
      ],
      "metadata": {
        "colab": {
          "base_uri": "https://localhost:8080/"
        },
        "id": "6Ad0F-rAove_",
        "outputId": "16ddb050-9bf4-4484-c0d2-5000b75ebc99"
      },
      "execution_count": 39,
      "outputs": [
        {
          "output_type": "execute_result",
          "data": {
            "text/plain": [
              "Index(['fare_amount', 'pickup_datetime', 'pickup_longitude', 'pickup_latitude',\n",
              "       'dropoff_longitude', 'dropoff_latitude', 'passenger_count',\n",
              "       'pickup_datetime_year', 'pickup_datetime_month', 'pickup_datetime_day',\n",
              "       'pickup_datetime_week', 'pickup_datetime_hour', 'trip_distance'],\n",
              "      dtype='object')"
            ]
          },
          "metadata": {},
          "execution_count": 39
        }
      ]
    },
    {
      "cell_type": "code",
      "source": [
        "input_cols =[ 'pickup_longitude', 'pickup_latitude',\n",
        "       'dropoff_longitude', 'dropoff_latitude', 'passenger_count',\n",
        "       'pickup_datetime_year', 'pickup_datetime_month', 'pickup_datetime_day',\n",
        "       'pickup_datetime_week', 'pickup_datetime_hour', 'trip_distance']\n",
        "\n",
        "target_cols =['fare_amount']"
      ],
      "metadata": {
        "id": "OOglwZWXovcE"
      },
      "execution_count": 41,
      "outputs": []
    },
    {
      "cell_type": "code",
      "source": [
        "train_inputs = train_df[input_cols]\n",
        "train_targets = train_df[target_cols]\n",
        "\n",
        "val_inputs = val_df[input_cols]\n",
        "val_targets = val_df[target_cols]"
      ],
      "metadata": {
        "id": "8tprLznfZmfN"
      },
      "execution_count": 42,
      "outputs": []
    },
    {
      "cell_type": "code",
      "source": [
        "def evaluate(model):\n",
        "  train_preds = model.predict(train_inputs)\n",
        "  val_preds = model.predict(val_inputs)\n",
        "  train_rmse = mean_squared_error(train_targets, train_preds, squared=False)\n",
        "  val_rmse = mean_squared_error(val_targets, val_preds, squared=False)\n",
        "\n",
        "  return train_rmse, val_rmse, train_preds, val_preds"
      ],
      "metadata": {
        "id": "hfsGT0ttZmc1"
      },
      "execution_count": 50,
      "outputs": []
    },
    {
      "cell_type": "code",
      "source": [
        "## Linear regression\n",
        "\n",
        "model1 = LinearRegression()\n",
        "model1.fit(train_inputs, train_targets)"
      ],
      "metadata": {
        "colab": {
          "base_uri": "https://localhost:8080/"
        },
        "id": "Ds0tR5pGZmaE",
        "outputId": "40bfb5ec-4cc0-4504-8149-16921469dc95"
      },
      "execution_count": 44,
      "outputs": [
        {
          "output_type": "execute_result",
          "data": {
            "text/plain": [
              "LinearRegression()"
            ]
          },
          "metadata": {},
          "execution_count": 44
        }
      ]
    },
    {
      "cell_type": "code",
      "source": [
        "evaluate(model1)"
      ],
      "metadata": {
        "colab": {
          "base_uri": "https://localhost:8080/"
        },
        "id": "7B_sjXg6ZmXl",
        "outputId": "e6bdd5a3-0321-4eff-c54e-10cd5f045d08"
      },
      "execution_count": 51,
      "outputs": [
        {
          "output_type": "execute_result",
          "data": {
            "text/plain": [
              "(5.677216889594064, 6.135946392221846, array([[ 9.81290957],\n",
              "        [ 6.8938265 ],\n",
              "        [ 9.36002566],\n",
              "        ...,\n",
              "        [ 8.16200736],\n",
              "        [13.98067951],\n",
              "        [51.28399065]]), array([[10.2415437 ],\n",
              "        [21.47976393],\n",
              "        [ 7.18156925],\n",
              "        ...,\n",
              "        [ 9.42625427],\n",
              "        [33.87505085],\n",
              "        [ 6.77001337]]))"
            ]
          },
          "metadata": {},
          "execution_count": 51
        }
      ]
    },
    {
      "cell_type": "code",
      "source": [
        "# Random Forest\n",
        "model2 = RandomForestRegressor(random_state=42, n_jobs=-1, max_depth=5, n_estimators=50)"
      ],
      "metadata": {
        "id": "N8U1ri6lZmU1"
      },
      "execution_count": 76,
      "outputs": []
    },
    {
      "cell_type": "code",
      "source": [
        "%%time\n",
        "model2.fit(train_inputs, train_targets)"
      ],
      "metadata": {
        "colab": {
          "base_uri": "https://localhost:8080/"
        },
        "id": "WQ_BpHSpZmGs",
        "outputId": "90e9f268-2235-4db1-a79d-e279cc7cae0a"
      },
      "execution_count": 77,
      "outputs": [
        {
          "output_type": "stream",
          "name": "stderr",
          "text": [
            "/usr/local/lib/python3.7/dist-packages/ipykernel_launcher.py:1: DataConversionWarning: A column-vector y was passed when a 1d array was expected. Please change the shape of y to (n_samples,), for example using ravel().\n",
            "  \"\"\"Entry point for launching an IPython kernel.\n"
          ]
        },
        {
          "output_type": "stream",
          "name": "stdout",
          "text": [
            "CPU times: user 7.31 s, sys: 20.2 ms, total: 7.33 s\n",
            "Wall time: 4.57 s\n"
          ]
        },
        {
          "output_type": "execute_result",
          "data": {
            "text/plain": [
              "RandomForestRegressor(max_depth=5, n_estimators=50, n_jobs=-1, random_state=42)"
            ]
          },
          "metadata": {},
          "execution_count": 77
        }
      ]
    },
    {
      "cell_type": "code",
      "source": [
        "evaluate(model2)"
      ],
      "metadata": {
        "colab": {
          "base_uri": "https://localhost:8080/"
        },
        "id": "DQkD2rQRjXGJ",
        "outputId": "ed995dd6-158b-40a5-c9bd-9447d99759d0"
      },
      "execution_count": 78,
      "outputs": [
        {
          "output_type": "execute_result",
          "data": {
            "text/plain": [
              "(4.284449605695932,\n",
              " 4.816226139981735,\n",
              " array([10.63644462,  6.08036485,  8.55094999, ...,  7.32094728,\n",
              "        11.84028486, 53.57612585]),\n",
              " array([ 9.45627717, 27.38763752,  6.08036485, ...,  8.75517624,\n",
              "        29.49635755,  6.58497181]))"
            ]
          },
          "metadata": {},
          "execution_count": 78
        }
      ]
    },
    {
      "cell_type": "code",
      "source": [
        "## xgboost\n",
        "model3= XGBRegressor(n_estimators=50, n_jobs=-1, max_depth=3, objective='reg:squarederror', random_state=42)"
      ],
      "metadata": {
        "id": "fzYrSM8cjirb"
      },
      "execution_count": 73,
      "outputs": []
    },
    {
      "cell_type": "code",
      "source": [
        "model3.fit(train_inputs, train_targets)"
      ],
      "metadata": {
        "colab": {
          "base_uri": "https://localhost:8080/"
        },
        "id": "2oDEteEck9tE",
        "outputId": "2ffec564-c86e-4751-d66a-e1f00315de93"
      },
      "execution_count": 74,
      "outputs": [
        {
          "output_type": "execute_result",
          "data": {
            "text/plain": [
              "XGBRegressor(n_estimators=50, n_jobs=-1, objective='reg:squarederror',\n",
              "             random_state=42)"
            ]
          },
          "metadata": {},
          "execution_count": 74
        }
      ]
    },
    {
      "cell_type": "code",
      "source": [
        "evaluate(model3)"
      ],
      "metadata": {
        "colab": {
          "base_uri": "https://localhost:8080/"
        },
        "id": "U8XVX0pBlEXs",
        "outputId": "79c7dedf-1b89-4064-f796-912dbdfb487f"
      },
      "execution_count": 75,
      "outputs": [
        {
          "output_type": "execute_result",
          "data": {
            "text/plain": [
              "(4.0595284,\n",
              " 4.5863333,\n",
              " array([11.112277 ,  5.8606014,  9.027236 , ...,  7.582131 , 12.258968 ,\n",
              "        53.463707 ], dtype=float32),\n",
              " array([ 9.209679 , 25.01746  ,  5.8606014, ...,  8.788843 , 32.39144  ,\n",
              "         6.4587774], dtype=float32))"
            ]
          },
          "metadata": {},
          "execution_count": 75
        }
      ]
    },
    {
      "cell_type": "markdown",
      "source": [
        "# Hyperparameter tuning"
      ],
      "metadata": {
        "id": "dyj4F_MClrbR"
      }
    },
    {
      "cell_type": "code",
      "source": [
        ""
      ],
      "metadata": {
        "id": "ClKrheMalGx4"
      },
      "execution_count": null,
      "outputs": []
    }
  ]
}